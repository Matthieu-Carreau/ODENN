{
 "cells": [
  {
   "cell_type": "markdown",
   "metadata": {},
   "source": [
    "Implémentation de résolution numérique approchée de l'équation 1 :\n",
    "$\\frac{dy}{dx} = f(x,y), \n",
    "y(a) = A$\n",
    "à l'aide de la la méthode de descente de gradients sur la fonction d'erreur\n"
   ]
  },
  {
   "cell_type": "code",
   "execution_count": 13,
   "metadata": {},
   "outputs": [],
   "source": [
    "#imports\n",
    "from numpy import pi, cos, sin, dot, zeros, linspace, arange\n",
    "from numpy.random import randn"
   ]
  },
  {
   "cell_type": "markdown",
   "metadata": {},
   "source": [
    "Paramètres du modèle"
   ]
  },
  {
   "cell_type": "code",
   "execution_count": 14,
   "metadata": {},
   "outputs": [],
   "source": [
    "#nombre de coefficients de Fourier ajustables\n",
    "M = 10\n",
    "M_range = arange(M) + 1\n",
    "\n",
    "# nombre de points pour la variable indépendante\n",
    "N = 100\n",
    "X = linspace(0,1,N)"
   ]
  },
  {
   "cell_type": "markdown",
   "metadata": {},
   "source": [
    "Définition du gradient"
   ]
  },
  {
   "cell_type": "code",
   "execution_count": 15,
   "metadata": {},
   "outputs": [],
   "source": [
    "def calcGrad(A) :\n",
    "    #Calcule le gradient de l'erreur par rapport au vecteur\n",
    "    #des coefficients\n",
    "    grad = zeros((M))\n",
    "    V = cos(2*pi*X)\n",
    "    for m in range(1, M+1) :\n",
    "        for i in range(N) :\n",
    "            V[i] += 2*pi*m*A[m-1]*cos(2*pi*m*X[i])\n",
    "    for l in range(1, M+1) :\n",
    "        W = pi*l*cos(2*pi*l*X)\n",
    "        grad[l-1] = dot(V,W)\n",
    "    return grad"
   ]
  },
  {
   "cell_type": "markdown",
   "metadata": {},
   "source": [
    "Paramètres d'apprentissage"
   ]
  },
  {
   "cell_type": "code",
   "execution_count": 16,
   "metadata": {},
   "outputs": [],
   "source": [
    "alpha = 1e-5 #taux d'apprentissage pour la descente de gradients\n",
    "epochs = 1000 #nombre d'itération\n",
    "\n",
    "#initialisation des coefficients\n",
    "A = randn((M))"
   ]
  },
  {
   "cell_type": "markdown",
   "metadata": {},
   "source": [
    "Entraînement"
   ]
  },
  {
   "cell_type": "code",
   "execution_count": 17,
   "metadata": {},
   "outputs": [
    {
     "name": "stdout",
     "output_type": "stream",
     "text": [
      "Coefficients après 0 itérations : [ 0.27395343 -0.91915053  0.34538113 -1.22352381 -0.20884775  0.52616903\n",
      "  1.80334578  2.25662669 -1.19705469  1.40139722]\n",
      "Coefficients après 100 itérations : [ 0.00149605 -0.01790234 -0.00066131 -0.00054355 -0.00043674 -0.00036395\n",
      " -0.00031175 -0.0002726  -0.00024218 -0.00021786]\n",
      "Coefficients après 200 itérations : [-0.099908   -0.0009499  -0.00037056 -0.00026417 -0.00020651 -0.00016997\n",
      " -0.00014461 -0.00012593 -0.00011157 -0.00010018]\n",
      "Coefficients après 300 itérations : [-1.37327022e-01 -2.52161442e-04 -1.38536628e-04 -9.84335671e-05\n",
      " -7.68724622e-05 -6.32424584e-05 -5.37936299e-05 -4.68371374e-05\n",
      " -4.14926177e-05 -3.72534948e-05]\n",
      "Coefficients après 400 itérations : [-1.51113421e-01 -9.12036719e-05 -5.10724837e-05 -3.62826392e-05\n",
      " -2.83338916e-05 -2.33096069e-05 -1.98267703e-05 -1.72626849e-05\n",
      " -1.52927915e-05 -1.37303469e-05]\n",
      "Coefficients après 500 itérations : [-1.56192410e-01 -3.35705023e-05 -1.88159362e-05 -1.33670197e-05\n",
      " -1.04385697e-05 -8.58755010e-06 -7.30442561e-06 -6.35978293e-06\n",
      " -5.63404898e-06 -5.05842474e-06]\n",
      "Coefficients après 600 itérations : [-1.58063533e-01 -1.23670144e-05 -6.93188516e-06 -4.92447535e-06\n",
      " -3.84561968e-06 -3.16369494e-06 -2.69098561e-06 -2.34297465e-06\n",
      " -2.07561075e-06 -1.86354799e-06]\n",
      "Coefficients après 700 itérations : [-1.58752863e-01 -4.55605436e-06 -2.55373754e-06 -1.81419875e-06\n",
      " -1.41674348e-06 -1.16551936e-06 -9.91371126e-07 -8.63162334e-07\n",
      " -7.64664277e-07 -6.86539410e-07]\n",
      "Coefficients après 800 itérations : [-1.59006815e-01 -1.67847056e-06 -9.40808284e-07 -6.68358898e-07\n",
      " -5.21934609e-07 -4.29382522e-07 -3.65225538e-07 -3.17992848e-07\n",
      " -2.81705725e-07 -2.52924176e-07]\n",
      "Coefficients après 900 itérations : [-1.59100372e-01 -6.18356026e-07 -3.46597961e-07 -2.46226394e-07\n",
      " -1.92283034e-07 -1.58186433e-07 -1.34550714e-07 -1.17149981e-07\n",
      " -1.03781643e-07 -9.31783927e-08]\n"
     ]
    }
   ],
   "source": [
    "for k in range(epochs) :\n",
    "    if k%100==0 :\n",
    "        print(\"Coefficients après\",k,\"itérations :\",A)\n",
    "    A -= alpha*calcGrad(A)"
   ]
  },
  {
   "cell_type": "markdown",
   "metadata": {},
   "source": [
    "Affichage des résultats"
   ]
  },
  {
   "cell_type": "code",
   "execution_count": 18,
   "metadata": {},
   "outputs": [
    {
     "name": "stdout",
     "output_type": "stream",
     "text": [
      "\n",
      "Coefficients finaux après 1000 itérations : [-1.59134839e-01 -2.27805113e-07 -1.27688232e-07 -9.07108999e-08\n",
      " -7.08379259e-08 -5.82765863e-08 -4.95690823e-08 -4.31585747e-08\n",
      " -3.82336195e-08 -3.43273348e-08]\n"
     ]
    }
   ],
   "source": [
    "print()\n",
    "print(\"Coefficients finaux après\",epochs,\"itérations :\",A)"
   ]
  }
 ],
 "metadata": {
  "kernelspec": {
   "display_name": "Python 3.8.10 64-bit",
   "language": "python",
   "name": "python3"
  },
  "language_info": {
   "codemirror_mode": {
    "name": "ipython",
    "version": 3
   },
   "file_extension": ".py",
   "mimetype": "text/x-python",
   "name": "python",
   "nbconvert_exporter": "python",
   "pygments_lexer": "ipython3",
   "version": "3.8.10"
  },
  "orig_nbformat": 4,
  "vscode": {
   "interpreter": {
    "hash": "916dbcbb3f70747c44a77c7bcd40155683ae19c65e1c03b4aa3499c5328201f1"
   }
  }
 },
 "nbformat": 4,
 "nbformat_minor": 2
}
