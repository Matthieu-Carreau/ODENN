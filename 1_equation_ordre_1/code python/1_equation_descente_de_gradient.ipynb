{
 "cells": [
  {
   "cell_type": "markdown",
   "metadata": {},
   "source": [
    "Implémentation de résolution numérique approchée de l'équation 1 :\n",
    "$\\frac{dy}{dx} = f(x,y), \n",
    "y(a) = A$\n",
    "à l'aide de la la méthode de descente de gradients sur la fonction d'erreur\n"
   ]
  },
  {
   "cell_type": "code",
   "execution_count": 290,
   "metadata": {},
   "outputs": [],
   "source": [
    "#imports\n",
    "from numpy import pi, cos, sin, dot, zeros, linspace, arange, matmul\n",
    "from numpy.random import randn\n",
    "\n",
    "from matplotlib.pyplot import plot, show, yscale, legend, savefig"
   ]
  },
  {
   "cell_type": "markdown",
   "metadata": {},
   "source": [
    "Paramètres du modèle"
   ]
  },
  {
   "cell_type": "code",
   "execution_count": 291,
   "metadata": {},
   "outputs": [],
   "source": [
    "#nombre de coefficients de Fourier ajustables\n",
    "M = 10\n",
    "M_range = arange(M) + 1\n",
    "\n",
    "# nombre de points pour la variable indépendante\n",
    "N = 100\n",
    "X = linspace(0,1,N)"
   ]
  },
  {
   "cell_type": "markdown",
   "metadata": {},
   "source": [
    "Définition du gradient"
   ]
  },
  {
   "cell_type": "code",
   "execution_count": 292,
   "metadata": {},
   "outputs": [],
   "source": [
    "def calcGrad(A, M, N, X) :\n",
    "    #Calcule le gradient de l'erreur par rapport au vecteur\n",
    "    #des coefficients\n",
    "    grad = zeros((M))\n",
    "    V = cos(2*pi*X)\n",
    "    for m in range(1, M+1) :\n",
    "        for i in range(N) :\n",
    "            V[i] += 2*pi*m*A[m-1]*cos(2*pi*m*X[i])\n",
    "    for l in range(1, M+1) :\n",
    "        W = pi*l*cos(2*pi*l*X)\n",
    "        grad[l-1] = dot(V,W)\n",
    "    return grad"
   ]
  },
  {
   "cell_type": "markdown",
   "metadata": {},
   "source": [
    "Calcul matriciel du gradient"
   ]
  },
  {
   "cell_type": "code",
   "execution_count": 293,
   "metadata": {},
   "outputs": [],
   "source": [
    "mat = zeros((M,M))\n",
    "\n",
    "for l in range(1,M+1) :\n",
    "    for m in range(1,M+1) :\n",
    "        mat[m-1,l-1] = m*l*dot(cos(2*pi*m*X), cos(2*pi*l*X))\n",
    "mat *= 2*pi\n",
    "\n",
    "b = zeros(M)\n",
    "for l in range(1,M+1) :\n",
    "    b[l-1] = -l*dot(cos(2*pi*X), cos(2*pi*l*X))\n",
    "d = -b\n",
    "\n",
    "def calcGrad_mat(A, mat, d) :\n",
    "    return matmul(mat, A) + d"
   ]
  },
  {
   "cell_type": "markdown",
   "metadata": {},
   "source": [
    "Calcul de l'erreur"
   ]
  },
  {
   "cell_type": "code",
   "execution_count": 294,
   "metadata": {},
   "outputs": [],
   "source": [
    "def calcError(A, M, N, X) :\n",
    "    E = 0\n",
    "    for i in range(N) :\n",
    "        e = 0\n",
    "        for m in range(1,M+1) :\n",
    "            e+=m*A[m-1]*cos(2*pi*m*X[i])\n",
    "        e *= 2*pi\n",
    "        e+= cos(2*pi*X[i])\n",
    "        E += e**2\n",
    "\n",
    "    E *=0.5\n",
    "    return E"
   ]
  },
  {
   "cell_type": "markdown",
   "metadata": {},
   "source": [
    "Paramètres d'apprentissage"
   ]
  },
  {
   "cell_type": "code",
   "execution_count": 295,
   "metadata": {},
   "outputs": [],
   "source": [
    "alpha_min = 6.21894189418942e-05 #taux d'apprentissage pour la descente de gradients\n",
    "alpha_1 = 6.280708070807081e-05 #taux d'apprentissage pour la descente de gradients\n",
    "alpha_ = 6.3e-5\n",
    "epochs = 4000 #nombre d'itération\n",
    "\n",
    "#initialisation des coefficients\n",
    "A_min = randn((M))\n",
    "A_1 = randn((M))\n",
    "A_ = randn((M))"
   ]
  },
  {
   "cell_type": "markdown",
   "metadata": {},
   "source": [
    "Entraînement"
   ]
  },
  {
   "cell_type": "code",
   "execution_count": 296,
   "metadata": {},
   "outputs": [],
   "source": [
    "E_min = []\n",
    "E_1 = []\n",
    "E_ = []\n",
    "\n",
    "for k in range(epochs) :\n",
    "    if k%(epochs//100)==0 :\n",
    "        #print(\"Coefficients après\",k,\"itérations :\",A)\n",
    "        E_min.append(calcError(A_min,M,N,X))\n",
    "        E_1.append(calcError(A_1,M,N,X))\n",
    "        E_.append(calcError(A_,M,N,X))\n",
    "\n",
    "    A_min -= alpha_min*calcGrad_mat(A_min, mat, d)\n",
    "    A_1 -= alpha_1*calcGrad_mat(A_1, mat, d)\n",
    "    A_ -= alpha_*calcGrad_mat(A_, mat, d)\n",
    "\n",
    "E_min.append(calcError(A_min,M,N,X))\n",
    "E_1.append(calcError(A_1,M,N,X))\n",
    "E_.append(calcError(A_,M,N,X))"
   ]
  },
  {
   "cell_type": "markdown",
   "metadata": {},
   "source": [
    "Affichage des résultats"
   ]
  },
  {
   "cell_type": "code",
   "execution_count": 297,
   "metadata": {},
   "outputs": [
    {
     "name": "stdout",
     "output_type": "stream",
     "text": [
      "\n",
      "Coefficients finaux A_min après 4000 itérations : [-1.59154943e-01  1.44234023e-19 -2.65577547e-19  5.06552858e-20\n",
      " -9.04867142e-20 -1.13446375e-19 -1.02374682e-19 -1.21933038e-19\n",
      " -2.89537286e-19 -1.33947042e-18]\n",
      "Coefficients finaux A_1 après 4000 itérations : [-0.15945205 -0.00061233 -0.00096768 -0.00139479 -0.00194625 -0.0027225\n",
      " -0.00394971 -0.00627791 -0.01267711 -0.12630111]\n",
      "Coefficients finaux A_ après 4000 itérations : [-9.97366381e+07 -2.05555709e+08 -3.24842303e+08 -4.68220175e+08\n",
      " -6.53343714e+08 -9.13923488e+08 -1.32588978e+09 -2.10744981e+09\n",
      " -4.25561690e+09 -4.23983899e+10]\n"
     ]
    }
   ],
   "source": [
    "print()\n",
    "print(\"Coefficients finaux A_min après\",epochs,\"itérations :\",A_min)\n",
    "print(\"Coefficients finaux A_1 après\",epochs,\"itérations :\",A_1)\n",
    "print(\"Coefficients finaux A_ après\",epochs,\"itérations :\",A_)"
   ]
  },
  {
   "cell_type": "markdown",
   "metadata": {},
   "source": [
    "Affichage graphique de l'erreur"
   ]
  },
  {
   "cell_type": "code",
   "execution_count": 298,
   "metadata": {},
   "outputs": [
    {
     "data": {
      "image/png": "[encoded data removed]",
      "text/plain": [
       "<Figure size 432x288 with 1 Axes>"
      ]
     },
     "metadata": {
      "needs_background": "light"
     },
     "output_type": "display_data"
    }
   ],
   "source": [
    "plot([40*k for k in range(101)], E_min, label = 'alpha_min')\n",
    "plot([40*k for k in range(101)], E_1, label = 'alpha_c')\n",
    "plot([40*k for k in range(101)], E_, label = 'alpha trop grand')\n",
    "yscale('log')\n",
    "legend()\n",
    "savefig(\"comparaison_erreurs_selon_alpha_1D.jpg\")\n",
    "show()"
   ]
  },
  {
   "cell_type": "markdown",
   "metadata": {},
   "source": [
    "Affichage des résultats"
   ]
  },
  {
   "cell_type": "code",
   "execution_count": 299,
   "metadata": {},
   "outputs": [
    {
     "data": {
      "image/png": "[encoded data removed]",
      "text/plain": [
       "<Figure size 432x288 with 1 Axes>"
      ]
     },
     "metadata": {
      "needs_background": "light"
     },
     "output_type": "display_data"
    },
    {
     "data": {
      "image/png": "[encoded data removed]",
      "text/plain": [
       "<Figure size 432x288 with 1 Axes>"
      ]
     },
     "metadata": {
      "needs_background": "light"
     },
     "output_type": "display_data"
    }
   ],
   "source": [
    "from matplotlib.pyplot import scatter, show, yscale, savefig\n",
    "\n",
    "#erreur relative sur le premier coefficient\n",
    "#valeurs théoriques :\n",
    "A_th = zeros((M))\n",
    "A_th[0] = -1/(2*pi)\n",
    "\n",
    "erreur = abs(A_min-A_th)\n",
    "\n",
    "scatter(range(1, M+1), A_min)\n",
    "savefig('coefs_1_DG.jpg')\n",
    "show()\n",
    "\n",
    "scatter(range(1, M+1), erreur)\n",
    "yscale('log')\n",
    "savefig('coefs_1_DG_erreur.jpg')\n",
    "show()\n"
   ]
  }
 ],
 "metadata": {
  "kernelspec": {
   "display_name": "Python 3.8.10 64-bit",
   "language": "python",
   "name": "python3"
  },
  "language_info": {
   "codemirror_mode": {
    "name": "ipython",
    "version": 3
   },
   "file_extension": ".py",
   "mimetype": "text/x-python",
   "name": "python",
   "nbconvert_exporter": "python",
   "pygments_lexer": "ipython3",
   "version": "3.8.10"
  },
  "orig_nbformat": 4,
  "vscode": {
   "interpreter": {
    "hash": "916dbcbb3f70747c44a77c7bcd40155683ae19c65e1c03b4aa3499c5328201f1"
   }
  }
 },
 "nbformat": 4,
 "nbformat_minor": 2
}
