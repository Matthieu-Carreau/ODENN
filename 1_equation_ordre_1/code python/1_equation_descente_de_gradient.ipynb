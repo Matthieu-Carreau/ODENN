{
 "cells": [
  {
   "cell_type": "markdown",
   "metadata": {},
   "source": [
    "Implémentation de résolution numérique approchée de l'équation 1 :\n",
    "$\\frac{dy}{dx} = f(x,y), \n",
    "y(a) = A$\n",
    "à l'aide de la la méthode de descente de gradients sur la fonction d'erreur\n"
   ]
  },
  {
   "cell_type": "code",
   "execution_count": 176,
   "metadata": {},
   "outputs": [],
   "source": [
    "#imports\n",
    "from numpy import pi, cos, sin, dot, zeros, linspace, arange, matmul\n",
    "from numpy.random import randn\n",
    "\n",
    "from matplotlib.pyplot import plot, show, yscale, legend, savefig"
   ]
  },
  {
   "cell_type": "markdown",
   "metadata": {},
   "source": [
    "Paramètres du modèle"
   ]
  },
  {
   "cell_type": "code",
   "execution_count": 177,
   "metadata": {},
   "outputs": [],
   "source": [
    "#nombre de coefficients de Fourier ajustables\n",
    "M = 10\n",
    "M_range = arange(M) + 1\n",
    "\n",
    "# nombre de points pour la variable indépendante\n",
    "N = 100\n",
    "X = linspace(0,1,N, endpoint=False)"
   ]
  },
  {
   "cell_type": "markdown",
   "metadata": {},
   "source": [
    "Définition du gradient"
   ]
  },
  {
   "cell_type": "code",
   "execution_count": 178,
   "metadata": {},
   "outputs": [],
   "source": [
    "def calcGrad(A, M, N, X) :\n",
    "    #Calcule le gradient de l'erreur par rapport au vecteur\n",
    "    #des coefficients\n",
    "    grad = zeros((M))\n",
    "    V = cos(2*pi*X)\n",
    "    for m in range(1, M+1) :\n",
    "        for i in range(N) :\n",
    "            V[i] += 2*pi*m*A[m-1]*cos(2*pi*m*X[i])\n",
    "    for l in range(1, M+1) :\n",
    "        W = pi*l*cos(2*pi*l*X)\n",
    "        grad[l-1] = dot(V,W)\n",
    "    return grad"
   ]
  },
  {
   "cell_type": "markdown",
   "metadata": {},
   "source": [
    "Calcul matriciel du gradient"
   ]
  },
  {
   "cell_type": "code",
   "execution_count": 179,
   "metadata": {},
   "outputs": [],
   "source": [
    "mat = zeros((M,M))\n",
    "\n",
    "for l in range(1,M+1) :\n",
    "    for m in range(1,M+1) :\n",
    "        mat[m-1,l-1] = m*l*dot(cos(2*pi*m*X), cos(2*pi*l*X))\n",
    "mat *= 2*pi\n",
    "\n",
    "b = zeros(M)\n",
    "for l in range(1,M+1) :\n",
    "    b[l-1] = -l*dot(cos(2*pi*X), cos(2*pi*l*X))\n",
    "d = -b\n",
    "\n",
    "def calcGrad_mat(A, mat, d) :\n",
    "    return matmul(mat, A) + d"
   ]
  },
  {
   "cell_type": "markdown",
   "metadata": {},
   "source": [
    "Calcul de l'erreur"
   ]
  },
  {
   "cell_type": "code",
   "execution_count": 180,
   "metadata": {},
   "outputs": [],
   "source": [
    "def calcError(A, M, N, X) :\n",
    "    E = 0\n",
    "    for i in range(N) :\n",
    "        e = 0\n",
    "        for m in range(1,M+1) :\n",
    "            e+=m*A[m-1]*cos(2*pi*m*X[i])\n",
    "        e *= 2*pi\n",
    "        e+= cos(2*pi*X[i])\n",
    "        E += e**2\n",
    "\n",
    "    E *=0.5\n",
    "    return E"
   ]
  },
  {
   "cell_type": "markdown",
   "metadata": {},
   "source": [
    "Paramètres d'apprentissage"
   ]
  },
  {
   "cell_type": "code",
   "execution_count": 181,
   "metadata": {},
   "outputs": [],
   "source": [
    "alpha_min = 6.21894189418942e-05 #taux d'apprentissage pour la descente de gradients\n",
    "alph_1 = 6.280708070807081e-05 #taux d'apprentissage pour la descente de gradients\n",
    "epochs = 10000 #nombre d'itération\n",
    "\n",
    "#initialisation des coefficients\n",
    "A_min = randn((M))\n",
    "A_1 = randn((M))"
   ]
  },
  {
   "cell_type": "markdown",
   "metadata": {},
   "source": [
    "Entraînement"
   ]
  },
  {
   "cell_type": "code",
   "execution_count": 182,
   "metadata": {},
   "outputs": [],
   "source": [
    "E_min = []\n",
    "E_1 = []\n",
    "\n",
    "for k in range(epochs) :\n",
    "    if k%(epochs//100)==0 :\n",
    "        #print(\"Coefficients après\",k,\"itérations :\",A)\n",
    "        E_min.append(calcError(A_min,M,N,X))\n",
    "        E_1.append(calcError(A_1,M,N,X))\n",
    "\n",
    "    A_min -= alpha_min*calcGrad_mat(A_min, mat, d)\n",
    "    A_1 -= alpha_min*calcGrad_mat(A_1, mat, d)\n",
    "\n",
    "E_min.append(calcError(A_min,M,N,X))\n",
    "E_1.append(calcError(A_1,M,N,X))"
   ]
  },
  {
   "cell_type": "markdown",
   "metadata": {},
   "source": [
    "Affichage des résultats"
   ]
  },
  {
   "cell_type": "code",
   "execution_count": 183,
   "metadata": {},
   "outputs": [
    {
     "name": "stdout",
     "output_type": "stream",
     "text": [
      "\n",
      "Coefficients finaux A_min après 10000 itérations : [-1.59154943e-01 -4.44934716e-18 -3.10424070e-18 -2.22717858e-18\n",
      " -1.73071810e-18 -1.46797176e-18 -1.29758642e-18 -1.08809976e-18\n",
      " -1.03503004e-18 -6.33770443e-19]\n",
      "Coefficients finaux A_1 après 10000 itérations : [-1.59154943e-01 -5.46011032e-18 -3.88018767e-18 -2.72759918e-18\n",
      " -2.14871931e-18 -1.85827831e-18 -1.55067315e-18 -1.46517325e-18\n",
      " -1.53946447e-18 -3.90979373e-18]\n"
     ]
    }
   ],
   "source": [
    "print()\n",
    "print(\"Coefficients finaux A_min après\",epochs,\"itérations :\",A_min)\n",
    "print(\"Coefficients finaux A_1 après\",epochs,\"itérations :\",A_1)"
   ]
  },
  {
   "cell_type": "markdown",
   "metadata": {},
   "source": [
    "Affichage graphique de l'erreur"
   ]
  },
  {
   "cell_type": "code",
   "execution_count": 186,
   "metadata": {},
   "outputs": [
    {
     "data": {
      "image/png": "[encoded data removed]",
      "text/plain": [
       "<Figure size 432x288 with 1 Axes>"
      ]
     },
     "metadata": {
      "needs_background": "light"
     },
     "output_type": "display_data"
    }
   ],
   "source": [
    "plot(range(101), E_min, label = 'E_min')\n",
    "plot(range(101), E_1, label = 'E_1')\n",
    "yscale('log')\n",
    "legend()\n",
    "savefig(\"comparaison_erreurs_selon_alpha.jpg\")\n",
    "show()"
   ]
  },
  {
   "cell_type": "code",
   "execution_count": 185,
   "metadata": {},
   "outputs": [],
   "source": [
    "#print((A[0]+(1/2/pi)), (A[0]+(1/2/pi))*2*pi)"
   ]
  }
 ],
 "metadata": {
  "kernelspec": {
   "display_name": "Python 3.8.10 64-bit",
   "language": "python",
   "name": "python3"
  },
  "language_info": {
   "codemirror_mode": {
    "name": "ipython",
    "version": 3
   },
   "file_extension": ".py",
   "mimetype": "text/x-python",
   "name": "python",
   "nbconvert_exporter": "python",
   "pygments_lexer": "ipython3",
   "version": "3.8.10"
  },
  "orig_nbformat": 4,
  "vscode": {
   "interpreter": {
    "hash": "916dbcbb3f70747c44a77c7bcd40155683ae19c65e1c03b4aa3499c5328201f1"
   }
  }
 },
 "nbformat": 4,
 "nbformat_minor": 2
}
