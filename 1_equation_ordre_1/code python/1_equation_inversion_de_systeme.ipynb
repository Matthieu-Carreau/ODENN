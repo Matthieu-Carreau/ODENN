{
 "cells": [
  {
   "cell_type": "markdown",
   "metadata": {},
   "source": [
    "Implémentation de résolution numérique approchée de l'équation 1 :\n",
    "$\\frac{dy}{dx} = f(x,y), \n",
    "y(a) = A$\n",
    "à l'aide de la résolution du système linéaire correspondant à l'annulation des dérivées partielles de la fonction d'erreur"
   ]
  },
  {
   "cell_type": "code",
   "execution_count": 5,
   "metadata": {},
   "outputs": [],
   "source": [
    "#imports\n",
    "from numpy import pi, cos, sin, dot, zeros, linspace, matmul\n",
    "from numpy.linalg import inv"
   ]
  },
  {
   "cell_type": "markdown",
   "metadata": {},
   "source": [
    "Paramètres du modèle"
   ]
  },
  {
   "cell_type": "code",
   "execution_count": 6,
   "metadata": {},
   "outputs": [],
   "source": [
    "#nombre de coefficients de Fourier ajustables\n",
    "M = 50\n",
    "# nombre de points pour la variable indépendante\n",
    "N = 100\n",
    "#liste des points de test\n",
    "X = linspace(0,1,N)"
   ]
  },
  {
   "cell_type": "markdown",
   "metadata": {},
   "source": [
    "Matrice représentant le système linéaire"
   ]
  },
  {
   "cell_type": "code",
   "execution_count": 7,
   "metadata": {},
   "outputs": [],
   "source": [
    "mat = zeros((M,M))\n",
    "\n",
    "for l in range(1,M+1) :\n",
    "    for m in range(1,M+1) :\n",
    "        mat[m-1,l-1] = m*l*dot(cos(2*pi*m*X), cos(2*pi*l*X))\n",
    "mat *= 2*pi"
   ]
  },
  {
   "cell_type": "markdown",
   "metadata": {},
   "source": [
    "Vecteur b"
   ]
  },
  {
   "cell_type": "code",
   "execution_count": 8,
   "metadata": {},
   "outputs": [],
   "source": [
    "b = zeros(M)\n",
    "for l in range(1,M+1) :\n",
    "    b[l-1] = -l*dot(cos(2*pi*X), cos(2*pi*l*X))\n"
   ]
  },
  {
   "cell_type": "markdown",
   "metadata": {},
   "source": [
    "Résolution du système"
   ]
  },
  {
   "cell_type": "code",
   "execution_count": 9,
   "metadata": {},
   "outputs": [],
   "source": [
    "mat_inv = inv(mat)\n",
    "A = matmul(mat_inv,b)"
   ]
  },
  {
   "cell_type": "markdown",
   "metadata": {},
   "source": [
    "Résultats obtenus :"
   ]
  },
  {
   "cell_type": "code",
   "execution_count": 10,
   "metadata": {},
   "outputs": [
    {
     "name": "stdout",
     "output_type": "stream",
     "text": [
      "Coefficients trouvés : [-1.59137544e-01  3.06081476e-06  2.22598999e-06  2.08627603e-06\n",
      "  1.31038527e-06  1.62730603e-06  1.93315900e-06  3.29222917e-07\n",
      "  2.39234450e-06  1.49638618e-06 -1.98452852e-07  2.28499461e-06\n",
      "  9.99735971e-07  2.00748365e-06  1.67641222e-06  5.74129381e-07\n",
      "  1.20741127e-06 -3.56893478e-08  7.05749795e-07  8.36093821e-07\n",
      "  1.88528176e-06  1.31225992e-06  1.15017688e-06  3.92154559e-07\n",
      "  1.34969655e-06  1.06111787e-06  1.29928626e-07  3.98727397e-07\n",
      "  5.22950834e-07  6.52098095e-07  4.07340934e-08  5.46040558e-08\n",
      "  3.19296544e-07  4.58245830e-07  3.41432382e-07  1.42991893e-07\n",
      "  3.60879991e-07  2.31303415e-07  2.23742178e-07  3.68816227e-07\n",
      "  5.15908305e-07  3.42061313e-07  4.90062073e-07  3.68810025e-07\n",
      "  4.12307451e-07  2.71084228e-07  3.35154835e-07  2.37992895e-07\n",
      "  7.37809070e-05 -8.99061561e-05]\n"
     ]
    }
   ],
   "source": [
    "print(\"Coefficients trouvés :\",A)"
   ]
  }
 ],
 "metadata": {
  "kernelspec": {
   "display_name": "Python 3.8.10 64-bit",
   "language": "python",
   "name": "python3"
  },
  "language_info": {
   "codemirror_mode": {
    "name": "ipython",
    "version": 3
   },
   "file_extension": ".py",
   "mimetype": "text/x-python",
   "name": "python",
   "nbconvert_exporter": "python",
   "pygments_lexer": "ipython3",
   "version": "3.8.10"
  },
  "orig_nbformat": 4,
  "vscode": {
   "interpreter": {
    "hash": "916dbcbb3f70747c44a77c7bcd40155683ae19c65e1c03b4aa3499c5328201f1"
   }
  }
 },
 "nbformat": 4,
 "nbformat_minor": 2
}
