{
 "cells": [
  {
   "cell_type": "markdown",
   "metadata": {},
   "source": [
    "Notebook correspondant à la section 2.3 du rapport.\n",
    "Implémentation de résolution numérique approchée de l'équation :\n",
    "$\\frac{dM}{dt} = f(t,M), \n",
    "M(0) = M_0$\n",
    "à l'aide d'un réseau de neurones avec une couche cachée et des\n",
    "fonctions d'activation sigmoid"
   ]
  },
  {
   "cell_type": "code",
   "execution_count": 485,
   "metadata": {},
   "outputs": [],
   "source": [
    "#imports\n",
    "from numpy import pi, cos, sin, dot, zeros, linspace, sum, array, arange, concatenate, exp, log\n",
    "from numpy import sum as np_sum\n",
    "from numpy.random import randn\n",
    "from numpy import math\n",
    "from matplotlib.pyplot import plot, legend, title, show"
   ]
  },
  {
   "cell_type": "markdown",
   "metadata": {},
   "source": [
    "Données du problème"
   ]
  },
  {
   "cell_type": "code",
   "execution_count": 486,
   "metadata": {},
   "outputs": [],
   "source": [
    "#bornes de l'intervalle\n",
    "t_a = 0\n",
    "t_b = 1\n",
    "\n",
    "W=2*pi\n",
    "\n",
    "#condition initiale\n",
    "M_0 = 0\n",
    "\n",
    "#fonction définissant l'équation différentielle\n",
    "def f(t,M,W) :\n",
    "    return -cos(W*t)\n",
    "\n",
    "def df_dM(t,M,W) :\n",
    "    \"\"\"renvoie df/dM (t,M)\"\"\"\n",
    "    return 0\n",
    "    "
   ]
  },
  {
   "cell_type": "markdown",
   "metadata": {},
   "source": [
    "Fonctions calculant respectivement la sortie du réseau de neurones, l'erreur, et le gradient de l'erreur"
   ]
  },
  {
   "cell_type": "code",
   "execution_count": 487,
   "metadata": {},
   "outputs": [],
   "source": [
    "def M(Mat_T, M_0, A, H, N) :\n",
    "    #Calcule la sortie du réseau de neurones\n",
    "    return M_0 + array([dot(A, Mat_T[1:,i]) for i in range(N)])\n",
    "\n",
    "\n",
    "def calcError(Mat_T, M_0, A, f, W, H, N) :\n",
    "    #Calcule l'erreur\n",
    "    E = 0\n",
    "\n",
    "    for i in range(N):     \n",
    "        M_i = M_0 + dot(A, Mat_T[1:,i])\n",
    "        e = dot(arange(1, H+1)*A, Mat_T[:H,i]) - f(Mat_T[1,i], M_i,W)\n",
    "        E += e**2\n",
    "        #print(Mat_T[1,i], M_i, dot(arange(1, H+1)*A, Mat_T[:H,i]), f(Mat_T[1,i], M_i), e**2)\n",
    "    return E/N\n",
    "\n",
    "\n",
    "def calcGrad(Mat_T, M_0, A, f, df_dM,W, H, N) :\n",
    "    #calcule le gradient de l'erreur par rapport\n",
    "    grad = zeros(H)\n",
    "    #print(\"Calcul gradient :\")\n",
    "    for i in range(N):  \n",
    "        M_i = M_0 + dot(A, Mat_T[1:,i])\n",
    "        e = dot(arange(1, H+1)*A, Mat_T[:H,i]) - f(Mat_T[1,i], M_i,W)\n",
    "        df = df_dM(Mat_T[1,i], M_i,W)\n",
    "        de_dA = Mat_T[:H,i]*(arange(1, H+1)-Mat_T[1,i]*df)\n",
    "        grad += 2*e*de_dA\n",
    "        #print(\"i={}, t={}, M={}, M'={}\".format(i,Mat_T[1,i], M_i, dot(arange(1, H+1)*A, Mat_T[:H,i])))\n",
    "        #print(\"e={}, df={}, de_dA={}\".format(e,df,de_dA))\n",
    "\n",
    "    return grad/N\n"
   ]
  },
  {
   "cell_type": "markdown",
   "metadata": {},
   "source": [
    "Définition des paramètres du modèle"
   ]
  },
  {
   "cell_type": "code",
   "execution_count": 488,
   "metadata": {},
   "outputs": [],
   "source": [
    "N = 50 # nombre de points pour la variable indépendante\n",
    "T = linspace(t_a,t_b,N) #liste des points de tests\n",
    "\n",
    "\n",
    "H = 10 # nombre de termes de la série entière\n",
    "\n",
    "\n",
    "Mat_T = array([T**k for k in range(H+1)])\n",
    "\n",
    "\n",
    "#initialisation des paramètres\n",
    "A = randn((H))\n",
    "#A= array([1/math.factorial(n+1) for n in range(H)])\n",
    "#A = concatenate((array([-0.21896834 ,-0.39013792 , 1.28006596  ,1.10460148 ,-0.92779849 ,-0.38041741,\n",
    "# -0.35875123, -1.21436223 , 0.24003756 , 0.85437342]), zeros(10)))\n"
   ]
  },
  {
   "cell_type": "code",
   "execution_count": 489,
   "metadata": {},
   "outputs": [],
   "source": [
    "epochs = 10000 #nombre d'itérations\n",
    "alpha = 1e-2 #taux d'apprentissage pour la descente de gradients"
   ]
  },
  {
   "cell_type": "markdown",
   "metadata": {},
   "source": [
    "Entraînement du modèle"
   ]
  },
  {
   "cell_type": "code",
   "execution_count": 494,
   "metadata": {},
   "outputs": [
    {
     "name": "stdout",
     "output_type": "stream",
     "text": [
      "Erreur après 0 itérations : 0.008898609586700195\n",
      "Erreur après 1000 itérations : 0.00877487989327292\n",
      "Erreur après 2000 itérations : 0.008660078487690084\n",
      "Erreur après 3000 itérations : 0.008553272859362354\n",
      "Erreur après 4000 itérations : 0.00845363026739072\n",
      "Erreur après 5000 itérations : 0.008360407052622549\n",
      "Erreur après 6000 itérations : 0.00827293909474555\n",
      "Erreur après 7000 itérations : 0.008190633291743781\n",
      "Erreur après 8000 itérations : 0.008112959952186041\n",
      "Erreur après 9000 itérations : 0.008039446002551225\n"
     ]
    }
   ],
   "source": [
    "for k in range(epochs) :\n",
    "    if (k%1000 == 0) :\n",
    "        print(\"Erreur après\",k,\"itérations :\", calcError(Mat_T, M_0, A, f,W, H, N))\n",
    "    A -= alpha*calcGrad(Mat_T, M_0, A, f, df_dM,W, H, N)"
   ]
  },
  {
   "cell_type": "markdown",
   "metadata": {},
   "source": [
    "Affichage des résulats trouvés :"
   ]
  },
  {
   "cell_type": "code",
   "execution_count": 495,
   "metadata": {},
   "outputs": [
    {
     "name": "stdout",
     "output_type": "stream",
     "text": [
      "\n",
      "Erreur finale après 10000 itérations 0.00796966892227285\n",
      "paramètres trouvés : [-1.23374933  2.47684882  0.63980756 -0.27282095 -1.70583312 -1.5364002\n",
      "  0.92004351  0.7478014  -0.27807095  0.24318266]\n"
     ]
    }
   ],
   "source": [
    "print()\n",
    "print(\"Erreur finale après\",epochs,\"itérations\",calcError(Mat_T, M_0, A, f, W, H, N))\n",
    "print(\"paramètres trouvés :\",A)\n",
    "\n",
    "#save((w,b,v), 'H = '+str(H)+', E = '+str(int(calcError(w, b, v))))"
   ]
  },
  {
   "cell_type": "markdown",
   "metadata": {},
   "source": [
    "Affichage graphique de la solution trouvée :"
   ]
  },
  {
   "cell_type": "code",
   "execution_count": 496,
   "metadata": {},
   "outputs": [
    {
     "data": {
      "image/png": "[encoded data removed]",
      "text/plain": [
       "<Figure size 432x288 with 1 Axes>"
      ]
     },
     "metadata": {
      "needs_background": "light"
     },
     "output_type": "display_data"
    }
   ],
   "source": [
    "#solution trouvée\n",
    "Y = M(Mat_T, M_0, A, H, N) \n",
    "\n",
    "#solution analytique\n",
    "Z = [-sin(W*t)/W for t in Mat_T[1]]\n",
    "\n",
    "plot(T,Z, label='solution analytique')\n",
    "plot(T,Y, label='solution approchée')\n",
    "legend()\n",
    "title('Solution approchée et analytique')\n",
    "show()"
   ]
  }
 ],
 "metadata": {
  "kernelspec": {
   "display_name": "Python 3.8.10 64-bit",
   "language": "python",
   "name": "python3"
  },
  "language_info": {
   "codemirror_mode": {
    "name": "ipython",
    "version": 3
   },
   "file_extension": ".py",
   "mimetype": "text/x-python",
   "name": "python",
   "nbconvert_exporter": "python",
   "pygments_lexer": "ipython3",
   "version": "3.8.10"
  },
  "orig_nbformat": 4,
  "vscode": {
   "interpreter": {
    "hash": "916dbcbb3f70747c44a77c7bcd40155683ae19c65e1c03b4aa3499c5328201f1"
   }
  }
 },
 "nbformat": 4,
 "nbformat_minor": 2
}
