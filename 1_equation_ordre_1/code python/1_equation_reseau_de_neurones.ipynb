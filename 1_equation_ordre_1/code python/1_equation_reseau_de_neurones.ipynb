{
 "cells": [
  {
   "cell_type": "markdown",
   "metadata": {},
   "source": [
    "Notebook correspondant à la section 2.3 du rapport.\n",
    "Implémentation de résolution numérique approchée de l'équation :\n",
    "$\\frac{dM}{dt} = f(t,M), \n",
    "M(0) = M_0$\n",
    "à l'aide d'un réseau de neurones avec une couche cachée et des\n",
    "fonctions d'activation sigmoid"
   ]
  },
  {
   "cell_type": "code",
   "execution_count": 11,
   "metadata": {},
   "outputs": [],
   "source": [
    "#imports\n",
    "from numpy import pi, cos, sin, dot, vectorize, exp, zeros, linspace, sum\n",
    "from numpy import sum as np_sum\n",
    "from numpy.random import randn\n",
    "from matplotlib.pyplot import plot, legend, title, show"
   ]
  },
  {
   "cell_type": "markdown",
   "metadata": {},
   "source": [
    "Définition des fonctions de lecture et écritures des paramètres du réseau dans un fichier csv.\n",
    "P : triplet contenant les vecteurs (w,b,v)"
   ]
  },
  {
   "cell_type": "code",
   "execution_count": 12,
   "metadata": {},
   "outputs": [],
   "source": [
    "def save(P, filename) :\n",
    "    w, b, v = P\n",
    "    f = open(filename+\".csv\", 'w')\n",
    "    for l in [w,b,v] :\n",
    "        for i in range(len(l)) :\n",
    "            f.write(str(l[i]))\n",
    "            if i+1 != len(l) :\n",
    "                f.write('; ')\n",
    "        f.write('\\n')\n",
    "    f.close()\n",
    "\n",
    "def load(filename) :\n",
    "    f = open(filename+\".csv\")\n",
    "    lines = f.readlines()\n",
    "    f.close()\n",
    "    floats = []\n",
    "    for l in lines :\n",
    "        valeurs = l.split(';')\n",
    "        for v in valeurs :\n",
    "            v = float(v)\n",
    "        floats.append(np.array(valeurs, dtype='float64'))\n",
    "    return floats[0],floats[1],floats[2]"
   ]
  },
  {
   "cell_type": "markdown",
   "metadata": {},
   "source": [
    "Données du problème"
   ]
  },
  {
   "cell_type": "code",
   "execution_count": 13,
   "metadata": {},
   "outputs": [],
   "source": [
    "#bornes de l'intervalle\n",
    "t_0 = 0\n",
    "t_1 = 1\n",
    "\n",
    "#condition initiale\n",
    "M_0 = 1\n",
    "\n",
    "#fonction définissant l'équation différentielle\n",
    "def f(t,M) :\n",
    "    return -cos(2*pi*t)\n",
    "\n",
    "def df_dM(t,M) :\n",
    "    \"\"\"renvoie df/dM (t,M)\"\"\"\n",
    "    return 0"
   ]
  },
  {
   "cell_type": "markdown",
   "metadata": {},
   "source": [
    "Fonction sigmoïde :\n",
    "$\\sigma(x) = \\frac{1}{1+e^{-x}}$"
   ]
  },
  {
   "cell_type": "code",
   "execution_count": 14,
   "metadata": {},
   "outputs": [],
   "source": [
    "def sig(x) :\n",
    "    return 1/(1+exp(-x))\n",
    "\n",
    "sig = vectorize(sig)"
   ]
  },
  {
   "cell_type": "markdown",
   "metadata": {},
   "source": [
    "Fonctions calculant respectivement la sortie du réseau de neurones, l'erreur, et le gradient de l'erreur"
   ]
  },
  {
   "cell_type": "code",
   "execution_count": 15,
   "metadata": {},
   "outputs": [],
   "source": [
    "def NN(T, w, b, v) :\n",
    "    #Calcule la sortie du réseau de neurones\n",
    "    z = T*w+b\n",
    "    s = sig(z)\n",
    "    return dot(s,v)\n",
    "\n",
    "\n",
    "def calcError(w, b, v, T, H, N, t0) :\n",
    "    #Calcule l'erreur\n",
    "    E = 0\n",
    "    for i in range(N) :\n",
    "\n",
    "        s = sig(T[i]*w+b)\n",
    "        e = dot(s,v)\n",
    "        e += (T[i]-t_0)*sum(v*w*(s-s**2))\n",
    "        e -= (f(T[i], M_0+(T[i]-t_0)*dot(s,v)))\n",
    "        E += e**2\n",
    "    return E\n",
    "\n",
    "\n",
    "def calcGrad(w, b, v, T, H, N, t_0) :\n",
    "    #calcule le gradient de l'erreur par rapport\n",
    "    #aux 3 vecteurs représentant les paramètres\n",
    "    grad_w = zeros(H)\n",
    "    grad_b = zeros(H)\n",
    "    grad_v = zeros(H)\n",
    "\n",
    "    for i in range(N):\n",
    "\n",
    "        s = sig(T[i]*w+b)\n",
    "        df = df_dM(T[i], dot(s,v))\n",
    "\n",
    "        e = dot(s,v)\n",
    "        e += (T[i]-t_0)*sum(v*w*(s-s**2))\n",
    "        e -= (f(T[i], M_0+(T[i]-t_0)*dot(s,v)))\n",
    "\n",
    "        #w\n",
    "        #premiere version\n",
    "        \"\"\"\n",
    "        de_dw = 1 + (X[i]-x0)*(w*(1-2*s)-df)\n",
    "        de_dw = X[i]*(s-s**2)*v*de_dw\n",
    "        \"\"\"\n",
    "        #version corrigée\n",
    "        de_dw = (T[i]-t_0)*(1+T[i]*(w*(1-2*s)-df)) #correction : \"1+\"\n",
    "        de_dw = v*(s-s**2)*(T[i] + de_dw)\n",
    "\n",
    "        grad_w += 2*e*de_dw\n",
    "\n",
    "        #b\n",
    "        de_db = 1 + (T[i]-t_0)*(w*(1-2*s)-df)\n",
    "        de_db = (s-s**2)*v*de_db\n",
    "\n",
    "        grad_b += 2*e*de_db\n",
    "\n",
    "        #v\n",
    "        de_dv = 1 + (T[i]-t_0)*(w*(1-s)-df)\n",
    "        de_dv = s*de_dv\n",
    "\n",
    "        grad_v += 2*e*de_dv\n",
    "\n",
    "\n",
    "    return grad_w, grad_b, grad_v\n"
   ]
  },
  {
   "cell_type": "markdown",
   "metadata": {},
   "source": [
    "Définition des paramètres du modèle"
   ]
  },
  {
   "cell_type": "code",
   "execution_count": 16,
   "metadata": {},
   "outputs": [],
   "source": [
    "N = 20 # nombre de points pour la variable indépendante\n",
    "T = linspace(t_0,t_1,N) #liste des points de tests\n",
    "\n",
    "H = 4 # nombre de noeuds de la couche cachée\n",
    "epochs = 3000 #nombre d'itérations\n",
    "alpha = 5e-3 #taux d'apprentissage pour la descente de gradients\n",
    "\n",
    "#initialisation des paramètres\n",
    "#poids entre l'entrée et la couche cachée\n",
    "w = randn((H))\n",
    "#biais de la couche cachée\n",
    "b = randn((H))\n",
    "#poids entre la couche cachée et la sortie\n",
    "v = randn((H))"
   ]
  },
  {
   "cell_type": "markdown",
   "metadata": {},
   "source": [
    "Entraînement du modèle"
   ]
  },
  {
   "cell_type": "code",
   "execution_count": 21,
   "metadata": {},
   "outputs": [
    {
     "name": "stdout",
     "output_type": "stream",
     "text": [
      "Erreur après 0 itérations : 0.05086208655789561\n",
      "Erreur après 500 itérations : 0.04474541343570008\n",
      "Erreur après 1000 itérations : 0.04066115329529108\n",
      "Erreur après 1500 itérations : 0.038008902603376915\n",
      "Erreur après 2000 itérations : 0.03629212055032296\n",
      "Erreur après 2500 itérations : 0.03516018484689615\n"
     ]
    }
   ],
   "source": [
    "for k in range(epochs) :\n",
    "    if (k%500 == 0) :\n",
    "        print(\"Erreur après\",k,\"itérations :\", calcError(w, b, v, T, H, N, t_0))\n",
    "    gw,gb,gv = calcGrad(w, b, v, T, H, N, t_0)\n",
    "    w -= alpha*gw\n",
    "    b -= alpha*gb\n",
    "    v -= alpha*gv"
   ]
  },
  {
   "cell_type": "markdown",
   "metadata": {},
   "source": [
    "Affichage des résulats trouvés :"
   ]
  },
  {
   "cell_type": "code",
   "execution_count": 22,
   "metadata": {},
   "outputs": [
    {
     "name": "stdout",
     "output_type": "stream",
     "text": [
      "\n",
      "Erreur finale après 3000 itérations 0.03438425855666067\n",
      "paramètres trouvés : [-0.07345973  1.30951196  5.71470612  2.38125028] [-2.15882778 -0.38209821 -2.01800433 -1.25999711] [ 0.34950979 -2.36176888  3.34692544 -2.12631645]\n"
     ]
    }
   ],
   "source": [
    "print()\n",
    "print(\"Erreur finale après\",epochs,\"itérations\",calcError(w, b, v, T, H, N, t_0))\n",
    "print(\"paramètres trouvés :\",w,b,v)\n",
    "#save((w,b,v), 'H = '+str(H)+', E = '+str(int(calcError(w, b, v))))"
   ]
  },
  {
   "cell_type": "markdown",
   "metadata": {},
   "source": [
    "Affichage graphique de la solution trouvée :"
   ]
  },
  {
   "cell_type": "code",
   "execution_count": 23,
   "metadata": {},
   "outputs": [
    {
     "data": {
      "image/png": "[encoded data removed]",
      "text/plain": [
       "<Figure size 432x288 with 1 Axes>"
      ]
     },
     "metadata": {
      "needs_background": "light"
     },
     "output_type": "display_data"
    }
   ],
   "source": [
    "#solution trouvée\n",
    "Y = [M_0 + (T[i]-t_0)*NN(T[i], w, b, v) for i in range(N)]\n",
    "#solution analytique\n",
    "Z = [1 - sin(2*pi*T[i])/2/pi for i in range(N)]\n",
    "\n",
    "plot(T,Z, label='solution analytique')\n",
    "plot(T,Y, label='solution approchée')\n",
    "legend()\n",
    "title('Solution approchée et analytique')\n",
    "show()"
   ]
  },
  {
   "cell_type": "markdown",
   "metadata": {},
   "source": [
    "Affichage des $H$ termes qui composent la sortie du réseau de neurones"
   ]
  },
  {
   "cell_type": "code",
   "execution_count": 20,
   "metadata": {},
   "outputs": [
    {
     "data": {
      "image/png": "[encoded data removed]",
      "text/plain": [
       "<Figure size 432x288 with 1 Axes>"
      ]
     },
     "metadata": {
      "needs_background": "light"
     },
     "output_type": "display_data"
    }
   ],
   "source": [
    "T_test = linspace(-2, 2, 100)\n",
    "\n",
    "Y = [NN(t, w, b, v) for t in T_test]\n",
    "\n",
    "plot(T_test,Y, label='somme')\n",
    "\n",
    "for h in range(H):\n",
    "    Y_h = sig(T_test*w[h]+b[h])*v[h]\n",
    "    plot(T_test,Y_h, label='terme'+str(h))\n",
    "legend()\n",
    "\n",
    "show()"
   ]
  }
 ],
 "metadata": {
  "kernelspec": {
   "display_name": "Python 3.8.10 64-bit",
   "language": "python",
   "name": "python3"
  },
  "language_info": {
   "codemirror_mode": {
    "name": "ipython",
    "version": 3
   },
   "file_extension": ".py",
   "mimetype": "text/x-python",
   "name": "python",
   "nbconvert_exporter": "python",
   "pygments_lexer": "ipython3",
   "version": "3.8.10"
  },
  "orig_nbformat": 4,
  "vscode": {
   "interpreter": {
    "hash": "916dbcbb3f70747c44a77c7bcd40155683ae19c65e1c03b4aa3499c5328201f1"
   }
  }
 },
 "nbformat": 4,
 "nbformat_minor": 2
}
