{
 "cells": [
  {
   "cell_type": "markdown",
   "metadata": {},
   "source": [
    "Copie du code proposé dans l'article de TowardsData Science : https://towardsdatascience.com/using-neural-networks-to-solve-ordinary-differential-equations-a7806de99cdd\n",
    "sur la résolution de l'équation différentielle suivante pour $x \\in [-1, 1]$ :\n",
    "$\\frac{du}{dx}(x)=2x,\n",
    "u(0) = 1$\n"
   ]
  },
  {
   "cell_type": "code",
   "execution_count": 1,
   "metadata": {},
   "outputs": [],
   "source": [
    "import numpy as np\n",
    "import matplotlib.pyplot as plt\n",
    "import tensorflow as tf"
   ]
  },
  {
   "cell_type": "markdown",
   "metadata": {},
   "source": [
    "Defining variables"
   ]
  },
  {
   "cell_type": "code",
   "execution_count": 5,
   "metadata": {},
   "outputs": [],
   "source": [
    "f0 = 1\n",
    "inf_s = np.sqrt(np.finfo(np.float32).eps)\n",
    "learning_rate = 0.01\n",
    "training_steps = 500\n",
    "batch_size = 100\n",
    "display_step = 50\n",
    "# Network Parameters\n",
    "n_input = 1     # input layer number of neurons\n",
    "n_hidden_1 = 32 # 1st layer number of neurons\n",
    "n_hidden_2 = 32 # 2nd layer number of neurons\n",
    "n_output = 1    # output layer number of neurons\n",
    "weights = {\n",
    "'h1': tf.Variable(tf.random.normal([n_input, n_hidden_1])),\n",
    "'h2': tf.Variable(tf.random.normal([n_hidden_1, n_hidden_2])),\n",
    "'out': tf.Variable(tf.random.normal([n_hidden_2, n_output]))\n",
    "}\n",
    "biases = {\n",
    "'b1': tf.Variable(tf.random.normal([n_hidden_1])),\n",
    "'b2': tf.Variable(tf.random.normal([n_hidden_2])),\n",
    "'out': tf.Variable(tf.random.normal([n_output]))\n",
    "}\n",
    "# Stochastic gradient descent optimizer.\n",
    "optimizer = tf.optimizers.SGD(learning_rate)"
   ]
  },
  {
   "cell_type": "markdown",
   "metadata": {},
   "source": [
    "Defining the Model and Loss Function"
   ]
  },
  {
   "cell_type": "code",
   "execution_count": 6,
   "metadata": {},
   "outputs": [],
   "source": [
    "# Create model\n",
    "def multilayer_perceptron(x):\n",
    "  x = np.array([[[x]]],  dtype='float32')\n",
    "  layer_1 = tf.add(tf.matmul(x, weights['h1']), biases['b1'])\n",
    "  layer_1 = tf.nn.sigmoid(layer_1)\n",
    "  layer_2 = tf.add(tf.matmul(layer_1, weights['h2']), biases['b2'])\n",
    "  layer_2 = tf.nn.sigmoid(layer_2)\n",
    "  output = tf.matmul(layer_2, weights['out']) + biases['out']\n",
    "  return tf.nn.sigmoid(output)\n",
    "# Universal Approximator\n",
    "def g(x):\n",
    "  return x * multilayer_perceptron(x) + f0\n",
    "# Given EDO\n",
    "def f(x):\n",
    "  return 2*x\n",
    "# Custom loss function to approximate the derivatives\n",
    "def custom_loss():\n",
    "  summation = []\n",
    "  for x in np.linspace(-1,1,10):\n",
    "    dNN = (g(x+inf_s)-g(x))/inf_s\n",
    "    summation.append((dNN - f(x))**2)\n",
    "  return tf.sqrt(tf.reduce_mean(tf.abs(summation)))"
   ]
  },
  {
   "cell_type": "markdown",
   "metadata": {},
   "source": [
    "Train function"
   ]
  },
  {
   "cell_type": "code",
   "execution_count": 7,
   "metadata": {},
   "outputs": [
    {
     "name": "stdout",
     "output_type": "stream",
     "text": [
      "loss: 1.312152 \n",
      "loss: 1.277706 \n",
      "loss: 1.254543 \n",
      "loss: 1.230457 \n",
      "loss: 1.198925 \n",
      "loss: 1.158269 \n",
      "loss: 1.116059 \n",
      "loss: 1.081238 \n",
      "loss: 1.054987 \n",
      "loss: 1.035145 \n"
     ]
    }
   ],
   "source": [
    "def train_step():\n",
    "  with tf.GradientTape() as tape:\n",
    "    loss = custom_loss()\n",
    "  trainable_variables=list(weights.values())+list(biases.values())\n",
    "  gradients = tape.gradient(loss, trainable_variables)\n",
    "  optimizer.apply_gradients(zip(gradients, trainable_variables))\n",
    "# Training the Model:\n",
    "for i in range(training_steps):\n",
    "  train_step()\n",
    "  if i % display_step == 0:\n",
    "    print(\"loss: %f \" % (custom_loss()))"
   ]
  },
  {
   "cell_type": "markdown",
   "metadata": {},
   "source": [
    "Plotting the Results"
   ]
  },
  {
   "cell_type": "code",
   "execution_count": 8,
   "metadata": {},
   "outputs": [
    {
     "data": {
      "image/png": "[encoded data removed]",
      "text/plain": [
       "<Figure size 432x288 with 1 Axes>"
      ]
     },
     "metadata": {
      "needs_background": "light"
     },
     "output_type": "display_data"
    }
   ],
   "source": [
    "# True Solution (found analitically)\n",
    "def true_solution(x):\n",
    "  return x**2 + 1\n",
    "X = np.linspace(-1, 1, 100)\n",
    "result = []\n",
    "for i in X:\n",
    "  result.append(g(i).numpy()[0][0][0])\n",
    "S = true_solution(X)\n",
    "plt.plot(X, result, label ='result')\n",
    "plt.plot(X, S, label ='true')\n",
    "plt.legend()\n",
    "plt.show()"
   ]
  }
 ],
 "metadata": {
  "kernelspec": {
   "display_name": "Python 3.8.10 64-bit",
   "language": "python",
   "name": "python3"
  },
  "language_info": {
   "codemirror_mode": {
    "name": "ipython",
    "version": 3
   },
   "file_extension": ".py",
   "mimetype": "text/x-python",
   "name": "python",
   "nbconvert_exporter": "python",
   "pygments_lexer": "ipython3",
   "version": "3.8.10"
  },
  "orig_nbformat": 4,
  "vscode": {
   "interpreter": {
    "hash": "916dbcbb3f70747c44a77c7bcd40155683ae19c65e1c03b4aa3499c5328201f1"
   }
  }
 },
 "nbformat": 4,
 "nbformat_minor": 2
}
