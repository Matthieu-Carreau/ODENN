{
 "cells": [
  {
   "cell_type": "markdown",
   "metadata": {},
   "source": [
    "Notebook correspondant à la section 3.1 du rapport.\n",
    "Détermination du taux d'apprentissage idéal pour la descente de gradient dans l'exemple à deux dimensions."
   ]
  },
  {
   "cell_type": "code",
   "execution_count": 15,
   "metadata": {},
   "outputs": [],
   "source": [
    "#imports\n",
    "from numpy import pi, cos, sin, zeros, linspace, matmul, arange, identity, argmin\n",
    "from numpy.linalg import eigvals\n",
    "\n",
    "from matplotlib.pyplot import plot, show, title, ylim"
   ]
  },
  {
   "cell_type": "markdown",
   "metadata": {},
   "source": [
    "Paramètres du modèle"
   ]
  },
  {
   "cell_type": "code",
   "execution_count": 16,
   "metadata": {},
   "outputs": [],
   "source": [
    "#nombre de coefficients de Fourier ajustables\n",
    "H = 10\n",
    "H_range = arange(H) +1\n",
    "# nombre de points pour la variable indépendante\n",
    "N = 100\n",
    "\n",
    "t_a = 0\n",
    "t_b = 1\n",
    "#liste des points de test\n",
    "T = linspace(t_a,t_b,N)\n",
    "\n",
    "W = 2*pi"
   ]
  },
  {
   "cell_type": "markdown",
   "metadata": {},
   "source": [
    "Matrice $\\mathcal{M}$ telle que $\\vec{g} = \\mathcal{M} \\vec{A} + \\vec{d}$"
   ]
  },
  {
   "cell_type": "code",
   "execution_count": 17,
   "metadata": {},
   "outputs": [],
   "source": [
    "#matrice de coefficients (m*W*T[i]) de taille NxM\n",
    "#avec première coordonnée i, et deuxème m\n",
    "m_w_T = W*matmul(T.reshape((N,1)), H_range.reshape((1,H)))\n",
    "cos = cos(m_w_T)\n",
    "sin = sin(m_w_T)\n",
    "\n",
    "mat = zeros((2*H,2*H))\n",
    "\n",
    "for l in range(1,H+1) :\n",
    "    for m in range(1,H+1) :\n",
    "        for i in range(N) :\n",
    "            mat[l-1,m-1] += (1-l)*(1-m)*sin[i,m-1]*sin[i,l-1]\n",
    "            mat[l-1,m-1] += ((1-l)*cos[i,l-1]-1)*((1-m)*cos[i,m-1]-1)\n",
    "\n",
    "            mat[l-1,m-1+H] += (1-l)*sin[i,l-1]*((m-1)*cos[i,m-1]+1)\n",
    "            mat[l-1,m-1+H] += (1-m)*sin[i,m-1]*((1-l)*cos[i,l-1]-1)\n",
    "\n",
    "            mat[l-1+H,m-1] += ((l-1)*cos[i,l-1]+1)*(1-m)*sin[i,m-1]\n",
    "            mat[l-1+H,m-1] += (1-l)*sin[i,l-1]*((1-m)*cos[i,m-1]-1)\n",
    "\n",
    "            mat[l-1+H,m-1+H] += ((l-1)*cos[i,l-1]+1)*((m-1)*cos[i,m-1]+1)\n",
    "            mat[l-1+H,m-1+H] += (1-l)*(1-m)*sin[i,m-1]*sin[i,l-1]\n",
    "\n",
    "mat *= W**2\n",
    "\n"
   ]
  },
  {
   "cell_type": "markdown",
   "metadata": {},
   "source": [
    "Calcul des valeurs propres de la matrice $\\mathcal{R}_\\alpha = \\mathcal{I}_M - \\alpha \\mathcal{M}$ puis détermination du module maximum parmis celles-ci."
   ]
  },
  {
   "cell_type": "code",
   "execution_count": 18,
   "metadata": {},
   "outputs": [
    {
     "name": "stdout",
     "output_type": "stream",
     "text": [
      "alpha_min = 6.0906090609060915e-06, alpha_c = 6.1146114611461156e-06, minimum spectral radius = 0.9921005053484849\n"
     ]
    }
   ],
   "source": [
    "alpha_list = linspace(0, 1e-5, 10000)\n",
    "max_mod = []\n",
    "\n",
    "alpha_c = 0\n",
    "\n",
    "for alpha in alpha_list :\n",
    "    R = identity(2*H)-alpha*mat\n",
    "    vals_propres = eigvals(R)\n",
    "    v_max = max(abs(vals_propres))\n",
    "    max_mod.append(v_max)\n",
    "    if v_max <= 1 :\n",
    "        alpha_c = alpha\n",
    "\n",
    "alpha_min = alpha_list[argmin(max_mod)]\n",
    "print(\"alpha_min = {}, alpha_c = {}, minimum spectral radius = {}\".format(alpha_min,alpha_c, min(max_mod)))\n"
   ]
  },
  {
   "cell_type": "markdown",
   "metadata": {},
   "source": [
    "Affichage des résultats"
   ]
  },
  {
   "cell_type": "code",
   "execution_count": 19,
   "metadata": {},
   "outputs": [
    {
     "data": {
      "image/png": "[encoded data removed]",
      "text/plain": [
       "<Figure size 432x288 with 1 Axes>"
      ]
     },
     "metadata": {
      "needs_background": "light"
     },
     "output_type": "display_data"
    }
   ],
   "source": [
    "plot(alpha_list, max_mod)\n",
    "title(\"Maximum du module des valeurs propes en fonction de alpha\")\n",
    "ylim((0.98, 1.05))\n",
    "show()"
   ]
  }
 ],
 "metadata": {
  "kernelspec": {
   "display_name": "Python 3.8.10 64-bit",
   "language": "python",
   "name": "python3"
  },
  "language_info": {
   "codemirror_mode": {
    "name": "ipython",
    "version": 3
   },
   "file_extension": ".py",
   "mimetype": "text/x-python",
   "name": "python",
   "nbconvert_exporter": "python",
   "pygments_lexer": "ipython3",
   "version": "3.8.10"
  },
  "orig_nbformat": 4,
  "vscode": {
   "interpreter": {
    "hash": "916dbcbb3f70747c44a77c7bcd40155683ae19c65e1c03b4aa3499c5328201f1"
   }
  }
 },
 "nbformat": 4,
 "nbformat_minor": 2
}
