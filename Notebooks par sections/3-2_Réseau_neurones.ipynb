{
 "cells": [
  {
   "cell_type": "markdown",
   "metadata": {},
   "source": [
    "Notebook correspondant à la section 3.2 du rapport, pour la résolution des équations couplées de la précession de Larmor :\n",
    "\\begin{equation}\n",
    "\\left\\{\n",
    "    \\begin{aligned}\n",
    "        \\frac{dM_x}{dt} &= \\omega M_y \\\\\n",
    "        \\frac{dM_y}{dt} &= -\\omega M_x\n",
    "    \\end{aligned}\n",
    "\\right.\n",
    "\\end{equation}"
   ]
  },
  {
   "cell_type": "code",
   "execution_count": 11,
   "metadata": {},
   "outputs": [],
   "source": [
    "#imports\n",
    "import numpy as np\n",
    "import tensorflow as tf\n",
    "import matplotlib.pyplot as plt\n",
    "from mpl_toolkits.mplot3d import Axes3D"
   ]
  },
  {
   "cell_type": "markdown",
   "metadata": {},
   "source": [
    "Physical parameters"
   ]
  },
  {
   "cell_type": "code",
   "execution_count": 12,
   "metadata": {},
   "outputs": [],
   "source": [
    "M_0 = tf.constant([1,0], dtype='float32')\n",
    "W = 2*np.pi"
   ]
  },
  {
   "cell_type": "markdown",
   "metadata": {},
   "source": [
    "Training parameters"
   ]
  },
  {
   "cell_type": "code",
   "execution_count": 31,
   "metadata": {},
   "outputs": [],
   "source": [
    "N = 40 #number of samples for the independant variable\n",
    "training_points = np.linspace(-1,1,N)\n",
    "training_points = tf.convert_to_tensor(training_points, dtype=tf.float32)\n",
    "\n",
    "load_model = False\n",
    "load_filename = \"models/2_NN_direct_training_N=10\"\n",
    "save_model = False\n",
    "save_filename = \"models/2_NN_direct_training_N=100\"\n",
    "learning_rate = 1e-2\n",
    "epochs = 10000\n",
    "display_step = min(max(1,epochs//100), 1000)"
   ]
  },
  {
   "cell_type": "markdown",
   "metadata": {},
   "source": [
    "Initializing the network"
   ]
  },
  {
   "cell_type": "code",
   "execution_count": 14,
   "metadata": {},
   "outputs": [],
   "source": [
    "# Network Parameters\n",
    "n_input = 1     # input layer number of neurons\n",
    "n_hidden_1 = 32 # 1st layer number of neurons\n",
    "n_hidden_2 = 8  # 2nd layer number of neurons\n",
    "n_output = 2    # output layer number of neurons\n",
    "\n",
    "#model definition :\n",
    "model = tf.keras.Sequential([\n",
    "  tf.keras.layers.Dense(n_hidden_1, activation=tf.nn.sigmoid, input_shape=(n_input,)),  # input shape required\n",
    "  tf.keras.layers.Dense(n_hidden_2, activation=tf.nn.sigmoid),\n",
    "  tf.keras.layers.Dense(n_output)\n",
    "])\n",
    "\n",
    "if load_model :\n",
    "    model = tf.keras.models.load_model(load_filename)\n",
    "\n",
    "optimizer = tf.keras.optimizers.SGD(learning_rate=learning_rate)"
   ]
  },
  {
   "cell_type": "markdown",
   "metadata": {},
   "source": [
    "Loss function\n",
    "https://www.tensorflow.org/versions/r2.0/api_docs/python/tf/GradientTape\n"
   ]
  },
  {
   "cell_type": "code",
   "execution_count": 15,
   "metadata": {},
   "outputs": [],
   "source": [
    "def loss_function(model, input_tensor, M_0):\n",
    "\n",
    "    with tf.GradientTape(persistent=True) as tape:\n",
    "        tape.watch(input_tensor)\n",
    "        output = model(input_tensor)\n",
    "        Mx, My = M_0[0]+input_tensor*output[:,0], M_0[1]+input_tensor*output[:,1]\n",
    "\n",
    "    dMx = tape.gradient(Mx, input_tensor)\n",
    "    dMy = tape.gradient(My, input_tensor)\n",
    "\n",
    "    ex = dMx - W*My\n",
    "    ey = dMy + W*Mx\n",
    "\n",
    "    return tf.reduce_mean(ex**2 + ey**2)"
   ]
  },
  {
   "cell_type": "markdown",
   "metadata": {},
   "source": [
    "Gradient of loss"
   ]
  },
  {
   "cell_type": "code",
   "execution_count": 16,
   "metadata": {},
   "outputs": [],
   "source": [
    "def grad(model, input_tensor, M_0):\n",
    "    with tf.GradientTape() as tape:\n",
    "        loss_value = loss_function(model, input_tensor, M_0)\n",
    "\n",
    "    gradient = tape.gradient(loss_value, model.trainable_variables)\n",
    "\n",
    "    return loss_value, gradient"
   ]
  },
  {
   "cell_type": "markdown",
   "metadata": {},
   "source": [
    "Training the neural network"
   ]
  },
  {
   "cell_type": "code",
   "execution_count": 45,
   "metadata": {},
   "outputs": [
    {
     "name": "stdout",
     "output_type": "stream",
     "text": [
      "Loss after 0 / 10000 epochs : 0.120171525\n",
      "Loss after 100 / 10000 epochs : 0.9414424\n",
      "Loss after 200 / 10000 epochs : 0.63417345\n",
      "Loss after 300 / 10000 epochs : 0.54180324\n",
      "Loss after 400 / 10000 epochs : 0.47835436\n",
      "Loss after 500 / 10000 epochs : 0.43253794\n",
      "Loss after 600 / 10000 epochs : 0.3983741\n",
      "Loss after 700 / 10000 epochs : 0.37207142\n",
      "Loss after 800 / 10000 epochs : 0.351118\n",
      "Loss after 900 / 10000 epochs : 0.33402178\n",
      "Loss after 1000 / 10000 epochs : 0.31971118\n",
      "Loss after 1100 / 10000 epochs : 0.3075432\n",
      "Loss after 1200 / 10000 epochs : 0.29705462\n",
      "Loss after 1300 / 10000 epochs : 0.2879315\n",
      "Loss after 1400 / 10000 epochs : 0.27993745\n",
      "Loss after 1500 / 10000 epochs : 0.2729069\n",
      "Loss after 1600 / 10000 epochs : 0.26667172\n",
      "Loss after 1700 / 10000 epochs : 0.26113477\n",
      "Loss after 1800 / 10000 epochs : 0.25620604\n",
      "Loss after 1900 / 10000 epochs : 0.25180107\n",
      "Loss after 2000 / 10000 epochs : 0.24782646\n",
      "Loss after 2100 / 10000 epochs : 0.24429294\n",
      "Loss after 2200 / 10000 epochs : 0.24111113\n",
      "Loss after 2300 / 10000 epochs : 0.23822665\n",
      "Loss after 2400 / 10000 epochs : 0.23561797\n",
      "Loss after 2500 / 10000 epochs : 0.23327556\n",
      "Loss after 2600 / 10000 epochs : 0.23113433\n",
      "Loss after 2700 / 10000 epochs : 0.2291896\n",
      "Loss after 2800 / 10000 epochs : 0.22740178\n",
      "Loss after 2900 / 10000 epochs : 0.22577813\n",
      "Loss after 3000 / 10000 epochs : 0.22429089\n",
      "Loss after 3100 / 10000 epochs : 0.2229279\n",
      "Loss after 3200 / 10000 epochs : 0.22166082\n",
      "Loss after 3300 / 10000 epochs : 0.22049244\n",
      "Loss after 3400 / 10000 epochs : 0.21942386\n",
      "Loss after 3500 / 10000 epochs : 0.21842761\n",
      "Loss after 3600 / 10000 epochs : 0.21750224\n",
      "Loss after 3700 / 10000 epochs : 0.21660797\n",
      "Loss after 3800 / 10000 epochs : 0.21576944\n",
      "Loss after 3900 / 10000 epochs : 0.21503909\n",
      "Loss after 4000 / 10000 epochs : 0.214322\n",
      "Loss after 4100 / 10000 epochs : 0.21362314\n",
      "Loss after 4200 / 10000 epochs : 0.21298161\n",
      "Loss after 4300 / 10000 epochs : 0.21238908\n",
      "Loss after 4400 / 10000 epochs : 0.21180217\n",
      "Loss after 4500 / 10000 epochs : 0.21124478\n",
      "Loss after 4600 / 10000 epochs : 0.21071415\n",
      "Loss after 4700 / 10000 epochs : 0.21021049\n",
      "Loss after 4800 / 10000 epochs : 0.20972073\n",
      "Loss after 4900 / 10000 epochs : 0.20926675\n",
      "Loss after 5000 / 10000 epochs : 0.20880425\n",
      "Loss after 5100 / 10000 epochs : 0.20834684\n",
      "Loss after 5200 / 10000 epochs : 0.2079263\n",
      "Loss after 5300 / 10000 epochs : 0.2075193\n",
      "Loss after 5400 / 10000 epochs : 0.20712778\n",
      "Loss after 5500 / 10000 epochs : 0.20672926\n",
      "Loss after 5600 / 10000 epochs : 0.20634446\n",
      "Loss after 5700 / 10000 epochs : 0.20599322\n",
      "Loss after 5800 / 10000 epochs : 0.20562764\n",
      "Loss after 5900 / 10000 epochs : 0.20527342\n",
      "Loss after 6000 / 10000 epochs : 0.20492563\n",
      "Loss after 6100 / 10000 epochs : 0.20459318\n",
      "Loss after 6200 / 10000 epochs : 0.2042491\n",
      "Loss after 6300 / 10000 epochs : 0.20392391\n",
      "Loss after 6400 / 10000 epochs : 0.20360336\n",
      "Loss after 6500 / 10000 epochs : 0.20327997\n",
      "Loss after 6600 / 10000 epochs : 0.20296979\n",
      "Loss after 6700 / 10000 epochs : 0.2026772\n",
      "Loss after 6800 / 10000 epochs : 0.2023546\n",
      "Loss after 6900 / 10000 epochs : 0.2020489\n",
      "Loss after 7000 / 10000 epochs : 0.20175222\n",
      "Loss after 7100 / 10000 epochs : 0.20147419\n",
      "Loss after 7200 / 10000 epochs : 0.20119444\n",
      "Loss after 7300 / 10000 epochs : 0.20089236\n",
      "Loss after 7400 / 10000 epochs : 0.20061119\n",
      "Loss after 7500 / 10000 epochs : 0.20033176\n",
      "Loss after 7600 / 10000 epochs : 0.20006597\n",
      "Loss after 7700 / 10000 epochs : 0.19979405\n",
      "Loss after 7800 / 10000 epochs : 0.19952303\n",
      "Loss after 7900 / 10000 epochs : 0.19925395\n",
      "Loss after 8000 / 10000 epochs : 0.19898124\n",
      "Loss after 8100 / 10000 epochs : 0.19872098\n",
      "Loss after 8200 / 10000 epochs : 0.19846179\n",
      "Loss after 8300 / 10000 epochs : 0.19820066\n",
      "Loss after 8400 / 10000 epochs : 0.19795433\n",
      "Loss after 8500 / 10000 epochs : 0.19768652\n",
      "Loss after 8600 / 10000 epochs : 0.19742358\n",
      "Loss after 8700 / 10000 epochs : 0.19717015\n",
      "Loss after 8800 / 10000 epochs : 0.19692895\n",
      "Loss after 8900 / 10000 epochs : 0.1966734\n",
      "Loss after 9000 / 10000 epochs : 0.19643208\n",
      "Loss after 9100 / 10000 epochs : 0.19618651\n",
      "Loss after 9200 / 10000 epochs : 0.19595137\n",
      "Loss after 9300 / 10000 epochs : 0.19569632\n",
      "Loss after 9400 / 10000 epochs : 0.19544649\n",
      "Loss after 9500 / 10000 epochs : 0.19523713\n",
      "Loss after 9600 / 10000 epochs : 0.1949949\n",
      "Loss after 9700 / 10000 epochs : 0.1947573\n",
      "Loss after 9800 / 10000 epochs : 0.19451717\n",
      "Loss after 9900 / 10000 epochs : 0.1942806\n",
      "Final loss after 10000 epochs : 0.19406042\n"
     ]
    }
   ],
   "source": [
    "optimizer = tf.keras.optimizers.SGD(learning_rate=6e-3)\n",
    "losses = []\n",
    "epochs_displayed = []\n",
    "\n",
    "for epoch in range(epochs) :\n",
    "    loss_value, grads = grad(model, training_points, M_0)\n",
    "    optimizer.apply_gradients(zip(grads, model.trainable_variables))\n",
    "\n",
    "    if epoch % display_step == 0 :\n",
    "        print(\"Loss after\",epoch,\"/\",epochs,\"epochs :\",loss_value.numpy())\n",
    "        losses.append(loss_value.numpy())\n",
    "        epochs_displayed.append(epoch)\n",
    "\n",
    "loss_value, grads = grad(model, training_points, M_0)\n",
    "print(\"Final loss after\",epochs,\"epochs :\",loss_value.numpy())\n",
    "losses.append(loss_value.numpy())\n",
    "epochs_displayed.append(epochs)"
   ]
  },
  {
   "cell_type": "code",
   "execution_count": 18,
   "metadata": {},
   "outputs": [],
   "source": [
    "if save_model :\n",
    "    model.save(save_filename)"
   ]
  },
  {
   "cell_type": "markdown",
   "metadata": {},
   "source": [
    "Plot the evolution of loss"
   ]
  },
  {
   "cell_type": "code",
   "execution_count": 46,
   "metadata": {},
   "outputs": [
    {
     "data": {
      "image/png": "[encoded data removed]",
      "text/plain": [
       "<Figure size 432x288 with 1 Axes>"
      ]
     },
     "metadata": {
      "needs_background": "light"
     },
     "output_type": "display_data"
    }
   ],
   "source": [
    "plt.plot(epochs_displayed, losses)\n",
    "plt.yscale('log')\n",
    "plt.show()\n"
   ]
  },
  {
   "cell_type": "markdown",
   "metadata": {},
   "source": [
    "Plot the estimation and the analytic solution"
   ]
  },
  {
   "cell_type": "code",
   "execution_count": 47,
   "metadata": {},
   "outputs": [
    {
     "data": {
      "image/png": "[encoded data removed]",
      "text/plain": [
       "<Figure size 432x288 with 1 Axes>"
      ]
     },
     "metadata": {
      "needs_background": "light"
     },
     "output_type": "display_data"
    }
   ],
   "source": [
    "plotting_points = np.linspace(-1,1,200)\n",
    "plotting_points = tf.convert_to_tensor(plotting_points, dtype=tf.float32)\n",
    "\n",
    "#neural network estimation\n",
    "output = model(plotting_points)\n",
    "Mx_NN, My_NN = M_0[0]+plotting_points*output[:,0], M_0[1]+plotting_points*output[:,1]\n",
    "\n",
    "#analytic solution\n",
    "Mx_ana =  M_0[0]*np.cos(W*plotting_points) + M_0[1]*np.sin(W*plotting_points)\n",
    "My_ana = -M_0[0]*np.sin(W*plotting_points) + M_0[1]*np.cos(W*plotting_points)\n",
    "\n",
    "#training points\n",
    "Mx_ana_training_points =  M_0[0]*np.cos(W*training_points) + M_0[1]*np.sin(W*training_points)\n",
    "My_ana_training_points = -M_0[0]*np.sin(W*training_points) + M_0[1]*np.cos(W*training_points)\n",
    "\n",
    "\n",
    "#3D plotting\n",
    "fig = plt.figure()\n",
    "ax = fig.add_subplot(111, projection='3d')\n",
    "\n",
    "ax.plot(        xs=Mx_NN,\n",
    "                ys=My_NN,\n",
    "                zs=plotting_points,\n",
    "                label='solution approchée')\n",
    "\n",
    "ax.plot(        xs=Mx_ana,\n",
    "                ys=My_ana,\n",
    "                zs=plotting_points,\n",
    "                label='solution exacte')\n",
    "\n",
    "\n",
    "\n",
    "ax.scatter(     xs=Mx_ana_training_points,\n",
    "                ys=My_ana_training_points,\n",
    "                zs=training_points,\n",
    "                color='red')\n",
    "\n",
    "plt.legend()\n",
    "plt.title('résolution par réseau de neurones')\n",
    "plt.show()"
   ]
  }
 ],
 "metadata": {
  "kernelspec": {
   "display_name": "Python 3.8.10 64-bit",
   "language": "python",
   "name": "python3"
  },
  "language_info": {
   "codemirror_mode": {
    "name": "ipython",
    "version": 3
   },
   "file_extension": ".py",
   "mimetype": "text/x-python",
   "name": "python",
   "nbconvert_exporter": "python",
   "pygments_lexer": "ipython3",
   "version": "3.8.10"
  },
  "orig_nbformat": 4,
  "vscode": {
   "interpreter": {
    "hash": "916dbcbb3f70747c44a77c7bcd40155683ae19c65e1c03b4aa3499c5328201f1"
   }
  }
 },
 "nbformat": 4,
 "nbformat_minor": 2
}
