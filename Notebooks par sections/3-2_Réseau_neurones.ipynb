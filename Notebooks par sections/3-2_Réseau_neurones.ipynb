{
 "cells": [
  {
   "cell_type": "markdown",
   "metadata": {},
   "source": [
    "Notebook correspondant à la section 3.2 du rapport, pour la résolution des équations couplées de la précession de Larmor :\n",
    "\\begin{equation}\n",
    "\\left\\{\n",
    "    \\begin{aligned}\n",
    "        \\frac{dM_x}{d\\tilde{t}} &= M_y \\omega_z \\\\\n",
    "        \\frac{dM_y}{d\\tilde{t}} &= -M_x \\omega_z\n",
    "    \\end{aligned}\n",
    "\\right.\n",
    "\\end{equation}"
   ]
  },
  {
   "cell_type": "code",
   "execution_count": 1,
   "metadata": {},
   "outputs": [],
   "source": [
    "#imports\n",
    "import numpy as np\n",
    "import tensorflow as tf\n",
    "import matplotlib.pyplot as plt\n",
    "from mpl_toolkits.mplot3d import Axes3D"
   ]
  },
  {
   "cell_type": "markdown",
   "metadata": {},
   "source": [
    "Physical parameters"
   ]
  },
  {
   "cell_type": "code",
   "execution_count": 2,
   "metadata": {},
   "outputs": [
    {
     "name": "stderr",
     "output_type": "stream",
     "text": [
      "2022-07-28 11:42:47.850778: I tensorflow/core/platform/cpu_feature_guard.cc:193] This TensorFlow binary is optimized with oneAPI Deep Neural Network Library (oneDNN) to use the following CPU instructions in performance-critical operations:  AVX2 FMA\n",
      "To enable them in other operations, rebuild TensorFlow with the appropriate compiler flags.\n"
     ]
    }
   ],
   "source": [
    "M_0 = tf.constant([1,0], dtype='float32')\n",
    "W = 2*np.pi"
   ]
  },
  {
   "cell_type": "markdown",
   "metadata": {},
   "source": [
    "Training parameters"
   ]
  },
  {
   "cell_type": "code",
   "execution_count": 3,
   "metadata": {},
   "outputs": [],
   "source": [
    "N = 40 #number of samples for the independant variable\n",
    "training_points = np.linspace(-1,1,N)\n",
    "training_points = tf.convert_to_tensor(training_points, dtype=tf.float32)\n",
    "\n",
    "load_model = False\n",
    "load_filename = \"models/2_NN_direct_training_N=10\"\n",
    "save_model = False\n",
    "save_filename = \"models/2_NN_direct_training_N=100\"\n",
    "learning_rate = 1e-2\n",
    "epochs = 10000\n",
    "display_step = min(max(1,epochs//100), 1000)"
   ]
  },
  {
   "cell_type": "markdown",
   "metadata": {},
   "source": [
    "Initializing the network"
   ]
  },
  {
   "cell_type": "code",
   "execution_count": 4,
   "metadata": {},
   "outputs": [],
   "source": [
    "# Network Parameters\n",
    "n_input = 1     # input layer number of neurons\n",
    "n_hidden_1 = 32 # 1st layer number of neurons\n",
    "n_hidden_2 = 8  # 2nd layer number of neurons\n",
    "n_output = 2    # output layer number of neurons\n",
    "\n",
    "#model definition :\n",
    "model = tf.keras.Sequential([\n",
    "  tf.keras.layers.Dense(n_hidden_1, activation=tf.nn.sigmoid, input_shape=(n_input,)),  # input shape required\n",
    "  tf.keras.layers.Dense(n_hidden_2, activation=tf.nn.sigmoid),\n",
    "  tf.keras.layers.Dense(n_output)\n",
    "])\n",
    "\n",
    "if load_model :\n",
    "    model = tf.keras.models.load_model(load_filename)\n",
    "\n",
    "optimizer = tf.keras.optimizers.SGD(learning_rate=learning_rate)"
   ]
  },
  {
   "cell_type": "markdown",
   "metadata": {},
   "source": [
    "Loss function\n",
    "https://www.tensorflow.org/versions/r2.0/api_docs/python/tf/GradientTape\n"
   ]
  },
  {
   "cell_type": "code",
   "execution_count": 5,
   "metadata": {},
   "outputs": [],
   "source": [
    "def loss_function(model, input_tensor, M_0):\n",
    "\n",
    "    with tf.GradientTape(persistent=True) as tape:\n",
    "        tape.watch(input_tensor)\n",
    "        output = model(input_tensor)\n",
    "        Mx, My = M_0[0]+input_tensor*output[:,0], M_0[1]+input_tensor*output[:,1]\n",
    "\n",
    "    dMx = tape.gradient(Mx, input_tensor)\n",
    "    dMy = tape.gradient(My, input_tensor)\n",
    "\n",
    "    ex = dMx - W*My\n",
    "    ey = dMy + W*Mx\n",
    "\n",
    "    return tf.reduce_mean(ex**2 + ey**2)"
   ]
  },
  {
   "cell_type": "markdown",
   "metadata": {},
   "source": [
    "Gradient of loss"
   ]
  },
  {
   "cell_type": "code",
   "execution_count": 6,
   "metadata": {},
   "outputs": [],
   "source": [
    "def grad(model, input_tensor, M_0):\n",
    "    with tf.GradientTape() as tape:\n",
    "        loss_value = loss_function(model, input_tensor, M_0)\n",
    "\n",
    "    gradient = tape.gradient(loss_value, model.trainable_variables)\n",
    "\n",
    "    return loss_value, gradient"
   ]
  },
  {
   "cell_type": "markdown",
   "metadata": {},
   "source": [
    "Training the neural network"
   ]
  },
  {
   "cell_type": "code",
   "execution_count": 7,
   "metadata": {},
   "outputs": [
    {
     "name": "stdout",
     "output_type": "stream",
     "text": [
      "Loss after 0 / 10000 epochs : 43.5826\n",
      "Loss after 100 / 10000 epochs : 14.332117\n",
      "Loss after 200 / 10000 epochs : 14.043587\n",
      "Loss after 300 / 10000 epochs : 13.952083\n",
      "Loss after 400 / 10000 epochs : 13.840906\n",
      "Loss after 500 / 10000 epochs : 13.696747\n",
      "Loss after 600 / 10000 epochs : 13.50755\n",
      "Loss after 700 / 10000 epochs : 13.259236\n",
      "Loss after 800 / 10000 epochs : 12.935722\n",
      "Loss after 900 / 10000 epochs : 12.519983\n",
      "Loss after 1000 / 10000 epochs : 11.995567\n",
      "Loss after 1100 / 10000 epochs : 11.350651\n",
      "Loss after 1200 / 10000 epochs : 10.591888\n",
      "Loss after 1300 / 10000 epochs : 9.764155\n",
      "Loss after 1400 / 10000 epochs : 8.939216\n",
      "Loss after 1500 / 10000 epochs : 8.167952\n",
      "Loss after 1600 / 10000 epochs : 7.461282\n",
      "Loss after 1700 / 10000 epochs : 6.813647\n",
      "Loss after 1800 / 10000 epochs : 6.2240033\n",
      "Loss after 1900 / 10000 epochs : 5.707502\n",
      "Loss after 2000 / 10000 epochs : 5.2895465\n",
      "Loss after 2100 / 10000 epochs : 4.969006\n",
      "Loss after 2200 / 10000 epochs : 4.7229\n",
      "Loss after 2300 / 10000 epochs : 4.5267196\n",
      "Loss after 2400 / 10000 epochs : 4.362362\n",
      "Loss after 2500 / 10000 epochs : 4.2186694\n",
      "Loss after 2600 / 10000 epochs : 4.0891867\n",
      "Loss after 2700 / 10000 epochs : 3.9700687\n",
      "Loss after 2800 / 10000 epochs : 3.8589158\n",
      "Loss after 2900 / 10000 epochs : 3.7541962\n",
      "Loss after 3000 / 10000 epochs : 3.6549325\n",
      "Loss after 3100 / 10000 epochs : 3.5604973\n",
      "Loss after 3200 / 10000 epochs : 3.4704888\n",
      "Loss after 3300 / 10000 epochs : 3.3846467\n",
      "Loss after 3400 / 10000 epochs : 3.3027942\n",
      "Loss after 3500 / 10000 epochs : 3.2247868\n",
      "Loss after 3600 / 10000 epochs : 3.1504867\n",
      "Loss after 3700 / 10000 epochs : 3.0797336\n",
      "Loss after 3800 / 10000 epochs : 3.0123398\n",
      "Loss after 3900 / 10000 epochs : 2.9480834\n",
      "Loss after 4000 / 10000 epochs : 2.886704\n",
      "Loss after 4100 / 10000 epochs : 2.827898\n",
      "Loss after 4200 / 10000 epochs : 2.7713265\n",
      "Loss after 4300 / 10000 epochs : 2.7166126\n",
      "Loss after 4400 / 10000 epochs : 2.6633513\n",
      "Loss after 4500 / 10000 epochs : 2.6111162\n",
      "Loss after 4600 / 10000 epochs : 2.5594738\n",
      "Loss after 4700 / 10000 epochs : 2.507998\n",
      "Loss after 4800 / 10000 epochs : 2.4562833\n",
      "Loss after 4900 / 10000 epochs : 2.4039712\n",
      "Loss after 5000 / 10000 epochs : 2.3507545\n",
      "Loss after 5100 / 10000 epochs : 2.2964075\n",
      "Loss after 5200 / 10000 epochs : 2.2407947\n",
      "Loss after 5300 / 10000 epochs : 2.1838932\n",
      "Loss after 5400 / 10000 epochs : 2.125793\n",
      "Loss after 5500 / 10000 epochs : 2.0667045\n",
      "Loss after 5600 / 10000 epochs : 2.0069523\n",
      "Loss after 5700 / 10000 epochs : 1.9469563\n",
      "Loss after 5800 / 10000 epochs : 1.8872048\n",
      "Loss after 5900 / 10000 epochs : 1.8282261\n",
      "Loss after 6000 / 10000 epochs : 1.7705513\n",
      "Loss after 6100 / 10000 epochs : 1.7146833\n",
      "Loss after 6200 / 10000 epochs : 1.6610653\n",
      "Loss after 6300 / 10000 epochs : 1.6100633\n",
      "Loss after 6400 / 10000 epochs : 1.5619488\n",
      "Loss after 6500 / 10000 epochs : 1.5168953\n",
      "Loss after 6600 / 10000 epochs : 1.47498\n",
      "Loss after 6700 / 10000 epochs : 1.4361942\n",
      "Loss after 6800 / 10000 epochs : 1.4004514\n",
      "Loss after 6900 / 10000 epochs : 1.3676097\n",
      "Loss after 7000 / 10000 epochs : 1.3374832\n",
      "Loss after 7100 / 10000 epochs : 1.3098614\n",
      "Loss after 7200 / 10000 epochs : 1.2845204\n",
      "Loss after 7300 / 10000 epochs : 1.2612383\n",
      "Loss after 7400 / 10000 epochs : 1.2398007\n",
      "Loss after 7500 / 10000 epochs : 1.2200089\n",
      "Loss after 7600 / 10000 epochs : 1.2016798\n",
      "Loss after 7700 / 10000 epochs : 1.1846536\n",
      "Loss after 7800 / 10000 epochs : 1.1687864\n",
      "Loss after 7900 / 10000 epochs : 1.1539543\n",
      "Loss after 8000 / 10000 epochs : 1.140049\n",
      "Loss after 8100 / 10000 epochs : 1.126977\n",
      "Loss after 8200 / 10000 epochs : 1.114658\n",
      "Loss after 8300 / 10000 epochs : 1.1030228\n",
      "Loss after 8400 / 10000 epochs : 1.0920088\n",
      "Loss after 8500 / 10000 epochs : 1.0815647\n",
      "Loss after 8600 / 10000 epochs : 1.0716432\n",
      "Loss after 8700 / 10000 epochs : 1.0622015\n",
      "Loss after 8800 / 10000 epochs : 1.0532043\n",
      "Loss after 8900 / 10000 epochs : 1.0446177\n",
      "Loss after 9000 / 10000 epochs : 1.0364119\n",
      "Loss after 9100 / 10000 epochs : 1.02856\n",
      "Loss after 9200 / 10000 epochs : 1.0210377\n",
      "Loss after 9300 / 10000 epochs : 1.0138222\n",
      "Loss after 9400 / 10000 epochs : 1.0068944\n",
      "Loss after 9500 / 10000 epochs : 1.0002342\n",
      "Loss after 9600 / 10000 epochs : 0.99382555\n",
      "Loss after 9700 / 10000 epochs : 0.98765314\n",
      "Loss after 9800 / 10000 epochs : 0.981701\n",
      "Loss after 9900 / 10000 epochs : 0.97595674\n",
      "Final loss after 10000 epochs : 0.97040737\n"
     ]
    }
   ],
   "source": [
    "optimizer = tf.keras.optimizers.SGD(learning_rate=6e-3)\n",
    "losses = []\n",
    "epochs_displayed = []\n",
    "\n",
    "for epoch in range(epochs) :\n",
    "    loss_value, grads = grad(model, training_points, M_0)\n",
    "    optimizer.apply_gradients(zip(grads, model.trainable_variables))\n",
    "\n",
    "    if epoch % display_step == 0 :\n",
    "        print(\"Loss after\",epoch,\"/\",epochs,\"epochs :\",loss_value.numpy())\n",
    "        losses.append(loss_value.numpy())\n",
    "        epochs_displayed.append(epoch)\n",
    "\n",
    "loss_value, grads = grad(model, training_points, M_0)\n",
    "print(\"Final loss after\",epochs,\"epochs :\",loss_value.numpy())\n",
    "losses.append(loss_value.numpy())\n",
    "epochs_displayed.append(epochs)"
   ]
  },
  {
   "cell_type": "code",
   "execution_count": 18,
   "metadata": {},
   "outputs": [],
   "source": [
    "if save_model :\n",
    "    model.save(save_filename)"
   ]
  },
  {
   "cell_type": "markdown",
   "metadata": {},
   "source": [
    "Plot the evolution of loss"
   ]
  },
  {
   "cell_type": "code",
   "execution_count": 8,
   "metadata": {},
   "outputs": [
    {
     "data": {
      "image/png": "[encoded data removed]",
      "text/plain": [
       "<Figure size 432x288 with 1 Axes>"
      ]
     },
     "metadata": {
      "needs_background": "light"
     },
     "output_type": "display_data"
    }
   ],
   "source": [
    "plt.plot(epochs_displayed, losses)\n",
    "plt.yscale('log')\n",
    "plt.show()\n"
   ]
  },
  {
   "cell_type": "markdown",
   "metadata": {},
   "source": [
    "Plot the estimation and the analytic solution"
   ]
  },
  {
   "cell_type": "code",
   "execution_count": 9,
   "metadata": {},
   "outputs": [
    {
     "data": {
      "image/png": "[encoded data removed]",
      "text/plain": [
       "<Figure size 432x288 with 1 Axes>"
      ]
     },
     "metadata": {
      "needs_background": "light"
     },
     "output_type": "display_data"
    }
   ],
   "source": [
    "plotting_points = np.linspace(-1,1,200)\n",
    "plotting_points = tf.convert_to_tensor(plotting_points, dtype=tf.float32)\n",
    "\n",
    "#neural network estimation\n",
    "output = model(plotting_points)\n",
    "Mx_NN, My_NN = M_0[0]+plotting_points*output[:,0], M_0[1]+plotting_points*output[:,1]\n",
    "\n",
    "#analytic solution\n",
    "Mx_ana =  M_0[0]*np.cos(W*plotting_points) + M_0[1]*np.sin(W*plotting_points)\n",
    "My_ana = -M_0[0]*np.sin(W*plotting_points) + M_0[1]*np.cos(W*plotting_points)\n",
    "\n",
    "#training points\n",
    "Mx_ana_training_points =  M_0[0]*np.cos(W*training_points) + M_0[1]*np.sin(W*training_points)\n",
    "My_ana_training_points = -M_0[0]*np.sin(W*training_points) + M_0[1]*np.cos(W*training_points)\n",
    "\n",
    "\n",
    "#3D plotting\n",
    "fig = plt.figure()\n",
    "ax = fig.add_subplot(111, projection='3d')\n",
    "\n",
    "ax.plot(        xs=Mx_NN,\n",
    "                ys=My_NN,\n",
    "                zs=plotting_points,\n",
    "                label='solution approchée')\n",
    "\n",
    "ax.plot(        xs=Mx_ana,\n",
    "                ys=My_ana,\n",
    "                zs=plotting_points,\n",
    "                label='solution exacte')\n",
    "\n",
    "\n",
    "\n",
    "ax.scatter(     xs=Mx_ana_training_points,\n",
    "                ys=My_ana_training_points,\n",
    "                zs=training_points,\n",
    "                color='red')\n",
    "\n",
    "plt.legend()\n",
    "plt.title('résolution par réseau de neurones')\n",
    "plt.show()"
   ]
  }
 ],
 "metadata": {
  "kernelspec": {
   "display_name": "Python 3.8.10 64-bit",
   "language": "python",
   "name": "python3"
  },
  "language_info": {
   "codemirror_mode": {
    "name": "ipython",
    "version": 3
   },
   "file_extension": ".py",
   "mimetype": "text/x-python",
   "name": "python",
   "nbconvert_exporter": "python",
   "pygments_lexer": "ipython3",
   "version": "3.8.10"
  },
  "orig_nbformat": 4,
  "vscode": {
   "interpreter": {
    "hash": "916dbcbb3f70747c44a77c7bcd40155683ae19c65e1c03b4aa3499c5328201f1"
   }
  }
 },
 "nbformat": 4,
 "nbformat_minor": 2
}
