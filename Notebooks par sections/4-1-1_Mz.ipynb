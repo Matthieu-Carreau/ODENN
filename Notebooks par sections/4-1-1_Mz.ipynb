{
 "cells": [
  {
   "cell_type": "markdown",
   "metadata": {},
   "source": [
    "Notebook correspondant à la section 3.2 du rapport, pour la résolution des équations couplées de la précession de Larmor :\n",
    "\\begin{equation}\n",
    "\\left\\{\n",
    "    \\begin{aligned}\n",
    "        \\frac{dM_x}{dt} &= \\omega M_y \\\\\n",
    "        \\frac{dM_y}{dt} &= -\\omega M_x\n",
    "    \\end{aligned}\n",
    "\\right.\n",
    "\\end{equation}"
   ]
  },
  {
   "cell_type": "code",
   "execution_count": 102,
   "metadata": {},
   "outputs": [],
   "source": [
    "#imports\n",
    "import numpy as np\n",
    "import tensorflow as tf\n",
    "import matplotlib.pyplot as plt\n",
    "from mpl_toolkits.mplot3d import Axes3D"
   ]
  },
  {
   "cell_type": "markdown",
   "metadata": {},
   "source": [
    "Physical parameters"
   ]
  },
  {
   "cell_type": "code",
   "execution_count": 103,
   "metadata": {},
   "outputs": [],
   "source": [
    "M_z0 = tf.constant(0, dtype='float32')\n",
    "W = 2*np.pi\n",
    "lamb = 0.3\n",
    "\n",
    "t_a = -2\n",
    "t_b = 2\n",
    "\n",
    "t_0 = 0"
   ]
  },
  {
   "cell_type": "markdown",
   "metadata": {},
   "source": [
    "Defining the ODE : this function returns the value expected of the derivative, given the independant variable and the value of the function."
   ]
  },
  {
   "cell_type": "code",
   "execution_count": 104,
   "metadata": {},
   "outputs": [],
   "source": [
    "def ODE(T, Mz, lamb, W) :\n",
    "    return lamb*W*(Mz**2-1)"
   ]
  },
  {
   "cell_type": "markdown",
   "metadata": {},
   "source": [
    "Training parameters"
   ]
  },
  {
   "cell_type": "code",
   "execution_count": 105,
   "metadata": {},
   "outputs": [],
   "source": [
    "N = 50 #number of samples for the independant variable\n",
    "training_points = np.linspace(t_a,t_b,N)\n",
    "training_points = tf.convert_to_tensor(training_points, dtype=tf.float32)\n",
    "\n",
    "load_model = True\n",
    "load_filename = \"models/Mz_NN\"\n",
    "save_model = True\n",
    "save_filename = \"models/1_hidden_layer_-2_2\"\n",
    "learning_rate = 1e-2\n",
    "epochs = 50000\n",
    "display_step = min(max(1,epochs//100), 1000)"
   ]
  },
  {
   "cell_type": "markdown",
   "metadata": {},
   "source": [
    "Initializing the network"
   ]
  },
  {
   "cell_type": "code",
   "execution_count": 106,
   "metadata": {},
   "outputs": [
    {
     "name": "stdout",
     "output_type": "stream",
     "text": [
      "WARNING:tensorflow:No training configuration found in save file, so the model was *not* compiled. Compile it manually.\n"
     ]
    }
   ],
   "source": [
    "# Network Parameters\n",
    "n_input = 1     # input layer number of neurons\n",
    "n_hidden_1 = 8 # 1st layer number of neurons\n",
    "#n_hidden_2 = 8  # 2nd layer number of neurons\n",
    "n_output = 1    # output layer number of neurons\n",
    "\n",
    "#tf.random.set_seed(24514)\n",
    "\n",
    "#model definition :\n",
    "model = tf.keras.Sequential([\n",
    "  tf.keras.layers.Dense(n_hidden_1, activation=tf.nn.sigmoid, input_shape=(n_input,)),  # input shape required\n",
    "  #tf.keras.layers.Dense(n_hidden_2, activation=tf.nn.sigmoid),\n",
    "  tf.keras.layers.Dense(n_output)\n",
    "])\n",
    "\n",
    "if load_model :\n",
    "    model = tf.keras.models.load_model(load_filename)\n",
    "\n"
   ]
  },
  {
   "cell_type": "markdown",
   "metadata": {},
   "source": [
    "Loss function\n",
    "https://www.tensorflow.org/versions/r2.0/api_docs/python/tf/GradientTape\n"
   ]
  },
  {
   "cell_type": "code",
   "execution_count": 107,
   "metadata": {},
   "outputs": [],
   "source": [
    "def loss_function(model, input_tensor, M_z0, lamb, W):\n",
    "\n",
    "    with tf.GradientTape(persistent=True) as tape:\n",
    "        tape.watch(input_tensor)\n",
    "        output = model(input_tensor, training=False)\n",
    "        Mz = M_z0+input_tensor*output[:,0]\n",
    "\n",
    "    dMz = tape.gradient(Mz, input_tensor)\n",
    "\n",
    "    e = dMz - ODE(input_tensor, Mz, lamb, W)\n",
    "\n",
    "    return tf.reduce_mean(e**2)"
   ]
  },
  {
   "cell_type": "markdown",
   "metadata": {},
   "source": [
    "Gradient of loss"
   ]
  },
  {
   "cell_type": "code",
   "execution_count": 108,
   "metadata": {},
   "outputs": [],
   "source": [
    "def grad(model, input_tensor, M_z0, lamb, W):\n",
    "    with tf.GradientTape() as tape2:\n",
    "        loss_value = loss_function(model, input_tensor, M_z0, lamb, W)\n",
    "    gradient = tape2.gradient(loss_value, model.trainable_variables)\n",
    " \n",
    "    return loss_value, gradient"
   ]
  },
  {
   "cell_type": "markdown",
   "metadata": {},
   "source": [
    "Training the neural network"
   ]
  },
  {
   "cell_type": "code",
   "execution_count": 114,
   "metadata": {},
   "outputs": [
    {
     "name": "stdout",
     "output_type": "stream",
     "text": [
      "Loss after 0 / 50000 epochs : 0.0002717169\n",
      "Loss after 500 / 50000 epochs : 0.00027036847\n",
      "Loss after 1000 / 50000 epochs : 0.00026902973\n",
      "Loss after 1500 / 50000 epochs : 0.0002676863\n",
      "Loss after 2000 / 50000 epochs : 0.0002663515\n",
      "Loss after 2500 / 50000 epochs : 0.00026501558\n",
      "Loss after 3000 / 50000 epochs : 0.0002636915\n",
      "Loss after 3500 / 50000 epochs : 0.00026237528\n",
      "Loss after 4000 / 50000 epochs : 0.00026107044\n",
      "Loss after 4500 / 50000 epochs : 0.00025977203\n",
      "Loss after 5000 / 50000 epochs : 0.000258475\n",
      "Loss after 5500 / 50000 epochs : 0.00025718156\n",
      "Loss after 6000 / 50000 epochs : 0.00025588908\n",
      "Loss after 6500 / 50000 epochs : 0.0002546082\n",
      "Loss after 7000 / 50000 epochs : 0.0002533279\n",
      "Loss after 7500 / 50000 epochs : 0.00025205823\n",
      "Loss after 8000 / 50000 epochs : 0.00025079792\n",
      "Loss after 8500 / 50000 epochs : 0.0002495487\n",
      "Loss after 9000 / 50000 epochs : 0.00024830573\n",
      "Loss after 9500 / 50000 epochs : 0.00024706268\n",
      "Loss after 10000 / 50000 epochs : 0.00024583086\n",
      "Loss after 10500 / 50000 epochs : 0.00024459726\n",
      "Loss after 11000 / 50000 epochs : 0.00024337668\n",
      "Loss after 11500 / 50000 epochs : 0.00024216533\n",
      "Loss after 12000 / 50000 epochs : 0.00024095994\n",
      "Loss after 12500 / 50000 epochs : 0.0002397557\n",
      "Loss after 13000 / 50000 epochs : 0.00023855746\n",
      "Loss after 13500 / 50000 epochs : 0.00023736272\n",
      "Loss after 14000 / 50000 epochs : 0.00023618387\n",
      "Loss after 14500 / 50000 epochs : 0.00023500266\n",
      "Loss after 15000 / 50000 epochs : 0.00023382758\n",
      "Loss after 15500 / 50000 epochs : 0.0002326633\n",
      "Loss after 16000 / 50000 epochs : 0.00023150016\n",
      "Loss after 16500 / 50000 epochs : 0.00023033997\n",
      "Loss after 17000 / 50000 epochs : 0.00022918527\n",
      "Loss after 17500 / 50000 epochs : 0.00022803951\n",
      "Loss after 18000 / 50000 epochs : 0.00022690425\n",
      "Loss after 18500 / 50000 epochs : 0.00022576936\n",
      "Loss after 19000 / 50000 epochs : 0.00022464065\n",
      "Loss after 19500 / 50000 epochs : 0.00022352314\n",
      "Loss after 20000 / 50000 epochs : 0.00022240847\n",
      "Loss after 20500 / 50000 epochs : 0.00022130285\n",
      "Loss after 21000 / 50000 epochs : 0.00022020083\n",
      "Loss after 21500 / 50000 epochs : 0.00021911533\n",
      "Loss after 22000 / 50000 epochs : 0.00021802336\n",
      "Loss after 22500 / 50000 epochs : 0.00021694346\n",
      "Loss after 23000 / 50000 epochs : 0.00021586208\n",
      "Loss after 23500 / 50000 epochs : 0.00021479293\n",
      "Loss after 24000 / 50000 epochs : 0.0002137266\n",
      "Loss after 24500 / 50000 epochs : 0.00021266565\n",
      "Loss after 25000 / 50000 epochs : 0.00021162053\n",
      "Loss after 25500 / 50000 epochs : 0.00021057816\n",
      "Loss after 26000 / 50000 epochs : 0.00020953901\n",
      "Loss after 26500 / 50000 epochs : 0.0002085134\n",
      "Loss after 27000 / 50000 epochs : 0.00020749532\n",
      "Loss after 27500 / 50000 epochs : 0.00020647612\n",
      "Loss after 28000 / 50000 epochs : 0.00020546041\n",
      "Loss after 28500 / 50000 epochs : 0.000204449\n",
      "Loss after 29000 / 50000 epochs : 0.00020344756\n",
      "Loss after 29500 / 50000 epochs : 0.00020244675\n",
      "Loss after 30000 / 50000 epochs : 0.00020145692\n",
      "Loss after 30500 / 50000 epochs : 0.00020047868\n",
      "Loss after 31000 / 50000 epochs : 0.00019950865\n",
      "Loss after 31500 / 50000 epochs : 0.00019854096\n",
      "Loss after 32000 / 50000 epochs : 0.00019757876\n",
      "Loss after 32500 / 50000 epochs : 0.00019662472\n",
      "Loss after 33000 / 50000 epochs : 0.00019567169\n",
      "Loss after 33500 / 50000 epochs : 0.00019472525\n",
      "Loss after 34000 / 50000 epochs : 0.00019377584\n",
      "Loss after 34500 / 50000 epochs : 0.00019283574\n",
      "Loss after 35000 / 50000 epochs : 0.00019189682\n",
      "Loss after 35500 / 50000 epochs : 0.0001909756\n",
      "Loss after 36000 / 50000 epochs : 0.00019004697\n",
      "Loss after 36500 / 50000 epochs : 0.00018913753\n",
      "Loss after 37000 / 50000 epochs : 0.0001882133\n",
      "Loss after 37500 / 50000 epochs : 0.0001873134\n",
      "Loss after 38000 / 50000 epochs : 0.00018641645\n",
      "Loss after 38500 / 50000 epochs : 0.0001855269\n",
      "Loss after 39000 / 50000 epochs : 0.00018463757\n",
      "Loss after 39500 / 50000 epochs : 0.00018375267\n",
      "Loss after 40000 / 50000 epochs : 0.00018286401\n",
      "Loss after 40500 / 50000 epochs : 0.00018198707\n",
      "Loss after 41000 / 50000 epochs : 0.00018110976\n",
      "Loss after 41500 / 50000 epochs : 0.00018023624\n",
      "Loss after 42000 / 50000 epochs : 0.00017935708\n",
      "Loss after 42500 / 50000 epochs : 0.00017848684\n",
      "Loss after 43000 / 50000 epochs : 0.00017762413\n",
      "Loss after 43500 / 50000 epochs : 0.00017675968\n",
      "Loss after 44000 / 50000 epochs : 0.00017590157\n",
      "Loss after 44500 / 50000 epochs : 0.00017505458\n",
      "Loss after 45000 / 50000 epochs : 0.0001742086\n",
      "Loss after 45500 / 50000 epochs : 0.0001733749\n",
      "Loss after 46000 / 50000 epochs : 0.00017255088\n",
      "Loss after 46500 / 50000 epochs : 0.00017173422\n",
      "Loss after 47000 / 50000 epochs : 0.0001709139\n",
      "Loss after 47500 / 50000 epochs : 0.00017010252\n",
      "Loss after 48000 / 50000 epochs : 0.00016929554\n",
      "Loss after 48500 / 50000 epochs : 0.00016848877\n",
      "Loss after 49000 / 50000 epochs : 0.00016768443\n",
      "Loss after 49500 / 50000 epochs : 0.00016688358\n",
      "Final loss after 50000 epochs : 0.0001660869\n"
     ]
    }
   ],
   "source": [
    "optimizer = tf.keras.optimizers.SGD(learning_rate=learning_rate)\n",
    "losses = []\n",
    "epochs_displayed = []\n",
    "\n",
    "for epoch in range(epochs) :\n",
    "    loss_value, grads = grad(model, training_points, M_z0, lamb, W)\n",
    "    optimizer.apply_gradients(zip(grads, model.trainable_variables))\n",
    "\n",
    "    if epoch % display_step == 0 :\n",
    "        print(\"Loss after\",epoch,\"/\",epochs,\"epochs :\",loss_value.numpy())\n",
    "        losses.append(loss_value.numpy())\n",
    "        epochs_displayed.append(epoch)\n",
    "\n",
    "loss_value, grads = grad(model, training_points, M_z0, lamb, W)\n",
    "#print(\"num grad_w\",numerical_grad_w(model, training_points, M_z0, lamb, W))\n",
    "print(\"Final loss after\",epochs,\"epochs :\",loss_value.numpy())\n",
    "losses.append(loss_value.numpy())\n",
    "epochs_displayed.append(epochs)"
   ]
  },
  {
   "cell_type": "code",
   "execution_count": 110,
   "metadata": {},
   "outputs": [
    {
     "name": "stdout",
     "output_type": "stream",
     "text": [
      "WARNING:tensorflow:Compiled the loaded model, but the compiled metrics have yet to be built. `model.compile_metrics` will be empty until you train or evaluate the model.\n",
      "INFO:tensorflow:Assets written to: models/1_hidden_layer_-2_2/assets\n"
     ]
    }
   ],
   "source": [
    "\n",
    "if save_model :\n",
    "    model.save(save_filename)"
   ]
  },
  {
   "cell_type": "markdown",
   "metadata": {},
   "source": [
    "Plot the evolution of loss"
   ]
  },
  {
   "cell_type": "code",
   "execution_count": 115,
   "metadata": {},
   "outputs": [
    {
     "data": {
      "image/png": "[encoded data removed]",
      "text/plain": [
       "<Figure size 432x288 with 1 Axes>"
      ]
     },
     "metadata": {
      "needs_background": "light"
     },
     "output_type": "display_data"
    }
   ],
   "source": [
    "plt.plot(epochs_displayed, losses)\n",
    "plt.yscale('log')\n",
    "plt.show()"
   ]
  },
  {
   "cell_type": "markdown",
   "metadata": {},
   "source": [
    "Compute the analytic solution"
   ]
  },
  {
   "cell_type": "code",
   "execution_count": 112,
   "metadata": {},
   "outputs": [],
   "source": [
    "def analytic(T, M_z0, lamb, W) :\n",
    "    K = (M_z0-1) / (M_z0+1)\n",
    "    Kexp = K*np.exp(2*lamb*W*T)\n",
    "    Mz_ana = (1+Kexp) / (1-Kexp)\n",
    "    return Mz_ana"
   ]
  },
  {
   "cell_type": "markdown",
   "metadata": {},
   "source": [
    "Plot the estimation and the analytic solution"
   ]
  },
  {
   "cell_type": "code",
   "execution_count": 116,
   "metadata": {},
   "outputs": [
    {
     "name": "stdout",
     "output_type": "stream",
     "text": [
      "Extreme values of output after : -1.8578057 -0.49934894\n"
     ]
    },
    {
     "data": {
      "image/png": "[encoded data removed]",
      "text/plain": [
       "<Figure size 432x288 with 1 Axes>"
      ]
     },
     "metadata": {
      "needs_background": "light"
     },
     "output_type": "display_data"
    }
   ],
   "source": [
    "#plot the estimation\n",
    "nb_plotting_points = 200\n",
    "plotting_points = np.linspace(t_a,t_b,nb_plotting_points)\n",
    "plotting_points = tf.convert_to_tensor(plotting_points, dtype=tf.float32)\n",
    "\n",
    "#neural network estimation\n",
    "output = model(plotting_points).numpy().reshape((nb_plotting_points))\n",
    "Mz_NN = M_z0 + (plotting_points-M_z0)*output\n",
    "\n",
    "\n",
    "print(\"Extreme values of output after :\",min(output), max(output))\n",
    "#analytic solution\n",
    "Mz_ana = analytic(plotting_points, M_z0, lamb, W)\n",
    "\n",
    "#training points\n",
    "Mz_ana_training = analytic(training_points, M_z0, lamb, W)\n",
    "\n",
    "\n",
    "plt.plot(plotting_points, Mz_NN, label='solution approchée')\n",
    "plt.plot(plotting_points, Mz_ana, label='solution exacte')\n",
    "plt.scatter(training_points, Mz_ana_training, label=\"points d'entraînement\", color='red')\n",
    "\n",
    "plt.legend()\n",
    "plt.title('résolution par réseau de neurones')\n",
    "plt.show()\n"
   ]
  }
 ],
 "metadata": {
  "kernelspec": {
   "display_name": "Python 3.8.10 64-bit",
   "language": "python",
   "name": "python3"
  },
  "language_info": {
   "codemirror_mode": {
    "name": "ipython",
    "version": 3
   },
   "file_extension": ".py",
   "mimetype": "text/x-python",
   "name": "python",
   "nbconvert_exporter": "python",
   "pygments_lexer": "ipython3",
   "version": "3.8.10"
  },
  "orig_nbformat": 4,
  "vscode": {
   "interpreter": {
    "hash": "916dbcbb3f70747c44a77c7bcd40155683ae19c65e1c03b4aa3499c5328201f1"
   }
  }
 },
 "nbformat": 4,
 "nbformat_minor": 2
}
