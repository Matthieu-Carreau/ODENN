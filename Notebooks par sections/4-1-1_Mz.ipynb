{
 "cells": [
  {
   "cell_type": "markdown",
   "metadata": {},
   "source": [
    "Notebook correspondant à la section 4.1.1 du rapport, pour la résolution de l'équation sur  $M_z$ pour le mouvement de précession avec amortissement.\n",
    "\\begin{equation}\n",
    "    \\frac{dM_z}{d\\tilde{t}} = \\lambda\\omega_z (1-M_z^2) \n",
    "\\end{equation}"
   ]
  },
  {
   "cell_type": "code",
   "execution_count": 275,
   "metadata": {},
   "outputs": [],
   "source": [
    "#imports\n",
    "import numpy as np\n",
    "import tensorflow as tf\n",
    "import matplotlib.pyplot as plt\n",
    "from mpl_toolkits.mplot3d import Axes3D"
   ]
  },
  {
   "cell_type": "markdown",
   "metadata": {},
   "source": [
    "Physical parameters"
   ]
  },
  {
   "cell_type": "code",
   "execution_count": 276,
   "metadata": {},
   "outputs": [],
   "source": [
    "M_z0 = tf.constant(0, dtype='float32')\n",
    "W = 2*np.pi\n",
    "lamb = -0.3\n",
    "\n",
    "t_a = -2\n",
    "t_b = 2\n",
    "\n",
    "t_0 = 0"
   ]
  },
  {
   "cell_type": "markdown",
   "metadata": {},
   "source": [
    "Defining the ODE : this function returns the value expected of the derivative, given the independant variable and the value of the function."
   ]
  },
  {
   "cell_type": "code",
   "execution_count": 277,
   "metadata": {},
   "outputs": [],
   "source": [
    "def ODE(T, Mz, lamb, W) :\n",
    "    return lamb*W*(1-Mz**2)"
   ]
  },
  {
   "cell_type": "markdown",
   "metadata": {},
   "source": [
    "Training parameters"
   ]
  },
  {
   "cell_type": "code",
   "execution_count": 278,
   "metadata": {},
   "outputs": [],
   "source": [
    "N = 50 #number of samples for the independant variable\n",
    "training_points = np.linspace(t_a,t_b,N)\n",
    "training_points = tf.convert_to_tensor(training_points, dtype=tf.float32)\n",
    "\n",
    "load_model = False\n",
    "load_filename = \"models/Mz_NN\"\n",
    "save_model = False\n",
    "save_filename = \"models/Mz\"\n",
    "learning_rate = 1e-2\n",
    "epochs = 10000\n",
    "display_step = min(max(1,epochs//100), 1000)"
   ]
  },
  {
   "cell_type": "markdown",
   "metadata": {},
   "source": [
    "Initializing the network"
   ]
  },
  {
   "cell_type": "code",
   "execution_count": 279,
   "metadata": {},
   "outputs": [],
   "source": [
    "# Network Parameters\n",
    "n_input = 1     # input layer number of neurons\n",
    "n_hidden_1 = 8 # 1st layer number of neurons\n",
    "n_output = 1    # output layer number of neurons\n",
    "\n",
    "#tf.random.set_seed(24514)\n",
    "\n",
    "#model definition :\n",
    "model = tf.keras.Sequential([\n",
    "  tf.keras.layers.Dense(n_hidden_1, activation=tf.nn.sigmoid, input_shape=(n_input,)),\n",
    "  tf.keras.layers.Dense(n_output)\n",
    "])\n",
    "\n",
    "if load_model :\n",
    "    model = tf.keras.models.load_model(load_filename)\n",
    "\n"
   ]
  },
  {
   "cell_type": "markdown",
   "metadata": {},
   "source": [
    "Loss function\n",
    "https://www.tensorflow.org/versions/r2.0/api_docs/python/tf/GradientTape\n"
   ]
  },
  {
   "cell_type": "code",
   "execution_count": 280,
   "metadata": {},
   "outputs": [],
   "source": [
    "def loss_function(model, input_tensor, M_z0, lamb, W):\n",
    "\n",
    "    with tf.GradientTape(persistent=True) as tape:\n",
    "        tape.watch(input_tensor)\n",
    "        output = model(input_tensor, training=False)\n",
    "        Mz = M_z0+input_tensor*output[:,0]\n",
    "\n",
    "    dMz = tape.gradient(Mz, input_tensor)\n",
    "\n",
    "    e = dMz - ODE(input_tensor, Mz, lamb, W)\n",
    "\n",
    "    return tf.reduce_mean(e**2)"
   ]
  },
  {
   "cell_type": "markdown",
   "metadata": {},
   "source": [
    "Gradient of loss"
   ]
  },
  {
   "cell_type": "code",
   "execution_count": 281,
   "metadata": {},
   "outputs": [],
   "source": [
    "def grad(model, input_tensor, M_z0, lamb, W):\n",
    "    with tf.GradientTape() as tape2:\n",
    "        loss_value = loss_function(model, input_tensor, M_z0, lamb, W)\n",
    "    gradient = tape2.gradient(loss_value, model.trainable_variables)\n",
    " \n",
    "    return loss_value, gradient"
   ]
  },
  {
   "cell_type": "markdown",
   "metadata": {},
   "source": [
    "Training the neural network"
   ]
  },
  {
   "cell_type": "code",
   "execution_count": 282,
   "metadata": {},
   "outputs": [
    {
     "name": "stdout",
     "output_type": "stream",
     "text": [
      "Loss after 0 / 10000 epochs : 5.753753\n",
      "Loss after 100 / 10000 epochs : 0.7823462\n",
      "Loss after 200 / 10000 epochs : 0.7668061\n",
      "Loss after 300 / 10000 epochs : 0.7462986\n",
      "Loss after 400 / 10000 epochs : 0.7160053\n",
      "Loss after 500 / 10000 epochs : 0.6688451\n",
      "Loss after 600 / 10000 epochs : 0.5965021\n",
      "Loss after 700 / 10000 epochs : 0.49546784\n",
      "Loss after 800 / 10000 epochs : 0.37615433\n",
      "Loss after 900 / 10000 epochs : 0.26260915\n",
      "Loss after 1000 / 10000 epochs : 0.17694227\n",
      "Loss after 1100 / 10000 epochs : 0.12420272\n",
      "Loss after 1200 / 10000 epochs : 0.09500534\n",
      "Loss after 1300 / 10000 epochs : 0.07800562\n",
      "Loss after 1400 / 10000 epochs : 0.066370554\n",
      "Loss after 1500 / 10000 epochs : 0.057258636\n",
      "Loss after 1600 / 10000 epochs : 0.049712706\n",
      "Loss after 1700 / 10000 epochs : 0.04338957\n",
      "Loss after 1800 / 10000 epochs : 0.03809614\n",
      "Loss after 1900 / 10000 epochs : 0.033675622\n",
      "Loss after 2000 / 10000 epochs : 0.029990077\n",
      "Loss after 2100 / 10000 epochs : 0.026920086\n",
      "Loss after 2200 / 10000 epochs : 0.024363883\n",
      "Loss after 2300 / 10000 epochs : 0.022235846\n",
      "Loss after 2400 / 10000 epochs : 0.020463996\n",
      "Loss after 2500 / 10000 epochs : 0.018988354\n",
      "Loss after 2600 / 10000 epochs : 0.01775878\n",
      "Loss after 2700 / 10000 epochs : 0.016733456\n",
      "Loss after 2800 / 10000 epochs : 0.015877705\n",
      "Loss after 2900 / 10000 epochs : 0.015162601\n",
      "Loss after 3000 / 10000 epochs : 0.014564159\n",
      "Loss after 3100 / 10000 epochs : 0.014062444\n",
      "Loss after 3200 / 10000 epochs : 0.013640954\n",
      "Loss after 3300 / 10000 epochs : 0.013285906\n",
      "Loss after 3400 / 10000 epochs : 0.01298594\n",
      "Loss after 3500 / 10000 epochs : 0.01273166\n",
      "Loss after 3600 / 10000 epochs : 0.012515222\n",
      "Loss after 3700 / 10000 epochs : 0.012330172\n",
      "Loss after 3800 / 10000 epochs : 0.012171061\n",
      "Loss after 3900 / 10000 epochs : 0.0120335\n",
      "Loss after 4000 / 10000 epochs : 0.011913773\n",
      "Loss after 4100 / 10000 epochs : 0.011808863\n",
      "Loss after 4200 / 10000 epochs : 0.011716163\n",
      "Loss after 4300 / 10000 epochs : 0.011633614\n",
      "Loss after 4400 / 10000 epochs : 0.011559454\n",
      "Loss after 4500 / 10000 epochs : 0.011492232\n",
      "Loss after 4600 / 10000 epochs : 0.011430754\n",
      "Loss after 4700 / 10000 epochs : 0.01137406\n",
      "Loss after 4800 / 10000 epochs : 0.01132128\n",
      "Loss after 4900 / 10000 epochs : 0.01127172\n",
      "Loss after 5000 / 10000 epochs : 0.011224835\n",
      "Loss after 5100 / 10000 epochs : 0.011180162\n",
      "Loss after 5200 / 10000 epochs : 0.011137307\n",
      "Loss after 5300 / 10000 epochs : 0.011095954\n",
      "Loss after 5400 / 10000 epochs : 0.011055773\n",
      "Loss after 5500 / 10000 epochs : 0.011016603\n",
      "Loss after 5600 / 10000 epochs : 0.010978222\n",
      "Loss after 5700 / 10000 epochs : 0.010940535\n",
      "Loss after 5800 / 10000 epochs : 0.01090332\n",
      "Loss after 5900 / 10000 epochs : 0.0108665535\n",
      "Loss after 6000 / 10000 epochs : 0.0108300885\n",
      "Loss after 6100 / 10000 epochs : 0.010793873\n",
      "Loss after 6200 / 10000 epochs : 0.0107578635\n",
      "Loss after 6300 / 10000 epochs : 0.010722024\n",
      "Loss after 6400 / 10000 epochs : 0.010686219\n",
      "Loss after 6500 / 10000 epochs : 0.010650513\n",
      "Loss after 6600 / 10000 epochs : 0.0106148\n",
      "Loss after 6700 / 10000 epochs : 0.010579087\n",
      "Loss after 6800 / 10000 epochs : 0.01054339\n",
      "Loss after 6900 / 10000 epochs : 0.010507616\n",
      "Loss after 7000 / 10000 epochs : 0.01047182\n",
      "Loss after 7100 / 10000 epochs : 0.010435972\n",
      "Loss after 7200 / 10000 epochs : 0.010399979\n",
      "Loss after 7300 / 10000 epochs : 0.010363967\n",
      "Loss after 7400 / 10000 epochs : 0.010327819\n",
      "Loss after 7500 / 10000 epochs : 0.010291576\n",
      "Loss after 7600 / 10000 epochs : 0.0102552725\n",
      "Loss after 7700 / 10000 epochs : 0.010218828\n",
      "Loss after 7800 / 10000 epochs : 0.010182253\n",
      "Loss after 7900 / 10000 epochs : 0.010145582\n",
      "Loss after 8000 / 10000 epochs : 0.010108761\n",
      "Loss after 8100 / 10000 epochs : 0.010071852\n",
      "Loss after 8200 / 10000 epochs : 0.010034826\n",
      "Loss after 8300 / 10000 epochs : 0.009997604\n",
      "Loss after 8400 / 10000 epochs : 0.009960317\n",
      "Loss after 8500 / 10000 epochs : 0.009922895\n",
      "Loss after 8600 / 10000 epochs : 0.00988532\n",
      "Loss after 8700 / 10000 epochs : 0.009847591\n",
      "Loss after 8800 / 10000 epochs : 0.009809763\n",
      "Loss after 8900 / 10000 epochs : 0.009771783\n",
      "Loss after 9000 / 10000 epochs : 0.009733694\n",
      "Loss after 9100 / 10000 epochs : 0.009695429\n",
      "Loss after 9200 / 10000 epochs : 0.009657044\n",
      "Loss after 9300 / 10000 epochs : 0.009618519\n",
      "Loss after 9400 / 10000 epochs : 0.009579863\n",
      "Loss after 9500 / 10000 epochs : 0.00954105\n",
      "Loss after 9600 / 10000 epochs : 0.009502131\n",
      "Loss after 9700 / 10000 epochs : 0.0094630495\n",
      "Loss after 9800 / 10000 epochs : 0.009423853\n",
      "Loss after 9900 / 10000 epochs : 0.009384497\n",
      "Final loss after 10000 epochs : 0.009345026\n"
     ]
    }
   ],
   "source": [
    "optimizer = tf.keras.optimizers.SGD(learning_rate=learning_rate)\n",
    "losses = []\n",
    "epochs_displayed = []\n",
    "\n",
    "for epoch in range(epochs) :\n",
    "    loss_value, grads = grad(model, training_points, M_z0, lamb, W)\n",
    "    optimizer.apply_gradients(zip(grads, model.trainable_variables))\n",
    "\n",
    "    if epoch % display_step == 0 :\n",
    "        print(\"Loss after\",epoch,\"/\",epochs,\"epochs :\",loss_value.numpy())\n",
    "        losses.append(loss_value.numpy())\n",
    "        epochs_displayed.append(epoch)\n",
    "\n",
    "loss_value, grads = grad(model, training_points, M_z0, lamb, W)\n",
    "print(\"Final loss after\",epochs,\"epochs :\",loss_value.numpy())\n",
    "losses.append(loss_value.numpy())\n",
    "epochs_displayed.append(epochs)"
   ]
  },
  {
   "cell_type": "code",
   "execution_count": 283,
   "metadata": {},
   "outputs": [],
   "source": [
    "\n",
    "if save_model :\n",
    "    model.save(save_filename)"
   ]
  },
  {
   "cell_type": "markdown",
   "metadata": {},
   "source": [
    "Plot the evolution of loss"
   ]
  },
  {
   "cell_type": "code",
   "execution_count": 284,
   "metadata": {},
   "outputs": [
    {
     "data": {
      "image/png": "[encoded data removed]",
      "text/plain": [
       "<Figure size 432x288 with 1 Axes>"
      ]
     },
     "metadata": {
      "needs_background": "light"
     },
     "output_type": "display_data"
    }
   ],
   "source": [
    "plt.plot(epochs_displayed, losses)\n",
    "plt.yscale('log')\n",
    "plt.show()"
   ]
  },
  {
   "cell_type": "markdown",
   "metadata": {},
   "source": [
    "Compute the analytic solution"
   ]
  },
  {
   "cell_type": "code",
   "execution_count": 285,
   "metadata": {},
   "outputs": [],
   "source": [
    "def analytic(T, M_z0, lamb, W) :\n",
    "    K = (M_z0-1) / (M_z0+1)\n",
    "    Kexp = K*np.exp(-2*lamb*W*T)\n",
    "    Mz_ana = (1+Kexp) / (1-Kexp)\n",
    "    return Mz_ana"
   ]
  },
  {
   "cell_type": "markdown",
   "metadata": {},
   "source": [
    "Plot the estimation and the analytic solution"
   ]
  },
  {
   "cell_type": "code",
   "execution_count": 286,
   "metadata": {},
   "outputs": [
    {
     "name": "stdout",
     "output_type": "stream",
     "text": [
      "Extreme values of output after : -1.6845815 -0.50336856\n"
     ]
    },
    {
     "data": {
      "image/png": "[encoded data removed]",
      "text/plain": [
       "<Figure size 432x288 with 1 Axes>"
      ]
     },
     "metadata": {
      "needs_background": "light"
     },
     "output_type": "display_data"
    }
   ],
   "source": [
    "#plot the estimation\n",
    "nb_plotting_points = 200\n",
    "plotting_points = np.linspace(t_a,t_b,nb_plotting_points)\n",
    "plotting_points = tf.convert_to_tensor(plotting_points, dtype=tf.float32)\n",
    "\n",
    "#neural network estimation\n",
    "output = model(plotting_points).numpy().reshape((nb_plotting_points))\n",
    "Mz_NN = M_z0 + (plotting_points-M_z0)*output\n",
    "\n",
    "\n",
    "print(\"Extreme values of output after :\",min(output), max(output))\n",
    "#analytic solution\n",
    "Mz_ana = analytic(plotting_points, M_z0, lamb, W)\n",
    "\n",
    "#training points\n",
    "Mz_ana_training = analytic(training_points, M_z0, lamb, W)\n",
    "\n",
    "\n",
    "plt.plot(plotting_points, Mz_NN, label='solution approchée')\n",
    "plt.plot(plotting_points, Mz_ana, label='solution exacte')\n",
    "plt.scatter(training_points, Mz_ana_training, label=\"points d'entraînement\", color='red')\n",
    "\n",
    "plt.legend()\n",
    "plt.title('résolution par réseau de neurones')\n",
    "plt.show()\n"
   ]
  }
 ],
 "metadata": {
  "kernelspec": {
   "display_name": "Python 3.8.10 64-bit",
   "language": "python",
   "name": "python3"
  },
  "language_info": {
   "codemirror_mode": {
    "name": "ipython",
    "version": 3
   },
   "file_extension": ".py",
   "mimetype": "text/x-python",
   "name": "python",
   "nbconvert_exporter": "python",
   "pygments_lexer": "ipython3",
   "version": "3.8.10"
  },
  "orig_nbformat": 4,
  "vscode": {
   "interpreter": {
    "hash": "916dbcbb3f70747c44a77c7bcd40155683ae19c65e1c03b4aa3499c5328201f1"
   }
  }
 },
 "nbformat": 4,
 "nbformat_minor": 2
}
