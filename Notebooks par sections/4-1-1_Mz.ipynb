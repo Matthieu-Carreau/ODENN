{
 "cells": [
  {
   "cell_type": "markdown",
   "metadata": {},
   "source": [
    "Notebook correspondant à la section 3.2 du rapport, pour la résolution des équations couplées de la précession de Larmor :\n",
    "\\begin{equation}\n",
    "\\left\\{\n",
    "    \\begin{aligned}\n",
    "        \\frac{dM_x}{dt} &= \\omega M_y \\\\\n",
    "        \\frac{dM_y}{dt} &= -\\omega M_x\n",
    "    \\end{aligned}\n",
    "\\right.\n",
    "\\end{equation}"
   ]
  },
  {
   "cell_type": "code",
   "execution_count": 76,
   "metadata": {},
   "outputs": [],
   "source": [
    "#imports\n",
    "import numpy as np\n",
    "import tensorflow as tf\n",
    "import matplotlib.pyplot as plt\n",
    "from mpl_toolkits.mplot3d import Axes3D"
   ]
  },
  {
   "cell_type": "markdown",
   "metadata": {},
   "source": [
    "Physical parameters"
   ]
  },
  {
   "cell_type": "code",
   "execution_count": 77,
   "metadata": {},
   "outputs": [],
   "source": [
    "M_z0 = tf.constant(0, dtype='float32')\n",
    "W = 2*np.pi\n",
    "lamb = 0.3\n",
    "\n",
    "t_a = -2\n",
    "t_b = 2\n",
    "\n",
    "t_0 = 0"
   ]
  },
  {
   "cell_type": "markdown",
   "metadata": {},
   "source": [
    "Defining the ODE : this function returns the value expected of the derivative, given the independant variable and the value of the function."
   ]
  },
  {
   "cell_type": "code",
   "execution_count": 78,
   "metadata": {},
   "outputs": [],
   "source": [
    "def ODE(T, Mz, lamb, W) :\n",
    "    return lamb*W*(Mz**2-1)"
   ]
  },
  {
   "cell_type": "markdown",
   "metadata": {},
   "source": [
    "Training parameters"
   ]
  },
  {
   "cell_type": "code",
   "execution_count": 89,
   "metadata": {},
   "outputs": [],
   "source": [
    "N = 50 #number of samples for the independant variable\n",
    "training_points = np.linspace(t_a,t_b,N)\n",
    "training_points = tf.convert_to_tensor(training_points, dtype=tf.float32)\n",
    "\n",
    "load_model = False\n",
    "load_filename = \"models/1_hidden_layer_-2_2\"\n",
    "save_model = False\n",
    "save_filename = \"models/1_hidden_layer_-2_2\"\n",
    "learning_rate = 1e-2\n",
    "epochs = 10000\n",
    "display_step = min(max(1,epochs//100), 1000)"
   ]
  },
  {
   "cell_type": "markdown",
   "metadata": {},
   "source": [
    "Initializing the network"
   ]
  },
  {
   "cell_type": "code",
   "execution_count": 80,
   "metadata": {},
   "outputs": [
    {
     "name": "stdout",
     "output_type": "stream",
     "text": [
      "WARNING:tensorflow:No training configuration found in save file, so the model was *not* compiled. Compile it manually.\n"
     ]
    }
   ],
   "source": [
    "# Network Parameters\n",
    "n_input = 1     # input layer number of neurons\n",
    "n_hidden_1 = 8 # 1st layer number of neurons\n",
    "#n_hidden_2 = 8  # 2nd layer number of neurons\n",
    "n_output = 1    # output layer number of neurons\n",
    "\n",
    "#tf.random.set_seed(24514)\n",
    "\n",
    "#model definition :\n",
    "model = tf.keras.Sequential([\n",
    "  tf.keras.layers.Dense(n_hidden_1, activation=tf.nn.sigmoid, input_shape=(n_input,)),  # input shape required\n",
    "  #tf.keras.layers.Dense(n_hidden_2, activation=tf.nn.sigmoid),\n",
    "  tf.keras.layers.Dense(n_output)\n",
    "])\n",
    "\n",
    "if load_model :\n",
    "    model = tf.keras.models.load_model(load_filename)\n",
    "\n",
    "optimizer = tf.keras.optimizers.SGD(learning_rate=learning_rate)"
   ]
  },
  {
   "cell_type": "markdown",
   "metadata": {},
   "source": [
    "Loss function\n",
    "https://www.tensorflow.org/versions/r2.0/api_docs/python/tf/GradientTape\n"
   ]
  },
  {
   "cell_type": "code",
   "execution_count": 81,
   "metadata": {},
   "outputs": [],
   "source": [
    "def loss_function(model, input_tensor, M_z0, lamb, W):\n",
    "\n",
    "    with tf.GradientTape(persistent=True) as tape:\n",
    "        tape.watch(input_tensor)\n",
    "        output = model(input_tensor, training=False)\n",
    "        Mz = M_z0+input_tensor*output[:,0]\n",
    "\n",
    "    dMz = tape.gradient(Mz, input_tensor)\n",
    "\n",
    "    e = dMz - ODE(input_tensor, Mz, lamb, W)\n",
    "\n",
    "    return tf.reduce_mean(e**2)"
   ]
  },
  {
   "cell_type": "markdown",
   "metadata": {},
   "source": [
    "Gradient of loss"
   ]
  },
  {
   "cell_type": "code",
   "execution_count": 82,
   "metadata": {},
   "outputs": [],
   "source": [
    "def grad(model, input_tensor, M_z0, lamb, W):\n",
    "    with tf.GradientTape() as tape2:\n",
    "        loss_value = loss_function(model, input_tensor, M_z0, lamb, W)\n",
    "    gradient = tape2.gradient(loss_value, model.trainable_variables)\n",
    " \n",
    "    return loss_value, gradient"
   ]
  },
  {
   "cell_type": "markdown",
   "metadata": {},
   "source": [
    "Training the neural network"
   ]
  },
  {
   "cell_type": "code",
   "execution_count": 90,
   "metadata": {},
   "outputs": [
    {
     "name": "stdout",
     "output_type": "stream",
     "text": [
      "Loss after 0 / 10000 epochs : 0.0003004288\n",
      "Loss after 100 / 10000 epochs : 0.00030012184\n",
      "Loss after 200 / 10000 epochs : 0.00029982082\n",
      "Loss after 300 / 10000 epochs : 0.0002995161\n",
      "Loss after 400 / 10000 epochs : 0.00029921732\n",
      "Loss after 500 / 10000 epochs : 0.00029891872\n",
      "Loss after 600 / 10000 epochs : 0.00029861584\n",
      "Loss after 700 / 10000 epochs : 0.00029831124\n",
      "Loss after 800 / 10000 epochs : 0.00029800498\n",
      "Loss after 900 / 10000 epochs : 0.00029770724\n",
      "Loss after 1000 / 10000 epochs : 0.00029740718\n",
      "Loss after 1100 / 10000 epochs : 0.00029710637\n",
      "Loss after 1200 / 10000 epochs : 0.0002968058\n",
      "Loss after 1300 / 10000 epochs : 0.00029649885\n",
      "Loss after 1400 / 10000 epochs : 0.00029620947\n",
      "Loss after 1500 / 10000 epochs : 0.00029590723\n",
      "Loss after 1600 / 10000 epochs : 0.0002956057\n",
      "Loss after 1700 / 10000 epochs : 0.00029531293\n",
      "Loss after 1800 / 10000 epochs : 0.0002950105\n",
      "Loss after 1900 / 10000 epochs : 0.000294716\n",
      "Loss after 2000 / 10000 epochs : 0.0002944187\n",
      "Loss after 2100 / 10000 epochs : 0.0002941205\n",
      "Loss after 2200 / 10000 epochs : 0.0002938251\n",
      "Loss after 2300 / 10000 epochs : 0.0002935344\n",
      "Loss after 2400 / 10000 epochs : 0.00029324138\n",
      "Loss after 2500 / 10000 epochs : 0.00029294647\n",
      "Loss after 2600 / 10000 epochs : 0.0002926472\n",
      "Loss after 2700 / 10000 epochs : 0.00029235432\n",
      "Loss after 2800 / 10000 epochs : 0.00029206212\n",
      "Loss after 2900 / 10000 epochs : 0.00029176884\n",
      "Loss after 3000 / 10000 epochs : 0.00029147143\n",
      "Loss after 3100 / 10000 epochs : 0.0002911802\n",
      "Loss after 3200 / 10000 epochs : 0.00029088836\n",
      "Loss after 3300 / 10000 epochs : 0.0002905958\n",
      "Loss after 3400 / 10000 epochs : 0.00029030477\n",
      "Loss after 3500 / 10000 epochs : 0.00029001303\n",
      "Loss after 3600 / 10000 epochs : 0.00028971213\n",
      "Loss after 3700 / 10000 epochs : 0.00028942752\n",
      "Loss after 3800 / 10000 epochs : 0.00028913407\n",
      "Loss after 3900 / 10000 epochs : 0.00028884408\n",
      "Loss after 4000 / 10000 epochs : 0.00028855394\n",
      "Loss after 4100 / 10000 epochs : 0.0002882678\n",
      "Loss after 4200 / 10000 epochs : 0.00028797192\n",
      "Loss after 4300 / 10000 epochs : 0.0002876803\n",
      "Loss after 4400 / 10000 epochs : 0.00028739404\n",
      "Loss after 4500 / 10000 epochs : 0.0002871055\n",
      "Loss after 4600 / 10000 epochs : 0.00028681272\n",
      "Loss after 4700 / 10000 epochs : 0.0002865225\n",
      "Loss after 4800 / 10000 epochs : 0.00028623847\n",
      "Loss after 4900 / 10000 epochs : 0.00028594266\n",
      "Loss after 5000 / 10000 epochs : 0.00028564996\n",
      "Loss after 5100 / 10000 epochs : 0.00028536294\n",
      "Loss after 5200 / 10000 epochs : 0.0002850817\n",
      "Loss after 5300 / 10000 epochs : 0.0002847952\n",
      "Loss after 5400 / 10000 epochs : 0.00028450546\n",
      "Loss after 5500 / 10000 epochs : 0.00028421814\n",
      "Loss after 5600 / 10000 epochs : 0.00028393857\n",
      "Loss after 5700 / 10000 epochs : 0.0002836529\n",
      "Loss after 5800 / 10000 epochs : 0.00028337227\n",
      "Loss after 5900 / 10000 epochs : 0.0002830838\n",
      "Loss after 6000 / 10000 epochs : 0.00028280762\n",
      "Loss after 6100 / 10000 epochs : 0.0002825185\n",
      "Loss after 6200 / 10000 epochs : 0.00028223786\n",
      "Loss after 6300 / 10000 epochs : 0.00028195654\n",
      "Loss after 6400 / 10000 epochs : 0.0002816768\n",
      "Loss after 6500 / 10000 epochs : 0.00028138474\n",
      "Loss after 6600 / 10000 epochs : 0.00028111067\n",
      "Loss after 6700 / 10000 epochs : 0.00028083005\n",
      "Loss after 6800 / 10000 epochs : 0.00028054978\n",
      "Loss after 6900 / 10000 epochs : 0.0002802704\n",
      "Loss after 7000 / 10000 epochs : 0.0002799893\n",
      "Loss after 7100 / 10000 epochs : 0.00027970926\n",
      "Loss after 7200 / 10000 epochs : 0.00027942527\n",
      "Loss after 7300 / 10000 epochs : 0.00027914476\n",
      "Loss after 7400 / 10000 epochs : 0.00027886324\n",
      "Loss after 7500 / 10000 epochs : 0.0002785805\n",
      "Loss after 7600 / 10000 epochs : 0.00027829924\n",
      "Loss after 7700 / 10000 epochs : 0.00027802525\n",
      "Loss after 7800 / 10000 epochs : 0.000277746\n",
      "Loss after 7900 / 10000 epochs : 0.00027747155\n",
      "Loss after 8000 / 10000 epochs : 0.0002771863\n",
      "Loss after 8100 / 10000 epochs : 0.00027690755\n",
      "Loss after 8200 / 10000 epochs : 0.00027662967\n",
      "Loss after 8300 / 10000 epochs : 0.0002763545\n",
      "Loss after 8400 / 10000 epochs : 0.00027607827\n",
      "Loss after 8500 / 10000 epochs : 0.0002758085\n",
      "Loss after 8600 / 10000 epochs : 0.00027552323\n",
      "Loss after 8700 / 10000 epochs : 0.00027524796\n",
      "Loss after 8800 / 10000 epochs : 0.00027497692\n",
      "Loss after 8900 / 10000 epochs : 0.00027469802\n",
      "Loss after 9000 / 10000 epochs : 0.0002744312\n",
      "Loss after 9100 / 10000 epochs : 0.00027415526\n",
      "Loss after 9200 / 10000 epochs : 0.00027388165\n",
      "Loss after 9300 / 10000 epochs : 0.00027361122\n",
      "Loss after 9400 / 10000 epochs : 0.00027333794\n",
      "Loss after 9500 / 10000 epochs : 0.0002730682\n",
      "Loss after 9600 / 10000 epochs : 0.00027279946\n",
      "Loss after 9700 / 10000 epochs : 0.00027252745\n",
      "Loss after 9800 / 10000 epochs : 0.00027225562\n",
      "Loss after 9900 / 10000 epochs : 0.0002719896\n",
      "Final loss after 10000 epochs : 0.0002717169\n"
     ]
    }
   ],
   "source": [
    "\n",
    "losses = []\n",
    "epochs_displayed = []\n",
    "\n",
    "for epoch in range(epochs) :\n",
    "    loss_value, grads = grad(model, training_points, M_z0, lamb, W)\n",
    "    optimizer.apply_gradients(zip(grads, model.trainable_variables))\n",
    "\n",
    "    if epoch % display_step == 0 :\n",
    "        print(\"Loss after\",epoch,\"/\",epochs,\"epochs :\",loss_value.numpy())\n",
    "        losses.append(loss_value.numpy())\n",
    "        epochs_displayed.append(epoch)\n",
    "\n",
    "loss_value, grads = grad(model, training_points, M_z0, lamb, W)\n",
    "#print(\"num grad_w\",numerical_grad_w(model, training_points, M_z0, lamb, W))\n",
    "print(\"Final loss after\",epochs,\"epochs :\",loss_value.numpy())\n",
    "losses.append(loss_value.numpy())\n",
    "epochs_displayed.append(epochs)"
   ]
  },
  {
   "cell_type": "code",
   "execution_count": 84,
   "metadata": {},
   "outputs": [
    {
     "name": "stdout",
     "output_type": "stream",
     "text": [
      "WARNING:tensorflow:Compiled the loaded model, but the compiled metrics have yet to be built. `model.compile_metrics` will be empty until you train or evaluate the model.\n",
      "INFO:tensorflow:Assets written to: models/1_hidden_layer_-2_2/assets\n"
     ]
    }
   ],
   "source": [
    "\n",
    "if save_model :\n",
    "    model.save(save_filename)"
   ]
  },
  {
   "cell_type": "markdown",
   "metadata": {},
   "source": [
    "Plot the evolution of loss"
   ]
  },
  {
   "cell_type": "code",
   "execution_count": 91,
   "metadata": {},
   "outputs": [
    {
     "data": {
      "image/png": "[encoded data removed]",
      "text/plain": [
       "<Figure size 432x288 with 1 Axes>"
      ]
     },
     "metadata": {
      "needs_background": "light"
     },
     "output_type": "display_data"
    }
   ],
   "source": [
    "plt.plot(epochs_displayed, losses)\n",
    "plt.yscale('log')\n",
    "plt.show()"
   ]
  },
  {
   "cell_type": "markdown",
   "metadata": {},
   "source": [
    "Compute the analytic solution"
   ]
  },
  {
   "cell_type": "code",
   "execution_count": 86,
   "metadata": {},
   "outputs": [],
   "source": [
    "def analytic(T, M_z0, lamb, W) :\n",
    "    K = (M_z0-1) / (M_z0+1)\n",
    "    Kexp = K*np.exp(2*lamb*W*T)\n",
    "    Mz_ana = (1+Kexp) / (1-Kexp)\n",
    "    return Mz_ana"
   ]
  },
  {
   "cell_type": "markdown",
   "metadata": {},
   "source": [
    "Plot the estimation and the analytic solution"
   ]
  },
  {
   "cell_type": "code",
   "execution_count": 92,
   "metadata": {},
   "outputs": [
    {
     "name": "stdout",
     "output_type": "stream",
     "text": [
      "Extreme values of output after : -1.8509142 -0.49936038\n"
     ]
    },
    {
     "data": {
      "image/png": "[encoded data removed]",
      "text/plain": [
       "<Figure size 432x288 with 1 Axes>"
      ]
     },
     "metadata": {
      "needs_background": "light"
     },
     "output_type": "display_data"
    }
   ],
   "source": [
    "#plot the estimation\n",
    "nb_plotting_points = 200\n",
    "plotting_points = np.linspace(t_a,t_b,nb_plotting_points)\n",
    "plotting_points = tf.convert_to_tensor(plotting_points, dtype=tf.float32)\n",
    "\n",
    "#neural network estimation\n",
    "output = model(plotting_points).numpy().reshape((nb_plotting_points))\n",
    "Mz_NN = M_z0 + (plotting_points-M_z0)*output\n",
    "\n",
    "\n",
    "print(\"Extreme values of output after :\",min(output), max(output))\n",
    "#analytic solution\n",
    "Mz_ana = analytic(plotting_points, M_z0, lamb, W)\n",
    "\n",
    "#training points\n",
    "Mz_ana_training = analytic(training_points, M_z0, lamb, W)\n",
    "\n",
    "\n",
    "plt.plot(plotting_points, Mz_NN, label='solution approchée')\n",
    "plt.plot(plotting_points, Mz_ana, label='solution exacte')\n",
    "plt.scatter(training_points, Mz_ana_training, label=\"points d'entraînement\", color='red')\n",
    "\n",
    "plt.legend()\n",
    "plt.title('résolution par réseau de neurones')\n",
    "plt.show()\n"
   ]
  }
 ],
 "metadata": {
  "kernelspec": {
   "display_name": "Python 3.8.10 64-bit",
   "language": "python",
   "name": "python3"
  },
  "language_info": {
   "codemirror_mode": {
    "name": "ipython",
    "version": 3
   },
   "file_extension": ".py",
   "mimetype": "text/x-python",
   "name": "python",
   "nbconvert_exporter": "python",
   "pygments_lexer": "ipython3",
   "version": "3.8.10"
  },
  "orig_nbformat": 4,
  "vscode": {
   "interpreter": {
    "hash": "916dbcbb3f70747c44a77c7bcd40155683ae19c65e1c03b4aa3499c5328201f1"
   }
  }
 },
 "nbformat": 4,
 "nbformat_minor": 2
}
