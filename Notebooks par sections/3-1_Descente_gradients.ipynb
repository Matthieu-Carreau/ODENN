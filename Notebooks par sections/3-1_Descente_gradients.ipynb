{
 "cells": [
  {
   "cell_type": "markdown",
   "metadata": {},
   "source": [
    "Notebook correspondant à la section 3.1 du rapport.\n",
    "Implémentation de résolution numérique approchée des 2 équations couplées du mouvement de précession :\n",
    "\\begin{equation}\n",
    "\\left\\{\n",
    "    \\begin{aligned}\n",
    "        \\frac{dM_x}{dt} &= \\omega M_y \\\\\n",
    "        \\frac{dM_y}{dt} &= -\\omega M_x\n",
    "    \\end{aligned}\n",
    "\\right.\n",
    "\\end{equation}\n",
    "à l'aide de la méthode de descente de gradients sur la fonction d'erreur\n"
   ]
  },
  {
   "cell_type": "code",
   "execution_count": 1,
   "metadata": {},
   "outputs": [],
   "source": [
    "#imports\n",
    "from numpy import pi, cos, sin, dot, zeros, linspace, arange, matmul, concatenate\n",
    "from numpy.random import randn"
   ]
  },
  {
   "cell_type": "markdown",
   "metadata": {},
   "source": [
    "Paramètres du modèle"
   ]
  },
  {
   "cell_type": "code",
   "execution_count": 2,
   "metadata": {},
   "outputs": [],
   "source": [
    "#nombre de coefficients de Fourier ajustables\n",
    "H = 10\n",
    "H_range = arange(H) +1\n",
    "\n",
    "# nombre de points pour la variable indépendante\n",
    "N = 100\n",
    "T = linspace(0,1,N)"
   ]
  },
  {
   "cell_type": "markdown",
   "metadata": {},
   "source": [
    "Paramètres du problème"
   ]
  },
  {
   "cell_type": "code",
   "execution_count": 3,
   "metadata": {},
   "outputs": [],
   "source": [
    "W = 2*pi #pulsation\n",
    "V0 = 1 #vitesse initiale"
   ]
  },
  {
   "cell_type": "markdown",
   "metadata": {},
   "source": [
    "Calculs des vecteurs des cosinus et sinus qui seront souvent utilisés"
   ]
  },
  {
   "cell_type": "code",
   "execution_count": 4,
   "metadata": {},
   "outputs": [],
   "source": [
    "#matrice de coefficients (m*W*T[i]) de taille NxM\n",
    "#avec première coordonnée i, et deuxème m\n",
    "m_w_T = W*matmul(T.reshape((N,1)), H_range.reshape((1,H)))\n",
    "cos = cos(m_w_T)\n",
    "sin = sin(m_w_T)"
   ]
  },
  {
   "cell_type": "markdown",
   "metadata": {},
   "source": [
    "Définition du gradient"
   ]
  },
  {
   "cell_type": "code",
   "execution_count": 5,
   "metadata": {},
   "outputs": [],
   "source": [
    "def calcGrad(A,B, H, H_range, N, cos, sin) :\n",
    "    #calcule le gradient de l'erreur par rapport aux\n",
    "    #2 vecteurs de paramètres A et B\n",
    "    grad_A = zeros((H))\n",
    "    grad_B = zeros((H))\n",
    "\n",
    "    for i in range(N) :\n",
    "        #valeurs de vx et vy à l'instant T[i]\n",
    "        vx = V0 + dot(A, cos[i]-1) + dot(B, sin[i])\n",
    "        vy = - dot(A, sin[i]) + dot(B, cos[i]-1)\n",
    "\n",
    "        #valeurs des dérivées de vx et vy à l'instant T[i]\n",
    "        dvx = W*(-dot(H_range*A, sin[i]) + dot(H_range*B, cos[i]))\n",
    "        dvy = W*(-dot(H_range*A, cos[i]) - dot(H_range*B, sin[i]))\n",
    "\n",
    "        #différences\n",
    "        ex = dvx - W*vy\n",
    "        ey = dvy + W*vx\n",
    "\n",
    "        #on incrémente les gradients\n",
    "        #pour A\n",
    "        dex_dA = W*(1-H_range)*sin[i]\n",
    "        dey_dA = W*((1-H_range)*cos[i]-1)\n",
    "        grad_A += ex*dex_dA + ey*dey_dA\n",
    "        #pour B\n",
    "        dex_dB = W*((H_range-1)*cos[i]+1)\n",
    "        dey_dB = W*(1-H_range)*sin[i]\n",
    "        grad_B += ex*dex_dB + ey*dey_dB\n",
    "\n",
    "    return grad_A, grad_B"
   ]
  },
  {
   "cell_type": "markdown",
   "metadata": {},
   "source": [
    "Définition de l'erreur"
   ]
  },
  {
   "cell_type": "code",
   "execution_count": 6,
   "metadata": {},
   "outputs": [],
   "source": [
    "def calcErreur(A,B, H_range, N, cos, sin)  :\n",
    "\n",
    "    erreur = 0\n",
    "    for i in range(N) :\n",
    "        #valeurs de vx et vy à l'instant T[i]\n",
    "        vx = V0 + dot(A, cos[i]-1) + dot(B, sin[i])\n",
    "        vy = - dot(A, sin[i]) + dot(B, cos[i]-1)\n",
    "\n",
    "        #valeurs des dérivées de vx et vy à l'instant T[i]\n",
    "        dvx = W*(-dot(H_range*A, sin[i]) + dot(H_range*B, cos[i]))\n",
    "        dvy = W*(-dot(H_range*A, cos[i]) - dot(H_range*B, sin[i]))\n",
    "\n",
    "        #différences\n",
    "        ex = dvx - W*vy\n",
    "        ey = dvy + W*vx\n",
    "\n",
    "        erreur += ex**2 + ey**2\n",
    "\n",
    "    return erreur/2"
   ]
  },
  {
   "cell_type": "markdown",
   "metadata": {},
   "source": [
    "Calcul matriciel du gradient"
   ]
  },
  {
   "cell_type": "code",
   "execution_count": 7,
   "metadata": {},
   "outputs": [],
   "source": [
    "d = zeros(2*H)\n",
    "for l in range(1,H+1) :\n",
    "    for i in range(N) :\n",
    "        d[l-1] += (1-l)*cos[i,l-1]-1\n",
    "        d[l-1+H] += (1-l)*sin[i,l-1]\n",
    "\n",
    "d*=W**2*V0\n",
    "\n",
    "\n",
    "mat = zeros((2*H,2*H))\n",
    "\n",
    "for l in range(1,H+1) :\n",
    "    for m in range(1,H+1) :\n",
    "        for i in range(N) :\n",
    "            mat[l-1,m-1] += (1-l)*(1-m)*sin[i,m-1]*sin[i,l-1]\n",
    "            mat[l-1,m-1] += ((1-l)*cos[i,l-1]-1)*((1-m)*cos[i,m-1]-1)\n",
    "\n",
    "            mat[l-1,m-1+H] += (1-l)*sin[i,l-1]*((m-1)*cos[i,m-1]+1)\n",
    "            mat[l-1,m-1+H] += (1-m)*sin[i,m-1]*((1-l)*cos[i,l-1]-1)\n",
    "\n",
    "            mat[l-1+H,m-1] += ((l-1)*cos[i,l-1]+1)*(1-m)*sin[i,m-1]\n",
    "            mat[l-1+H,m-1] += (1-l)*sin[i,l-1]*((1-m)*cos[i,m-1]-1)\n",
    "\n",
    "            mat[l-1+H,m-1+H] += ((l-1)*cos[i,l-1]+1)*((m-1)*cos[i,m-1]+1)\n",
    "            mat[l-1+H,m-1+H] += (1-l)*(1-m)*sin[i,m-1]*sin[i,l-1]\n",
    "\n",
    "mat *= W**2\n",
    "\n",
    "\n",
    "\n",
    "def calcGrad_mat(A, B, H, mat, d) :\n",
    "    P = concatenate((A,B))\n",
    "    G = matmul(mat, P) + d\n",
    "    return G[:H], G[H:]"
   ]
  },
  {
   "cell_type": "markdown",
   "metadata": {},
   "source": [
    "Paramètres d'apprentissage"
   ]
  },
  {
   "cell_type": "code",
   "execution_count": 8,
   "metadata": {},
   "outputs": [],
   "source": [
    "alpha = 6.0906090609060915e-06 #taux d'apprentissage pour la descente de gradients\n",
    "epochs = 6000 #nombre d'itération\n",
    "\n",
    "#initialisation des coefficients\n",
    "A = randn((H))\n",
    "B = randn((H))"
   ]
  },
  {
   "cell_type": "markdown",
   "metadata": {},
   "source": [
    "Entraînement"
   ]
  },
  {
   "cell_type": "code",
   "execution_count": 9,
   "metadata": {},
   "outputs": [
    {
     "name": "stdout",
     "output_type": "stream",
     "text": [
      "\n",
      "Coefficients après 0 itérations :\n",
      " [ 0.02976545  1.4211507   1.60707509  0.76002078 -0.12596394  0.97887652\n",
      "  0.86779915 -1.74525716  0.89838837 -0.15601449] \n",
      " [ 1.30890486 -1.29106348 -0.95730345 -1.09709165  1.08604041  1.06188703\n",
      " -0.55779627 -0.85174771  0.15548412 -2.13802313]\n",
      "\n",
      "Coefficients après 600 itérations :\n",
      " [ 9.87347771e-01  6.14212820e-03  1.09076577e-03  4.48407276e-04\n",
      "  2.39644977e-04  1.45623528e-04  9.44962356e-05  6.17875953e-05\n",
      "  3.34883977e-05 -1.19519912e-04] \n",
      " [ 0.01374831 -0.00716198 -0.00158975 -0.00093029 -0.00077493 -0.00078527\n",
      " -0.00091756 -0.00124805 -0.00222517 -0.01673684]\n",
      "\n",
      "Coefficients après 1200 itérations :\n",
      " [ 9.99891467e-01  5.26915014e-05  9.35954545e-06  3.84955850e-06\n",
      "  2.05925481e-06  1.25349858e-06  8.16213957e-07  5.38154122e-07\n",
      "  3.02338248e-07 -9.09135347e-07] \n",
      " [ 1.18157080e-04 -6.11969902e-05 -1.33681992e-05 -7.67253476e-06\n",
      " -6.28528629e-06 -6.29219307e-06 -7.29238087e-06 -9.86608576e-06\n",
      " -1.75297996e-05 -1.31558173e-04]\n",
      "\n",
      "Coefficients après 1800 itérations :\n",
      " [ 9.99999069e-01  4.52023131e-07  8.03096719e-08  3.30461439e-08\n",
      "  1.76924797e-08  1.07866515e-08  7.04571271e-09  4.68027155e-09\n",
      "  2.71193380e-09 -6.88614243e-09] \n",
      " [ 1.01531536e-06 -5.23075228e-07 -1.12561454e-07 -6.33988236e-08\n",
      " -5.10699252e-08 -5.04866281e-08 -5.80081120e-08 -7.80329559e-08\n",
      " -1.38129478e-07 -1.03412333e-06]\n",
      "\n",
      "Coefficients après 2400 itérations :\n",
      " [ 9.99999992e-01  3.87774534e-09  6.89083197e-10  2.83664312e-10\n",
      "  1.51988129e-10  9.27964955e-11  6.07859090e-11  4.06503397e-11\n",
      "  2.41941112e-11 -5.18991082e-11] \n",
      " [ 8.72326509e-09 -4.47223774e-09 -9.48965844e-10 -5.24848819e-10\n",
      " -4.15719175e-10 -4.05666083e-10 -4.61870077e-10 -6.17514574e-10\n",
      " -1.08867902e-09 -8.12901339e-09]\n",
      "\n",
      "Coefficients après 3000 itérations :\n",
      " [ 1.00000000e+00  3.32655743e-11  5.91240675e-12  2.43479196e-12\n",
      "  1.30550034e-12  7.98112295e-13  5.24149141e-13  3.52648491e-13\n",
      "  2.14853044e-13 -3.88860014e-13] \n",
      " [ 7.49375626e-11 -3.82474423e-11 -8.00990813e-12 -4.35296001e-12\n",
      " -3.39034064e-12 -3.26442191e-12 -3.68119395e-12 -4.88956682e-12\n",
      " -8.58274600e-12 -6.39021311e-11]\n",
      "\n",
      "Coefficients après 3600 itérations :\n",
      " [ 1.00000000e+00  2.85283337e-13  5.07131406e-14  2.08839404e-14\n",
      "  1.12028230e-14  6.86219181e-15  4.52237336e-15  3.04735040e-15\n",
      "  1.89170829e-15 -2.90948366e-15] \n",
      " [ 6.43676156e-13 -3.27180608e-13 -6.76850584e-14 -3.61673461e-14\n",
      " -2.77016740e-14 -2.63096806e-14 -2.93712295e-14 -3.87406296e-14\n",
      " -6.76823063e-14 -5.02349456e-13]\n",
      "\n",
      "Coefficients après 4200 itérations :\n",
      " [ 1.00000000e+00  2.63664223e-15  5.45775800e-16  2.38683576e-16\n",
      "  1.29609068e-16  7.64553835e-17  5.20963894e-17  3.94688683e-17\n",
      "  1.93989785e-17 -1.79290326e-17] \n",
      " [ 5.52824382e-15 -2.79944458e-15 -5.72557495e-16 -3.01031380e-16\n",
      " -2.26775465e-16 -2.12384076e-16 -2.34610515e-16 -3.07154048e-16\n",
      " -5.33896174e-16 -3.94921530e-15]\n",
      "\n",
      "Coefficients après 4800 itérations :\n",
      " [1.00000000e+00 2.26827368e-15 5.45775800e-16 2.41453264e-16\n",
      " 1.29609068e-16 8.19947601e-17 5.76357660e-17 3.94688683e-17\n",
      " 3.04777319e-17 2.63859807e-17] \n",
      " [ 4.74747849e-17 -2.39578313e-17 -4.84819111e-18 -2.50986018e-18\n",
      " -1.86002325e-18 -1.71731287e-18 -1.87625790e-18 -2.43702687e-18\n",
      " -4.21291121e-18 -3.10478308e-17]\n",
      "\n",
      "Coefficients après 5400 itérations :\n",
      " [1.00000000e+00 2.26827368e-15 5.45775800e-16 2.41453264e-16\n",
      " 1.29609068e-16 8.19947601e-17 5.76357660e-17 3.94688683e-17\n",
      " 3.04777319e-17 2.63859807e-17] \n",
      " [ 4.07660515e-19 -2.05072383e-19 -4.10911905e-20 -2.09607818e-20\n",
      " -1.52853238e-20 -1.39097837e-20 -1.50239927e-20 -1.93509001e-20\n",
      " -3.32555034e-20 -2.44100519e-19]\n"
     ]
    }
   ],
   "source": [
    "E = [] #evolution de l'erreur\n",
    "\n",
    "for k in range(epochs) :\n",
    "    if k%(epochs//10)==0 :\n",
    "        print(\"\\nCoefficients après\",k,\"itérations :\\n\",A,\"\\n\", B)\n",
    "    \n",
    "    if k%(epochs//100)==0 :\n",
    "        E.append(calcErreur(A,B, H_range, N, cos, sin))\n",
    "\n",
    "    grad_A, grad_B = calcGrad_mat(A, B, H, mat, d)\n",
    "    A -= alpha*grad_A\n",
    "    B -= alpha*grad_B\n",
    "\n",
    "\n",
    "E.append(calcErreur(A,B, H_range, N, cos, sin))"
   ]
  },
  {
   "cell_type": "markdown",
   "metadata": {},
   "source": [
    "Affichage des résultats"
   ]
  },
  {
   "cell_type": "code",
   "execution_count": 10,
   "metadata": {},
   "outputs": [
    {
     "name": "stdout",
     "output_type": "stream",
     "text": [
      "\n",
      "Coefficients finaux après 6000 itérations : [1.00000000e+00 2.26827368e-15 5.45775800e-16 2.41453264e-16\n",
      " 1.29609068e-16 8.19947601e-17 5.76357660e-17 3.94688683e-17\n",
      " 3.04777319e-17 2.63859807e-17] [ 3.50023790e-21 -1.75567521e-21 -3.48578781e-22 -1.75332141e-22\n",
      " -1.25852948e-22 -1.12863951e-22 -1.20463112e-22 -1.53780793e-22\n",
      " -2.62611182e-22 -1.91921960e-21]\n"
     ]
    }
   ],
   "source": [
    "print()\n",
    "print(\"Coefficients finaux après\",epochs,\"itérations :\",A,B)"
   ]
  },
  {
   "cell_type": "markdown",
   "metadata": {},
   "source": [
    "Affichage graphique de l'erreur"
   ]
  },
  {
   "cell_type": "code",
   "execution_count": 11,
   "metadata": {},
   "outputs": [
    {
     "data": {
      "image/png": "[encoded data removed]",
      "text/plain": [
       "<Figure size 432x288 with 1 Axes>"
      ]
     },
     "metadata": {
      "needs_background": "light"
     },
     "output_type": "display_data"
    }
   ],
   "source": [
    "from matplotlib.pyplot import plot, show, yscale, savefig\n",
    "\n",
    "plot([epochs//100*k for k in range(101)], E)\n",
    "yscale('log')\n",
    "#savefig(\"Erreur_2_DG.jpg\")\n",
    "show()"
   ]
  },
  {
   "cell_type": "code",
   "execution_count": 12,
   "metadata": {},
   "outputs": [
    {
     "name": "stdout",
     "output_type": "stream",
     "text": [
      "2.5912284229086244e-26\n"
     ]
    }
   ],
   "source": [
    "print(E[int(6000/epochs*100)])"
   ]
  },
  {
   "cell_type": "markdown",
   "metadata": {},
   "source": [
    "Affichage des coefficients trouvés"
   ]
  },
  {
   "cell_type": "code",
   "execution_count": 13,
   "metadata": {},
   "outputs": [
    {
     "data": {
      "image/png": "[encoded data removed]",
      "text/plain": [
       "<Figure size 432x288 with 1 Axes>"
      ]
     },
     "metadata": {
      "needs_background": "light"
     },
     "output_type": "display_data"
    },
    {
     "data": {
      "image/png": "[encoded data removed]",
      "text/plain": [
       "<Figure size 432x288 with 1 Axes>"
      ]
     },
     "metadata": {
      "needs_background": "light"
     },
     "output_type": "display_data"
    }
   ],
   "source": [
    "from matplotlib.pyplot import scatter, show, yscale, savefig\n",
    "\n",
    "P = concatenate((A,B))\n",
    "#erreur relative sur le premier coefficient\n",
    "#valeurs théoriques :\n",
    "P_th = zeros((2*H))\n",
    "P_th[0] = 1\n",
    "\n",
    "erreur = abs(P-P_th)\n",
    "\n",
    "scatter(range(1, 2*H+1), P)\n",
    "show()\n",
    "\n",
    "scatter(range(1, 2*H+1), erreur)\n",
    "yscale('log')\n",
    "show()\n"
   ]
  }
 ],
 "metadata": {
  "kernelspec": {
   "display_name": "Python 3.8.10 64-bit",
   "language": "python",
   "name": "python3"
  },
  "language_info": {
   "codemirror_mode": {
    "name": "ipython",
    "version": 3
   },
   "file_extension": ".py",
   "mimetype": "text/x-python",
   "name": "python",
   "nbconvert_exporter": "python",
   "pygments_lexer": "ipython3",
   "version": "3.8.10"
  },
  "orig_nbformat": 4,
  "vscode": {
   "interpreter": {
    "hash": "916dbcbb3f70747c44a77c7bcd40155683ae19c65e1c03b4aa3499c5328201f1"
   }
  }
 },
 "nbformat": 4,
 "nbformat_minor": 2
}
