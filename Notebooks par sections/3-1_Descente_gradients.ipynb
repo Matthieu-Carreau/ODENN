{
 "cells": [
  {
   "cell_type": "markdown",
   "metadata": {},
   "source": [
    "Implémentation de résolution numérique approchée des 2 équations couplées du mouvement de précession :\n",
    "$\\frac{dv_x}{dt} = \\omega v_y(t), \n",
    "\\frac{dv_y}{dt} = -\\omega v_x(t), \n",
    "v_x(0) = V_0,\n",
    "v_y(0) = 0$\n",
    "à l'aide de la méthode de descente de gradients sur la fonction d'erreur\n"
   ]
  },
  {
   "cell_type": "code",
   "execution_count": 364,
   "metadata": {},
   "outputs": [],
   "source": [
    "#imports\n",
    "from numpy import pi, cos, sin, dot, zeros, linspace, arange, matmul, concatenate\n",
    "from numpy.random import randn"
   ]
  },
  {
   "cell_type": "markdown",
   "metadata": {},
   "source": [
    "Paramètres du modèle"
   ]
  },
  {
   "cell_type": "code",
   "execution_count": 365,
   "metadata": {},
   "outputs": [],
   "source": [
    "#nombre de coefficients de Fourier ajustables\n",
    "M = 10\n",
    "M_range = arange(M) +1\n",
    "\n",
    "# nombre de points pour la variable indépendante\n",
    "N = 100\n",
    "T = linspace(0,1,N)"
   ]
  },
  {
   "cell_type": "markdown",
   "metadata": {},
   "source": [
    "Paramètres du problème"
   ]
  },
  {
   "cell_type": "code",
   "execution_count": 366,
   "metadata": {},
   "outputs": [],
   "source": [
    "W = 2*pi #pulsation\n",
    "V0 = 1 #vitesse initiale"
   ]
  },
  {
   "cell_type": "markdown",
   "metadata": {},
   "source": [
    "Calculs des vecteurs des cosinus et sinus qui seront souvent utilisés"
   ]
  },
  {
   "cell_type": "code",
   "execution_count": 367,
   "metadata": {},
   "outputs": [],
   "source": [
    "#matrice de coefficients (m*W*T[i]) de taille NxM\n",
    "#avec première coordonnée i, et deuxème m\n",
    "m_w_T = W*matmul(T.reshape((N,1)), M_range.reshape((1,M)))\n",
    "cos = cos(m_w_T)\n",
    "sin = sin(m_w_T)"
   ]
  },
  {
   "cell_type": "markdown",
   "metadata": {},
   "source": [
    "Définition du gradient"
   ]
  },
  {
   "cell_type": "code",
   "execution_count": 368,
   "metadata": {},
   "outputs": [],
   "source": [
    "def calcGrad(A,B, M, M_range, N, cos, sin) :\n",
    "    #calcule le gradient de l'erreur par rapport aux\n",
    "    #2 vecteurs de paramètres A et B\n",
    "    grad_A = zeros((M))\n",
    "    grad_B = zeros((M))\n",
    "\n",
    "    for i in range(N) :\n",
    "        #valeurs de vx et vy à l'instant T[i]\n",
    "        vx = V0 + dot(A, cos[i]-1) + dot(B, sin[i])\n",
    "        vy = - dot(A, sin[i]) + dot(B, cos[i]-1)\n",
    "\n",
    "        #valeurs des dérivées de vx et vy à l'instant T[i]\n",
    "        dvx = W*(-dot(M_range*A, sin[i]) + dot(M_range*B, cos[i]))\n",
    "        dvy = W*(-dot(M_range*A, cos[i]) - dot(M_range*B, sin[i]))\n",
    "\n",
    "        #différences\n",
    "        ex = dvx - W*vy\n",
    "        ey = dvy + W*vx\n",
    "\n",
    "        #on incrémente les gradients\n",
    "        #pour A\n",
    "        dex_dA = W*(1-M_range)*sin[i]\n",
    "        dey_dA = W*((1-M_range)*cos[i]-1)\n",
    "        grad_A += ex*dex_dA + ey*dey_dA\n",
    "        #pour B\n",
    "        dex_dB = W*((M_range-1)*cos[i]+1)\n",
    "        dey_dB = W*(1-M_range)*sin[i]\n",
    "        grad_B += ex*dex_dB + ey*dey_dB\n",
    "\n",
    "    return grad_A, grad_B"
   ]
  },
  {
   "cell_type": "markdown",
   "metadata": {},
   "source": [
    "Définition de l'erreur"
   ]
  },
  {
   "cell_type": "code",
   "execution_count": 369,
   "metadata": {},
   "outputs": [],
   "source": [
    "def calcErreur(A,B, M_range, N, cos, sin)  :\n",
    "\n",
    "    erreur = 0\n",
    "    for i in range(N) :\n",
    "        #valeurs de vx et vy à l'instant T[i]\n",
    "        vx = V0 + dot(A, cos[i]-1) + dot(B, sin[i])\n",
    "        vy = - dot(A, sin[i]) + dot(B, cos[i]-1)\n",
    "\n",
    "        #valeurs des dérivées de vx et vy à l'instant T[i]\n",
    "        dvx = W*(-dot(M_range*A, sin[i]) + dot(M_range*B, cos[i]))\n",
    "        dvy = W*(-dot(M_range*A, cos[i]) - dot(M_range*B, sin[i]))\n",
    "\n",
    "        #différences\n",
    "        ex = dvx - W*vy\n",
    "        ey = dvy + W*vx\n",
    "\n",
    "        erreur += ex**2 + ey**2\n",
    "\n",
    "    return erreur/2"
   ]
  },
  {
   "cell_type": "markdown",
   "metadata": {},
   "source": [
    "Calcul matriciel du gradient"
   ]
  },
  {
   "cell_type": "code",
   "execution_count": 370,
   "metadata": {},
   "outputs": [],
   "source": [
    "d = zeros(2*M)\n",
    "for l in range(1,M+1) :\n",
    "    for i in range(N) :\n",
    "        d[l-1] += (1-l)*cos[i,l-1]-1\n",
    "        d[l-1+M] += (1-l)*sin[i,l-1]\n",
    "\n",
    "d*=W**2*V0\n",
    "\n",
    "\n",
    "mat = zeros((2*M,2*M))\n",
    "\n",
    "for l in range(1,M+1) :\n",
    "    for m in range(1,M+1) :\n",
    "        for i in range(N) :\n",
    "            mat[l-1,m-1] += (1-l)*(1-m)*sin[i,m-1]*sin[i,l-1]\n",
    "            mat[l-1,m-1] += ((1-l)*cos[i,l-1]-1)*((1-m)*cos[i,m-1]-1)\n",
    "\n",
    "            mat[l-1,m-1+M] += (1-l)*sin[i,l-1]*((m-1)*cos[i,m-1]+1)\n",
    "            mat[l-1,m-1+M] += (1-m)*sin[i,m-1]*((1-l)*cos[i,l-1]-1)\n",
    "\n",
    "            mat[l-1+M,m-1] += ((l-1)*cos[i,l-1]+1)*(1-m)*sin[i,m-1]\n",
    "            mat[l-1+M,m-1] += (1-l)*sin[i,l-1]*((1-m)*cos[i,m-1]-1)\n",
    "\n",
    "            mat[l-1+M,m-1+M] += ((l-1)*cos[i,l-1]+1)*((m-1)*cos[i,m-1]+1)\n",
    "            mat[l-1+M,m-1+M] += (1-l)*(1-m)*sin[i,m-1]*sin[i,l-1]\n",
    "\n",
    "mat *= W**2\n",
    "\n",
    "\n",
    "\n",
    "def calcGrad_mat(A, B, M, mat, d) :\n",
    "    P = concatenate((A,B))\n",
    "    G = matmul(mat, P) + d\n",
    "    return G[:M], G[M:]"
   ]
  },
  {
   "cell_type": "markdown",
   "metadata": {},
   "source": [
    "Paramètres d'apprentissage"
   ]
  },
  {
   "cell_type": "code",
   "execution_count": 371,
   "metadata": {},
   "outputs": [],
   "source": [
    "alpha = 6.0906090609060915e-06 #taux d'apprentissage pour la descente de gradients\n",
    "epochs = 6000 #nombre d'itération\n",
    "\n",
    "#initialisation des coefficients\n",
    "A = randn((M))\n",
    "B = randn((M))"
   ]
  },
  {
   "cell_type": "markdown",
   "metadata": {},
   "source": [
    "Entraînement"
   ]
  },
  {
   "cell_type": "code",
   "execution_count": 372,
   "metadata": {},
   "outputs": [
    {
     "name": "stdout",
     "output_type": "stream",
     "text": [
      "\n",
      "Coefficients après 0 itérations :\n",
      " [ 0.06093236 -0.34090604 -1.16292009 -1.40907962  0.48250862 -0.02472549\n",
      "  0.17372175 -0.70204271  0.01261799 -0.53493834] \n",
      " [-0.71696554 -0.14924729  0.07449603 -1.15760538  0.34150479 -1.39505364\n",
      "  1.06464997  1.18160084 -0.56632174 -1.18757475]\n",
      "\n",
      "Coefficients après 600 itérations :\n",
      " [ 9.95590447e-01  1.99938029e-03  2.62996648e-04  2.79569795e-05\n",
      " -6.55075590e-05 -1.30861723e-04 -2.03090745e-04 -3.20506703e-04\n",
      " -6.22293398e-04 -4.92697686e-03] \n",
      " [-4.36016688e-03  1.85029437e-03  1.54985440e-04 -8.74345220e-05\n",
      " -1.98421966e-04 -2.92266973e-04 -4.12481783e-04 -6.23657622e-04\n",
      " -1.18386019e-03 -9.25292721e-03]\n",
      "\n",
      "Coefficients après 1200 itérations :\n",
      " [ 9.99962238e-01  1.72226303e-05  2.33576195e-06  3.30944174e-07\n",
      " -4.54677031e-07 -9.91099322e-07 -1.57082770e-06 -2.50070736e-06\n",
      " -4.87685295e-06 -3.87078665e-05] \n",
      " [-3.72810189e-05  1.60061343e-05  1.47896755e-06 -5.79155987e-07\n",
      " -1.50095856e-06 -2.26059401e-06 -3.21705331e-06 -4.88352197e-06\n",
      " -9.29026593e-06 -7.27032110e-05]\n",
      "\n",
      "Coefficients après 1800 itérations :\n",
      " [ 9.99999677e-01  1.48301595e-07  2.06631706e-08  3.55500485e-09\n",
      " -3.05741193e-09 -7.46878870e-09 -1.21285284e-08 -1.94974709e-08\n",
      " -3.82095058e-08 -3.04093648e-07] \n",
      " [-3.18850683e-07  1.38356552e-07  1.38615182e-08 -3.62529996e-09\n",
      " -1.12948400e-08 -1.74544880e-08 -2.50716367e-08 -3.82271576e-08\n",
      " -7.28952727e-08 -5.71245212e-07]\n",
      "\n",
      "Coefficients après 2400 itérations :\n",
      " [ 9.99999997e-01  1.27658209e-09  1.82176649e-10  3.61230408e-11\n",
      " -1.96031942e-11 -5.59505334e-11 -9.34607981e-11 -1.51897116e-10\n",
      " -2.99281180e-10 -2.38893252e-09] \n",
      " [-2.72767634e-09  1.19512453e-09  1.28137936e-10 -2.05460503e-11\n",
      " -8.44676997e-11 -1.34503665e-10 -1.95227898e-10 -2.99121746e-10\n",
      " -5.71885003e-10 -4.48833831e-09]\n",
      "\n",
      "Coefficients après 3000 itérations :\n",
      " [ 1.00000000e+00  1.09854467e-11  1.60141459e-12  3.54078091e-13\n",
      " -1.16110210e-13 -4.16160642e-13 -7.18592886e-13 -1.18234242e-12\n",
      " -2.34343101e-12 -1.87667332e-11] \n",
      " [-2.33397326e-11  1.03170539e-11  1.17173659e-12 -9.33214078e-14\n",
      " -6.26965650e-13 -1.03415942e-12 -1.51878041e-12 -2.33961626e-12\n",
      " -4.48590713e-12 -3.52648531e-11]\n",
      "\n",
      "Coefficients après 3600 itérations :\n",
      " [ 1.00000000e+00  9.43950963e-14  1.40258869e-14  3.38015366e-15\n",
      " -5.86509504e-16 -3.07270528e-15 -5.51446665e-15 -9.19661509e-15\n",
      " -1.83607436e-14 -1.47431394e-13] \n",
      " [-1.99750898e-13  8.90129520e-14  1.06214891e-14 -1.48849995e-16\n",
      " -4.61113327e-15 -7.93104544e-15 -1.18030910e-14 -1.82912616e-14\n",
      " -3.51817630e-14 -2.77071244e-13]\n",
      "\n",
      "Coefficients après 4200 itérations :\n",
      " [ 1.00000000e+00  5.22049559e-16  4.45002311e-17  1.13389001e-18\n",
      " -1.59537073e-17 -2.60481097e-17 -4.15624967e-17 -6.21829547e-17\n",
      " -1.30655024e-16 -1.03674732e-15] \n",
      " [-1.70987465e-15  7.67589112e-16  9.55934936e-17  3.84436661e-18\n",
      " -3.35269796e-17 -6.06457538e-17 -9.16202759e-17 -1.42930442e-16\n",
      " -2.75869406e-16 -2.17687283e-15]\n",
      "\n",
      "Coefficients après 4800 itérations :\n",
      " [ 1.00000000e+00  4.16801402e-16  8.60455562e-17  2.60610850e-17\n",
      "  1.17431760e-17 -9.42997966e-18 -1.38656134e-17 -3.44860714e-17\n",
      " -6.97218806e-17 -5.49282169e-16] \n",
      " [-1.46391501e-17  6.61611813e-18  8.55229104e-19  7.32230495e-20\n",
      " -2.40228459e-19 -4.62170678e-19 -7.10268404e-19 -1.11625953e-18\n",
      " -2.16271980e-18 -1.71027589e-17]\n",
      "\n",
      "Coefficients après 5400 itérations :\n",
      " [ 1.00000000e+00  4.16801402e-16  8.60455562e-17  2.60610850e-17\n",
      "  1.17431760e-17 -9.42997966e-18 -1.38656134e-17 -3.44860714e-17\n",
      " -6.97218806e-17 -5.49282169e-16] \n",
      " [-1.25353770e-19  5.70026668e-20  7.61302564e-21  9.44390963e-22\n",
      " -1.68845151e-21 -3.50832642e-21 -5.49818887e-21 -8.71243717e-21\n",
      " -1.69511477e-20 -1.34366195e-19]\n"
     ]
    }
   ],
   "source": [
    "E = [] #evolution de l'erreur\n",
    "\n",
    "for k in range(epochs) :\n",
    "    if k%(epochs//10)==0 :\n",
    "        print(\"\\nCoefficients après\",k,\"itérations :\\n\",A,\"\\n\", B)\n",
    "    \n",
    "    if k%(epochs//100)==0 :\n",
    "        E.append(calcErreur(A,B, M_range, N, cos, sin))\n",
    "\n",
    "    grad_A, grad_B = calcGrad_mat(A, B, M, mat, d)\n",
    "    A -= alpha*grad_A\n",
    "    B -= alpha*grad_B\n",
    "\n",
    "\n",
    "E.append(calcErreur(A,B, M_range, N, cos, sin))"
   ]
  },
  {
   "cell_type": "markdown",
   "metadata": {},
   "source": [
    "Affichage des résultats"
   ]
  },
  {
   "cell_type": "code",
   "execution_count": 373,
   "metadata": {},
   "outputs": [
    {
     "name": "stdout",
     "output_type": "stream",
     "text": [
      "\n",
      "Coefficients finaux après 6000 itérations : [ 1.00000000e+00  4.16801402e-16  8.60455562e-17  2.60610850e-17\n",
      "  1.17431760e-17 -9.42997966e-18 -1.38656134e-17 -3.44860714e-17\n",
      " -6.97218806e-17 -5.49282169e-16] [-1.07355239e-21  4.90932005e-22  6.74805818e-23  1.05865885e-23\n",
      " -1.15583549e-23 -2.65095895e-23 -4.24916702e-23 -6.79547497e-23\n",
      " -1.32828286e-22 -1.05561060e-21]\n"
     ]
    }
   ],
   "source": [
    "print()\n",
    "print(\"Coefficients finaux après\",epochs,\"itérations :\",A,B)"
   ]
  },
  {
   "cell_type": "markdown",
   "metadata": {},
   "source": [
    "Affichage graphique de l'erreur"
   ]
  },
  {
   "cell_type": "code",
   "execution_count": 377,
   "metadata": {},
   "outputs": [
    {
     "data": {
      "image/png": "[encoded data removed]",
      "text/plain": [
       "<Figure size 432x288 with 1 Axes>"
      ]
     },
     "metadata": {
      "needs_background": "light"
     },
     "output_type": "display_data"
    }
   ],
   "source": [
    "from matplotlib.pyplot import plot, show, yscale, savefig\n",
    "\n",
    "plot([epochs//100*k for k in range(101)], E)\n",
    "yscale('log')\n",
    "#savefig(\"Erreur_2_DG.jpg\")\n",
    "show()"
   ]
  },
  {
   "cell_type": "code",
   "execution_count": 375,
   "metadata": {},
   "outputs": [
    {
     "name": "stdout",
     "output_type": "stream",
     "text": [
      "5.24532733625107e-26\n"
     ]
    }
   ],
   "source": [
    "print(E[int(6000/epochs*100)])"
   ]
  },
  {
   "cell_type": "markdown",
   "metadata": {},
   "source": [
    "Affichage des coefficients trouvés"
   ]
  },
  {
   "cell_type": "code",
   "execution_count": 376,
   "metadata": {},
   "outputs": [
    {
     "data": {
      "image/png": "[encoded data removed]",
      "text/plain": [
       "<Figure size 432x288 with 1 Axes>"
      ]
     },
     "metadata": {
      "needs_background": "light"
     },
     "output_type": "display_data"
    },
    {
     "data": {
      "image/png": "[encoded data removed]",
      "text/plain": [
       "<Figure size 432x288 with 1 Axes>"
      ]
     },
     "metadata": {
      "needs_background": "light"
     },
     "output_type": "display_data"
    }
   ],
   "source": [
    "from matplotlib.pyplot import scatter, show, yscale, savefig\n",
    "\n",
    "P = concatenate((A,B))\n",
    "#erreur relative sur le premier coefficient\n",
    "#valeurs théoriques :\n",
    "P_th = zeros((2*M))\n",
    "P_th[0] = 1\n",
    "\n",
    "erreur = abs(P-P_th)\n",
    "\n",
    "scatter(range(1, 2*M+1), P)\n",
    "savefig('coefs_2_DG.jpg')\n",
    "show()\n",
    "\n",
    "scatter(range(1, 2*M+1), erreur)\n",
    "yscale('log')\n",
    "savefig('coefs_2_DG_erreur.jpg')\n",
    "show()\n"
   ]
  }
 ],
 "metadata": {
  "kernelspec": {
   "display_name": "Python 3.8.10 64-bit",
   "language": "python",
   "name": "python3"
  },
  "language_info": {
   "codemirror_mode": {
    "name": "ipython",
    "version": 3
   },
   "file_extension": ".py",
   "mimetype": "text/x-python",
   "name": "python",
   "nbconvert_exporter": "python",
   "pygments_lexer": "ipython3",
   "version": "3.8.10"
  },
  "orig_nbformat": 4,
  "vscode": {
   "interpreter": {
    "hash": "916dbcbb3f70747c44a77c7bcd40155683ae19c65e1c03b4aa3499c5328201f1"
   }
  }
 },
 "nbformat": 4,
 "nbformat_minor": 2
}
