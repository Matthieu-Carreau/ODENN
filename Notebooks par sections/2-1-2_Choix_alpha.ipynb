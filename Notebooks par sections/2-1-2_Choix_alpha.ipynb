{
 "cells": [
  {
   "cell_type": "markdown",
   "metadata": {},
   "source": [
    "Notebook correspondant à la section 2.1.2 du rapport.\n",
    "Détermination du taux d'apprentissage idéal pour la descente de gradient dans l'exemple à une dimension."
   ]
  },
  {
   "cell_type": "code",
   "execution_count": 6,
   "metadata": {},
   "outputs": [],
   "source": [
    "#imports\n",
    "from numpy import pi, cos, dot, zeros, linspace, identity, argmin\n",
    "from numpy.linalg import eigvals\n",
    "\n",
    "from matplotlib.pyplot import plot, show, title, savefig"
   ]
  },
  {
   "cell_type": "markdown",
   "metadata": {},
   "source": [
    "Paramètres du modèle"
   ]
  },
  {
   "cell_type": "code",
   "execution_count": 7,
   "metadata": {},
   "outputs": [],
   "source": [
    "#nombre de coefficients de Fourier ajustables\n",
    "M = 10\n",
    "# nombre de points pour la variable indépendante\n",
    "N = 100\n",
    "#liste des points de test\n",
    "X = linspace(0,1,N)"
   ]
  },
  {
   "cell_type": "markdown",
   "metadata": {},
   "source": [
    "Matrice $\\mathcal{M}$ telle que $\\vec{g} = \\mathcal{M} \\vec{A} + \\vec{d}$"
   ]
  },
  {
   "cell_type": "code",
   "execution_count": 8,
   "metadata": {},
   "outputs": [],
   "source": [
    "mat = zeros((M,M))\n",
    "\n",
    "for l in range(1,M+1) :\n",
    "    for m in range(1,M+1) :\n",
    "        mat[m-1,l-1] = m*l*dot(cos(2*pi*m*X), cos(2*pi*l*X))\n",
    "mat *= 2*pi"
   ]
  },
  {
   "cell_type": "markdown",
   "metadata": {},
   "source": [
    "Calcul des valeurs propres de la matrice $\\mathcal{R}_\\alpha = \\mathcal{I}_M - \\alpha \\mathcal{M}$ puis détermination du module maximum parmis celles-ci."
   ]
  },
  {
   "cell_type": "code",
   "execution_count": 9,
   "metadata": {},
   "outputs": [
    {
     "name": "stdout",
     "output_type": "stream",
     "text": [
      "alpha_min = 6.21894189418942e-05, alpha_c = 6.280708070807081e-05\n"
     ]
    }
   ],
   "source": [
    "alpha_list = linspace(6.2e-5, 6.3e-5, 10000)\n",
    "max_mod = []\n",
    "\n",
    "alpha_c = 0\n",
    "\n",
    "for alpha in alpha_list :\n",
    "    R = identity(M)-alpha*mat\n",
    "    vals_propres = eigvals(R)\n",
    "    v_max = max(abs(vals_propres))\n",
    "    max_mod.append(v_max)\n",
    "    if v_max <= 1 :\n",
    "        alpha_c = alpha\n",
    "\n",
    "alpha_min = alpha_list[argmin(max_mod)]\n",
    "print(\"alpha_min = {}, alpha_c = {}\".format(alpha_min,alpha_c))\n",
    "\n"
   ]
  },
  {
   "cell_type": "markdown",
   "metadata": {},
   "source": [
    "Affichage des résultats"
   ]
  },
  {
   "cell_type": "code",
   "execution_count": 10,
   "metadata": {},
   "outputs": [
    {
     "data": {
      "image/png": "[encoded data removed]",
      "text/plain": [
       "<Figure size 432x288 with 1 Axes>"
      ]
     },
     "metadata": {
      "needs_background": "light"
     },
     "output_type": "display_data"
    }
   ],
   "source": [
    "plot(alpha_list, max_mod)\n",
    "title(\"Maximum du module des valeurs propes en fonction de alpha\")\n",
    "#ylim((0.90, 1.2))\n",
    "#savefig(\"choix_alpha_cD_zoom.jpg\")\n",
    "show()"
   ]
  }
 ],
 "metadata": {
  "kernelspec": {
   "display_name": "Python 3.8.10 64-bit",
   "language": "python",
   "name": "python3"
  },
  "language_info": {
   "codemirror_mode": {
    "name": "ipython",
    "version": 3
   },
   "file_extension": ".py",
   "mimetype": "text/x-python",
   "name": "python",
   "nbconvert_exporter": "python",
   "pygments_lexer": "ipython3",
   "version": "3.8.10"
  },
  "orig_nbformat": 4,
  "vscode": {
   "interpreter": {
    "hash": "916dbcbb3f70747c44a77c7bcd40155683ae19c65e1c03b4aa3499c5328201f1"
   }
  }
 },
 "nbformat": 4,
 "nbformat_minor": 2
}
