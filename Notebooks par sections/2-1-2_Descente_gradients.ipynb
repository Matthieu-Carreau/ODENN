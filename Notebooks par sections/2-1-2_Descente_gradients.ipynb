{
 "cells": [
  {
   "cell_type": "markdown",
   "metadata": {},
   "source": [
    "Implémentation de résolution numérique approchée de l'équation 1 :\n",
    "$\\frac{dy}{dx} = f(x,y), \n",
    "y(a) = A$\n",
    "à l'aide de la la méthode de descente de gradients sur la fonction d'erreur\n"
   ]
  },
  {
   "cell_type": "code",
   "execution_count": 1,
   "metadata": {},
   "outputs": [],
   "source": [
    "#imports\n",
    "from numpy import pi, cos, sin, dot, zeros, linspace, arange, matmul\n",
    "from numpy.random import randn\n",
    "\n",
    "from matplotlib.pyplot import plot, show, yscale, legend, savefig"
   ]
  },
  {
   "cell_type": "markdown",
   "metadata": {},
   "source": [
    "Paramètres du modèle"
   ]
  },
  {
   "cell_type": "code",
   "execution_count": 2,
   "metadata": {},
   "outputs": [],
   "source": [
    "#nombre de coefficients de Fourier ajustables\n",
    "M = 10\n",
    "M_range = arange(M) + 1\n",
    "\n",
    "# nombre de points pour la variable indépendante\n",
    "N = 100\n",
    "X = linspace(0,1,N)"
   ]
  },
  {
   "cell_type": "markdown",
   "metadata": {},
   "source": [
    "Définition du gradient"
   ]
  },
  {
   "cell_type": "code",
   "execution_count": 3,
   "metadata": {},
   "outputs": [],
   "source": [
    "def calcGrad(A, M, N, X) :\n",
    "    #Calcule le gradient de l'erreur par rapport au vecteur\n",
    "    #des coefficients\n",
    "    grad = zeros((M))\n",
    "    V = cos(2*pi*X)\n",
    "    for m in range(1, M+1) :\n",
    "        for i in range(N) :\n",
    "            V[i] += 2*pi*m*A[m-1]*cos(2*pi*m*X[i])\n",
    "    for l in range(1, M+1) :\n",
    "        W = pi*l*cos(2*pi*l*X)\n",
    "        grad[l-1] = dot(V,W)\n",
    "    return grad"
   ]
  },
  {
   "cell_type": "markdown",
   "metadata": {},
   "source": [
    "Calcul matriciel du gradient"
   ]
  },
  {
   "cell_type": "code",
   "execution_count": 4,
   "metadata": {},
   "outputs": [],
   "source": [
    "mat = zeros((M,M))\n",
    "\n",
    "for l in range(1,M+1) :\n",
    "    for m in range(1,M+1) :\n",
    "        mat[m-1,l-1] = m*l*dot(cos(2*pi*m*X), cos(2*pi*l*X))\n",
    "mat *= 2*pi\n",
    "\n",
    "b = zeros(M)\n",
    "for l in range(1,M+1) :\n",
    "    b[l-1] = -l*dot(cos(2*pi*X), cos(2*pi*l*X))\n",
    "d = -b\n",
    "\n",
    "def calcGrad_mat(A, mat, d) :\n",
    "    return matmul(mat, A) + d"
   ]
  },
  {
   "cell_type": "markdown",
   "metadata": {},
   "source": [
    "Calcul de l'erreur"
   ]
  },
  {
   "cell_type": "code",
   "execution_count": 5,
   "metadata": {},
   "outputs": [],
   "source": [
    "def calcErreur(A, M, N, X) :\n",
    "    E = 0\n",
    "    for i in range(N) :\n",
    "        e = 0\n",
    "        for m in range(1,M+1) :\n",
    "            e+=m*A[m-1]*cos(2*pi*m*X[i])\n",
    "        e *= 2*pi\n",
    "        e+= cos(2*pi*X[i])\n",
    "        E += e**2\n",
    "\n",
    "    E *=0.5\n",
    "    return E"
   ]
  },
  {
   "cell_type": "markdown",
   "metadata": {},
   "source": [
    "Paramètres d'apprentissage"
   ]
  },
  {
   "cell_type": "code",
   "execution_count": 6,
   "metadata": {},
   "outputs": [],
   "source": [
    "alpha_min = 6.21894189418942e-05 #taux d'apprentissage pour la descente de gradients\n",
    "alpha_1 = 6.280708070807081e-05 #taux d'apprentissage pour la descente de gradients\n",
    "alpha_ = 6.3e-5\n",
    "epochs = 4000 #nombre d'itération\n",
    "\n",
    "#initialisation des coefficients\n",
    "A_min = randn((M))\n",
    "A_1 = randn((M))\n",
    "A_ = randn((M))"
   ]
  },
  {
   "cell_type": "markdown",
   "metadata": {},
   "source": [
    "Entraînement"
   ]
  },
  {
   "cell_type": "code",
   "execution_count": 7,
   "metadata": {},
   "outputs": [],
   "source": [
    "E_min = []\n",
    "E_1 = []\n",
    "E_ = []\n",
    "\n",
    "for k in range(epochs) :\n",
    "    if k%(epochs//100)==0 :\n",
    "        #print(\"Coefficients après\",k,\"itérations :\",A)\n",
    "        E_min.append(calcErreur(A_min,M,N,X))\n",
    "        E_1.append(calcErreur(A_1,M,N,X))\n",
    "        E_.append(calcErreur(A_,M,N,X))\n",
    "\n",
    "    A_min -= alpha_min*calcGrad_mat(A_min, mat, d)\n",
    "    A_1 -= alpha_1*calcGrad_mat(A_1, mat, d)\n",
    "    A_ -= alpha_*calcGrad_mat(A_, mat, d)\n",
    "\n",
    "E_min.append(calcErreur(A_min,M,N,X))\n",
    "E_1.append(calcErreur(A_1,M,N,X))\n",
    "E_.append(calcErreur(A_,M,N,X))"
   ]
  },
  {
   "cell_type": "markdown",
   "metadata": {},
   "source": [
    "Affichage des résultats"
   ]
  },
  {
   "cell_type": "code",
   "execution_count": 8,
   "metadata": {},
   "outputs": [
    {
     "name": "stdout",
     "output_type": "stream",
     "text": [
      "\n",
      "Coefficients finaux A_min après 4000 itérations : [-1.59154943e-01 -5.38896440e-18 -3.84709767e-18 -2.63412049e-18\n",
      " -2.06781529e-18 -1.80424273e-18 -1.41141558e-18 -1.23720350e-18\n",
      " -9.52025336e-19  1.66033132e-18]\n",
      "Coefficients finaux A_1 après 4000 itérations : [-0.16191143 -0.00568108 -0.00897789 -0.01294052 -0.01805691 -0.02525873\n",
      " -0.03664453 -0.05824504 -0.11761541 -1.17179342]\n",
      "Coefficients finaux A_ après 4000 itérations : [-7.25076036e+07 -1.49437079e+08 -2.36157317e+08 -3.40391690e+08\n",
      " -4.74974772e+08 -6.64413832e+08 -9.63909479e+08 -1.53209631e+09\n",
      " -3.09379370e+09 -3.08232331e+10]\n"
     ]
    }
   ],
   "source": [
    "print()\n",
    "print(\"Coefficients finaux A_min après\",epochs,\"itérations :\",A_min)\n",
    "print(\"Coefficients finaux A_1 après\",epochs,\"itérations :\",A_1)\n",
    "print(\"Coefficients finaux A_ après\",epochs,\"itérations :\",A_)"
   ]
  },
  {
   "cell_type": "markdown",
   "metadata": {},
   "source": [
    "Affichage graphique de l'erreur"
   ]
  },
  {
   "cell_type": "code",
   "execution_count": 9,
   "metadata": {},
   "outputs": [
    {
     "data": {
      "image/png": "[encoded data removed]",
      "text/plain": [
       "<Figure size 432x288 with 1 Axes>"
      ]
     },
     "metadata": {
      "needs_background": "light"
     },
     "output_type": "display_data"
    }
   ],
   "source": [
    "plot([40*k for k in range(101)], E_min, label = 'alpha_min')\n",
    "plot([40*k for k in range(101)], E_1, label = 'alpha_c')\n",
    "plot([40*k for k in range(101)], E_, label = 'alpha trop grand')\n",
    "yscale('log')\n",
    "legend()\n",
    "savefig(\"comparaison_erreurs_selon_alpha_1D.jpg\")\n",
    "show()"
   ]
  },
  {
   "cell_type": "markdown",
   "metadata": {},
   "source": [
    "Affichage des résultats"
   ]
  },
  {
   "cell_type": "code",
   "execution_count": 10,
   "metadata": {},
   "outputs": [
    {
     "data": {
      "image/png": "[encoded data removed]",
      "text/plain": [
       "<Figure size 432x288 with 1 Axes>"
      ]
     },
     "metadata": {
      "needs_background": "light"
     },
     "output_type": "display_data"
    },
    {
     "data": {
      "image/png": "[encoded data removed]",
      "text/plain": [
       "<Figure size 432x288 with 1 Axes>"
      ]
     },
     "metadata": {
      "needs_background": "light"
     },
     "output_type": "display_data"
    }
   ],
   "source": [
    "from matplotlib.pyplot import scatter, show, yscale, savefig\n",
    "\n",
    "#erreur relative sur le premier coefficient\n",
    "#valeurs théoriques :\n",
    "A_th = zeros((M))\n",
    "A_th[0] = -1/(2*pi)\n",
    "\n",
    "erreur = abs(A_min-A_th)\n",
    "\n",
    "scatter(range(1, M+1), A_min)\n",
    "savefig('coefs_1_DG.jpg')\n",
    "show()\n",
    "\n",
    "scatter(range(1, M+1), erreur)\n",
    "yscale('log')\n",
    "savefig('coefs_1_DG_erreur.jpg')\n",
    "show()\n"
   ]
  }
 ],
 "metadata": {
  "kernelspec": {
   "display_name": "Python 3.8.10 64-bit",
   "language": "python",
   "name": "python3"
  },
  "language_info": {
   "codemirror_mode": {
    "name": "ipython",
    "version": 3
   },
   "file_extension": ".py",
   "mimetype": "text/x-python",
   "name": "python",
   "nbconvert_exporter": "python",
   "pygments_lexer": "ipython3",
   "version": "3.8.10"
  },
  "orig_nbformat": 4,
  "vscode": {
   "interpreter": {
    "hash": "916dbcbb3f70747c44a77c7bcd40155683ae19c65e1c03b4aa3499c5328201f1"
   }
  }
 },
 "nbformat": 4,
 "nbformat_minor": 2
}
