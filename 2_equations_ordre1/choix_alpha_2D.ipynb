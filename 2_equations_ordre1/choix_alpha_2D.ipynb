{
 "cells": [
  {
   "cell_type": "markdown",
   "metadata": {},
   "source": [
    "Détermination du taux d'apprentissage idéal pour la descente de gradient dans l'exemple à deux dimensions."
   ]
  },
  {
   "cell_type": "code",
   "execution_count": 38,
   "metadata": {},
   "outputs": [],
   "source": [
    "#imports\n",
    "from numpy import pi, cos, sin, zeros, linspace, matmul, arange, identity, argmin\n",
    "from numpy.linalg import inv, eigvals\n",
    "\n",
    "from matplotlib.pyplot import plot, show, yscale, legend, title, ylim, savefig"
   ]
  },
  {
   "cell_type": "markdown",
   "metadata": {},
   "source": [
    "Paramètres du modèle"
   ]
  },
  {
   "cell_type": "code",
   "execution_count": 39,
   "metadata": {},
   "outputs": [],
   "source": [
    "#nombre de coefficients de Fourier ajustables\n",
    "M = 10\n",
    "M_range = arange(M) +1\n",
    "# nombre de points pour la variable indépendante\n",
    "N = 100\n",
    "#liste des points de test\n",
    "T = linspace(0,1,N)\n",
    "\n",
    "W = 2*pi"
   ]
  },
  {
   "cell_type": "markdown",
   "metadata": {},
   "source": [
    "Matrice $\\mathcal{M}$ telle que $\\vec{g} = \\mathcal{M} \\vec{A} + \\vec{d}$"
   ]
  },
  {
   "cell_type": "code",
   "execution_count": 40,
   "metadata": {},
   "outputs": [],
   "source": [
    "#matrice de coefficients (m*W*T[i]) de taille NxM\n",
    "#avec première coordonnée i, et deuxème m\n",
    "m_w_T = W*matmul(T.reshape((N,1)), M_range.reshape((1,M)))\n",
    "cos = cos(m_w_T)\n",
    "sin = sin(m_w_T)\n",
    "\n",
    "mat = zeros((2*M,2*M))\n",
    "\n",
    "for l in range(1,M+1) :\n",
    "    for m in range(1,M+1) :\n",
    "        for i in range(N) :\n",
    "            mat[l-1,m-1] += (1-l)*(1-m)*sin[i,m-1]*sin[i,l-1]\n",
    "            mat[l-1,m-1] += ((1-l)*cos[i,l-1]-1)*((1-m)*cos[i,m-1]-1)\n",
    "\n",
    "            mat[l-1,m-1+M] += (1-l)*sin[i,l-1]*((m-1)*cos[i,m-1]+1)\n",
    "            mat[l-1,m-1+M] += (1-m)*sin[i,m-1]*((1-l)*cos[i,l-1]-1)\n",
    "\n",
    "            mat[l-1+M,m-1] += ((l-1)*cos[i,l-1]+1)*(1-m)*sin[i,m-1]\n",
    "            mat[l-1+M,m-1] += (1-l)*sin[i,l-1]*((1-m)*cos[i,m-1]-1)\n",
    "\n",
    "            mat[l-1+M,m-1+M] += ((l-1)*cos[i,l-1]+1)*((m-1)*cos[i,m-1]+1)\n",
    "            mat[l-1+M,m-1+M] += (1-l)*(1-m)*sin[i,m-1]*sin[i,l-1]\n",
    "\n",
    "mat *= W**2\n",
    "\n"
   ]
  },
  {
   "cell_type": "markdown",
   "metadata": {},
   "source": [
    "Calcul des valeurs propres de la matrice $\\mathcal{R}_\\alpha = \\mathcal{I}_M - \\alpha \\mathcal{M}$ puis détermination du module maximum parmis celles-ci."
   ]
  },
  {
   "cell_type": "code",
   "execution_count": 41,
   "metadata": {},
   "outputs": [
    {
     "name": "stdout",
     "output_type": "stream",
     "text": [
      "6.0906090609060915e-06 6.1146114611461156e-06 0.9921005053484849\n"
     ]
    }
   ],
   "source": [
    "alpha_list = linspace(0, 1e-5, 10000)\n",
    "max_mod = []\n",
    "\n",
    "alpha_1 = 0\n",
    "\n",
    "for alpha in alpha_list :\n",
    "    R = identity(2*M)-alpha*mat\n",
    "    vals_propres = eigvals(R)\n",
    "    v_max = max(abs(vals_propres))\n",
    "    max_mod.append(v_max)\n",
    "    if v_max <= 1 :\n",
    "        alpha_1 = alpha\n",
    "\n",
    "alpha_min = alpha_list[argmin(max_mod)]\n",
    "print(alpha_min,alpha_1, min(max_mod))\n"
   ]
  },
  {
   "cell_type": "markdown",
   "metadata": {},
   "source": [
    "Affichage des résultats"
   ]
  },
  {
   "cell_type": "code",
   "execution_count": 42,
   "metadata": {},
   "outputs": [
    {
     "data": {
      "image/png": "[encoded data removed]",
      "text/plain": [
       "<Figure size 432x288 with 1 Axes>"
      ]
     },
     "metadata": {
      "needs_background": "light"
     },
     "output_type": "display_data"
    }
   ],
   "source": [
    "plot(alpha_list, max_mod)\n",
    "title(\"Maximum du module des valeurs propes en fonction de alpha\")\n",
    "#ylim((0.90, 1.2))\n",
    "#savefig(\"choix_alpha_1D_zoom.jpg\")\n",
    "show()"
   ]
  }
 ],
 "metadata": {
  "kernelspec": {
   "display_name": "Python 3.8.10 64-bit",
   "language": "python",
   "name": "python3"
  },
  "language_info": {
   "codemirror_mode": {
    "name": "ipython",
    "version": 3
   },
   "file_extension": ".py",
   "mimetype": "text/x-python",
   "name": "python",
   "nbconvert_exporter": "python",
   "pygments_lexer": "ipython3",
   "version": "3.8.10"
  },
  "orig_nbformat": 4,
  "vscode": {
   "interpreter": {
    "hash": "916dbcbb3f70747c44a77c7bcd40155683ae19c65e1c03b4aa3499c5328201f1"
   }
  }
 },
 "nbformat": 4,
 "nbformat_minor": 2
}
