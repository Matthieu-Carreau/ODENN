{
 "cells": [
  {
   "cell_type": "markdown",
   "metadata": {},
   "source": [
    "Implémentation de résolution numérique approchée des 2 équations couplées du mouvement de précession :\n",
    "$\\frac{dv_x}{dt} = \\omega v_y(t), \n",
    "\\frac{dv_y}{dt} = -\\omega v_x(t), \n",
    "v_x(0) = V_0,\n",
    "v_y(0) = 0$\n",
    "à l'aide de la la méthode de descente de gradients sur la fonction d'erreur\n"
   ]
  },
  {
   "cell_type": "code",
   "execution_count": 58,
   "metadata": {},
   "outputs": [],
   "source": [
    "#imports\n",
    "from numpy import pi, cos, sin, dot, zeros, linspace, arange, matmul\n",
    "from numpy.random import randn"
   ]
  },
  {
   "cell_type": "markdown",
   "metadata": {},
   "source": [
    "Paramètres du modèle"
   ]
  },
  {
   "cell_type": "code",
   "execution_count": 59,
   "metadata": {},
   "outputs": [],
   "source": [
    "#nombre de coefficients de Fourier ajustables\n",
    "M = 10\n",
    "M_range = arange(M) +1\n",
    "\n",
    "# nombre de points pour la variable indépendante\n",
    "N = 100\n",
    "T = linspace(0,1,N)"
   ]
  },
  {
   "cell_type": "markdown",
   "metadata": {},
   "source": [
    "Paramètres du problème"
   ]
  },
  {
   "cell_type": "code",
   "execution_count": 60,
   "metadata": {},
   "outputs": [],
   "source": [
    "W = 2*pi #pulsation\n",
    "V0 = 1 #vitesse initiale"
   ]
  },
  {
   "cell_type": "markdown",
   "metadata": {},
   "source": [
    "Calculs des vecteurs des cosinus et sinus qui seront souvent utilisés"
   ]
  },
  {
   "cell_type": "code",
   "execution_count": 61,
   "metadata": {},
   "outputs": [],
   "source": [
    "#matrice de coefficients (m*W*T[i]) de taille NxM\n",
    "#avec première coordonnée i, et deuxème m\n",
    "mat = W*matmul(T.reshape((N,1)), M_range.reshape((1,M)))\n",
    "cos = cos(mat)\n",
    "sin = sin(mat)"
   ]
  },
  {
   "cell_type": "markdown",
   "metadata": {},
   "source": [
    "Définition du gradient"
   ]
  },
  {
   "cell_type": "code",
   "execution_count": 62,
   "metadata": {},
   "outputs": [],
   "source": [
    "def calcGrad(A,B) :\n",
    "    #calcule le gradient de l'erreur par rapport aux\n",
    "    #2 vecteurs de paramètres A et B\n",
    "    grad_A = zeros((M))\n",
    "    grad_B = zeros((M))\n",
    "\n",
    "    for i in range(N) :\n",
    "        #valeurs de vx et vy à l'instant T[i]\n",
    "        vx = V0 + dot(A, cos[i]-1) + dot(B, sin[i])\n",
    "        vy = - dot(A, sin[i]) + dot(B, cos[i]-1)\n",
    "\n",
    "        #valeurs des dérivées de vx et vy à l'instant T[i]\n",
    "        dvx = W*(-dot(M_range*A, sin[i]) + dot(M_range*B, cos[i]))\n",
    "        dvy = W*(-dot(M_range*A, cos[i]) - dot(M_range*B, sin[i]))\n",
    "\n",
    "        #différences\n",
    "        ex = dvx - W*vy\n",
    "        ey = dvy + W*vx\n",
    "\n",
    "        #on incrémente les gradients\n",
    "        #pour A\n",
    "        dex_dA = W*(1-M_range)*sin[i]\n",
    "        dey_dA = W*((1-M_range)*cos[i]-1)\n",
    "        grad_A += ex*dex_dA + ey*dey_dA\n",
    "        #pour B\n",
    "        dex_dB = W*((M_range-1)*cos[i]+1)\n",
    "        dey_dB = W*(1-M_range)*sin[i]\n",
    "        grad_B += ex*dex_dB + ey*dey_dB\n",
    "\n",
    "    return grad_A, grad_B"
   ]
  },
  {
   "cell_type": "markdown",
   "metadata": {},
   "source": [
    "Paramètres d'apprentissage"
   ]
  },
  {
   "cell_type": "code",
   "execution_count": 63,
   "metadata": {},
   "outputs": [],
   "source": [
    "alpha = 1e-6 #taux d'apprentissage pour la descente de gradients\n",
    "epochs = 10000 #nombre d'itération\n",
    "\n",
    "#initialisation des coefficients\n",
    "A = randn((M))\n",
    "B = randn((M))"
   ]
  },
  {
   "cell_type": "markdown",
   "metadata": {},
   "source": [
    "Entraînement"
   ]
  },
  {
   "cell_type": "code",
   "execution_count": 64,
   "metadata": {},
   "outputs": [
    {
     "name": "stdout",
     "output_type": "stream",
     "text": [
      "\n",
      "Coefficients après 0 itérations :\n",
      " [ 1.95000439 -0.77398224 -0.5615855   0.6122229  -0.67366247 -0.38463424\n",
      " -0.18402382  0.80691276 -1.51701531 -0.50711993] \n",
      " [-0.32217747  0.35345041 -1.53602392  0.33126212 -0.07307273 -1.22874455\n",
      " -0.27373392  0.78600582  0.58344601 -1.84052923]\n",
      "\n",
      "Coefficients après 1000 itérations :\n",
      " [ 1.30157622e+00 -1.46620209e-01 -2.60626776e-02 -1.07807631e-02\n",
      " -5.82524288e-03 -3.61145789e-03 -2.43645342e-03 -1.74074793e-03\n",
      " -1.29631331e-03 -9.96038534e-04] \n",
      " [-0.07773726  0.03835405  0.00656636  0.00273473  0.00147945  0.00091744\n",
      "  0.00061891  0.00044209  0.00032911  0.00025279]\n",
      "\n",
      "Coefficients après 2000 itérations :\n",
      " [ 1.08237767e+00 -4.00213824e-02 -7.12705853e-03 -2.94713020e-03\n",
      " -1.59235110e-03 -9.87192909e-04 -6.66007315e-04 -4.75840453e-04\n",
      " -3.54357714e-04 -2.72280021e-04] \n",
      " [-2.12905612e-02  1.03440144e-02  1.84186711e-03  7.61651038e-04\n",
      "  4.11525827e-04  2.55129466e-04  1.72122444e-04  1.22975779e-04\n",
      "  9.15798051e-05  7.03676620e-05]\n",
      "\n",
      "Coefficients après 3000 itérations :\n",
      " [ 1.02249914e+00 -1.09306897e-02 -1.94656184e-03 -8.04927517e-04\n",
      " -4.34906811e-04 -2.69624521e-04 -1.81901535e-04 -1.29962704e-04\n",
      " -9.67830468e-05 -7.43657902e-05] \n",
      " [-5.81496365e-03  2.82506648e-03  5.03094031e-04  2.08035648e-04\n",
      "  1.12402818e-04  6.96851724e-05  4.70129339e-05  3.35892053e-05\n",
      "  2.50138349e-05  1.92200355e-05]\n",
      "\n",
      "Coefficients après 4000 itérations :\n",
      " [ 1.00614500e+00 -2.98540889e-03 -5.31648350e-04 -2.19843201e-04\n",
      " -1.18782503e-04 -7.36403172e-05 -4.96812629e-05 -3.54956393e-05\n",
      " -2.64335537e-05 -2.03109137e-05] \n",
      " [-1.58819299e-03  7.71586965e-04  1.37405947e-04  5.68190669e-05\n",
      "  3.06996577e-05  1.90325382e-05  1.28402561e-05  9.17394351e-06\n",
      "  6.83182311e-06  5.24941032e-06]\n",
      "\n",
      "Coefficients après 5000 itérations :\n",
      " [ 1.00167833e+00 -8.15380052e-04 -1.45204719e-04 -6.00439560e-05\n",
      " -3.24420832e-05 -2.01127711e-05 -1.35690326e-05 -9.69463053e-06\n",
      " -7.21957801e-06 -5.54735196e-06] \n",
      " [-4.33770023e-04  2.10737169e-04  3.75285505e-05  1.55185221e-05\n",
      "  8.38474372e-06  5.19819983e-06  3.50695301e-06  2.50560336e-06\n",
      "  1.86591937e-06  1.43372805e-06]\n",
      "\n",
      "Coefficients après 6000 itérations :\n",
      " [ 1.00045839e+00 -2.22698013e-04 -3.96585646e-05 -1.63993094e-05\n",
      " -8.86063799e-06 -5.49323491e-06 -3.70599772e-06 -2.64781430e-06\n",
      " -1.97182366e-06 -1.51510238e-06] \n",
      " [-1.18472021e-04  5.75569010e-05  1.02498628e-05  4.23844565e-06\n",
      "  2.29005574e-06  1.41974135e-06  9.57825086e-07  6.84334732e-07\n",
      "  5.09623133e-07  3.91582289e-07]\n",
      "\n",
      "Coefficients après 7000 itérations :\n",
      " [ 1.00012520e+00 -6.08236674e-05 -1.08316159e-05 -4.47900780e-06\n",
      " -2.42003281e-06 -1.50032184e-06 -1.01218852e-06 -7.23175630e-07\n",
      " -5.38547896e-07 -4.13807389e-07] \n",
      " [-3.23572836e-05  1.57200406e-05  2.79946029e-06  1.15761162e-06\n",
      "  6.25463993e-07  3.87762218e-07  2.61602848e-07  1.86906688e-07\n",
      "  1.39189153e-07  1.06949634e-07]\n",
      "\n",
      "Coefficients après 8000 itérations :\n",
      " [ 1.00003419e+00 -1.66122655e-05 -2.95834971e-06 -1.22331437e-06\n",
      " -6.60963555e-07 -4.09770502e-07 -2.76450683e-07 -1.97514982e-07\n",
      " -1.47089135e-07 -1.13019791e-07] \n",
      " [-8.83747740e-06  4.29348473e-06  7.64593446e-07  3.16168893e-07\n",
      "  1.70827810e-07  1.05906289e-07  7.14494233e-08  5.10482787e-08\n",
      "  3.80155829e-08  2.92102693e-08]\n",
      "\n",
      "Coefficients après 9000 itérations :\n",
      " [ 1.00000934e+00 -4.53717074e-06 -8.07989601e-07 -3.34113742e-07\n",
      " -1.80523512e-07 -1.11917230e-07 -7.55046898e-08 -5.39456342e-08\n",
      " -4.01732395e-08 -3.08681614e-08] \n",
      " [-2.41370715e-06  1.17264399e-06  2.08827087e-07  8.63525961e-08\n",
      "  4.66567876e-08  2.89253093e-08  1.95143903e-08  1.39423944e-08\n",
      "  1.03828819e-08  7.97795939e-09]\n"
     ]
    }
   ],
   "source": [
    "for k in range(epochs) :\n",
    "    if k%(epochs//10)==0 :\n",
    "        print(\"\\nCoefficients après\",k,\"itérations :\\n\",A,\"\\n\", B)\n",
    "\n",
    "    grad_A, grad_B = calcGrad(A,B)\n",
    "    A -= alpha*grad_A\n",
    "    B -= alpha*grad_B"
   ]
  },
  {
   "cell_type": "markdown",
   "metadata": {},
   "source": [
    "Affichage des résultats"
   ]
  },
  {
   "cell_type": "code",
   "execution_count": 65,
   "metadata": {},
   "outputs": [
    {
     "name": "stdout",
     "output_type": "stream",
     "text": [
      "\n",
      "Coefficients finaux après 10000 itérations : [ 1.00000255e+00 -1.23919994e-06 -2.20679520e-07 -9.12537244e-08\n",
      " -4.93048945e-08 -3.05670278e-08 -2.06219718e-08 -1.47337251e-08\n",
      " -1.09721848e-08 -8.43076573e-09] [-6.59235880e-07  3.20274560e-07  5.70352161e-08  2.35847707e-08\n",
      "  1.27429827e-08  7.90013061e-09  5.32980412e-09  3.80797092e-09\n",
      "  2.83579070e-09  2.17895410e-09]\n"
     ]
    }
   ],
   "source": [
    "print()\n",
    "print(\"Coefficients finaux après\",epochs,\"itérations :\",A,B)"
   ]
  }
 ],
 "metadata": {
  "kernelspec": {
   "display_name": "Python 3.8.10 64-bit",
   "language": "python",
   "name": "python3"
  },
  "language_info": {
   "codemirror_mode": {
    "name": "ipython",
    "version": 3
   },
   "file_extension": ".py",
   "mimetype": "text/x-python",
   "name": "python",
   "nbconvert_exporter": "python",
   "pygments_lexer": "ipython3",
   "version": "3.8.10"
  },
  "orig_nbformat": 4,
  "vscode": {
   "interpreter": {
    "hash": "916dbcbb3f70747c44a77c7bcd40155683ae19c65e1c03b4aa3499c5328201f1"
   }
  }
 },
 "nbformat": 4,
 "nbformat_minor": 2
}
