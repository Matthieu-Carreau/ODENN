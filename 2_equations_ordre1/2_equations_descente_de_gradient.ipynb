{
 "cells": [
  {
   "cell_type": "markdown",
   "metadata": {},
   "source": [
    "Implémentation de résolution numérique approchée des 2 équations couplées du mouvement de précession :\n",
    "$\\frac{dv_x}{dt} = \\omega v_y(t), \n",
    "\\frac{dv_y}{dt} = -\\omega v_x(t), \n",
    "v_x(0) = V_0,\n",
    "v_y(0) = 0$\n",
    "à l'aide de la méthode de descente de gradients sur la fonction d'erreur\n"
   ]
  },
  {
   "cell_type": "code",
   "execution_count": 268,
   "metadata": {},
   "outputs": [],
   "source": [
    "#imports\n",
    "from numpy import pi, cos, sin, dot, zeros, linspace, arange, matmul, concatenate\n",
    "from numpy.random import randn"
   ]
  },
  {
   "cell_type": "markdown",
   "metadata": {},
   "source": [
    "Paramètres du modèle"
   ]
  },
  {
   "cell_type": "code",
   "execution_count": 269,
   "metadata": {},
   "outputs": [],
   "source": [
    "#nombre de coefficients de Fourier ajustables\n",
    "M = 10\n",
    "M_range = arange(M) +1\n",
    "\n",
    "# nombre de points pour la variable indépendante\n",
    "N = 100\n",
    "T = linspace(0,1,N)"
   ]
  },
  {
   "cell_type": "markdown",
   "metadata": {},
   "source": [
    "Paramètres du problème"
   ]
  },
  {
   "cell_type": "code",
   "execution_count": 270,
   "metadata": {},
   "outputs": [],
   "source": [
    "W = 2*pi #pulsation\n",
    "V0 = 1 #vitesse initiale"
   ]
  },
  {
   "cell_type": "markdown",
   "metadata": {},
   "source": [
    "Calculs des vecteurs des cosinus et sinus qui seront souvent utilisés"
   ]
  },
  {
   "cell_type": "code",
   "execution_count": 271,
   "metadata": {},
   "outputs": [],
   "source": [
    "#matrice de coefficients (m*W*T[i]) de taille NxM\n",
    "#avec première coordonnée i, et deuxème m\n",
    "m_w_T = W*matmul(T.reshape((N,1)), M_range.reshape((1,M)))\n",
    "cos = cos(m_w_T)\n",
    "sin = sin(m_w_T)"
   ]
  },
  {
   "cell_type": "markdown",
   "metadata": {},
   "source": [
    "Définition du gradient"
   ]
  },
  {
   "cell_type": "code",
   "execution_count": 272,
   "metadata": {},
   "outputs": [],
   "source": [
    "def calcGrad(A,B) :\n",
    "    #calcule le gradient de l'erreur par rapport aux\n",
    "    #2 vecteurs de paramètres A et B\n",
    "    grad_A = zeros((M))\n",
    "    grad_B = zeros((M))\n",
    "\n",
    "    for i in range(N) :\n",
    "        #valeurs de vx et vy à l'instant T[i]\n",
    "        vx = V0 + dot(A, cos[i]-1) + dot(B, sin[i])\n",
    "        vy = - dot(A, sin[i]) + dot(B, cos[i]-1)\n",
    "\n",
    "        #valeurs des dérivées de vx et vy à l'instant T[i]\n",
    "        dvx = W*(-dot(M_range*A, sin[i]) + dot(M_range*B, cos[i]))\n",
    "        dvy = W*(-dot(M_range*A, cos[i]) - dot(M_range*B, sin[i]))\n",
    "\n",
    "        #différences\n",
    "        ex = dvx - W*vy\n",
    "        ey = dvy + W*vx\n",
    "\n",
    "        #on incrémente les gradients\n",
    "        #pour A\n",
    "        dex_dA = W*(1-M_range)*sin[i]\n",
    "        dey_dA = W*((1-M_range)*cos[i]-1)\n",
    "        grad_A += ex*dex_dA + ey*dey_dA\n",
    "        #pour B\n",
    "        dex_dB = W*((M_range-1)*cos[i]+1)\n",
    "        dey_dB = W*(1-M_range)*sin[i]\n",
    "        grad_B += ex*dex_dB + ey*dey_dB\n",
    "\n",
    "    return grad_A, grad_B"
   ]
  },
  {
   "cell_type": "markdown",
   "metadata": {},
   "source": [
    "Définition de l'erreur"
   ]
  },
  {
   "cell_type": "code",
   "execution_count": 273,
   "metadata": {},
   "outputs": [],
   "source": [
    "def calcErreur(A, B) :\n",
    "\n",
    "    erreur = 0\n",
    "    for i in range(N) :\n",
    "        #valeurs de vx et vy à l'instant T[i]\n",
    "        vx = V0 + dot(A, cos[i]-1) + dot(B, sin[i])\n",
    "        vy = - dot(A, sin[i]) + dot(B, cos[i]-1)\n",
    "\n",
    "        #valeurs des dérivées de vx et vy à l'instant T[i]\n",
    "        dvx = W*(-dot(M_range*A, sin[i]) + dot(M_range*B, cos[i]))\n",
    "        dvy = W*(-dot(M_range*A, cos[i]) - dot(M_range*B, sin[i]))\n",
    "\n",
    "        #différences\n",
    "        ex = dvx - W*vy\n",
    "        ey = dvy + W*vx\n",
    "\n",
    "        erreur += ex**2 + ey**2\n",
    "\n",
    "    return erreur/2"
   ]
  },
  {
   "cell_type": "markdown",
   "metadata": {},
   "source": [
    "Calcul matriciel du gradient"
   ]
  },
  {
   "cell_type": "code",
   "execution_count": 274,
   "metadata": {},
   "outputs": [],
   "source": [
    "d = zeros(2*M)\n",
    "for l in range(1,M+1) :\n",
    "    for i in range(N) :\n",
    "        d[l-1] += (1-l)*cos[i,l-1]-1\n",
    "        d[l-1+M] += (1-l)*sin[i,l-1]\n",
    "\n",
    "d*=W**2*V0\n",
    "\n",
    "\n",
    "mat = zeros((2*M,2*M))\n",
    "\n",
    "for l in range(1,M+1) :\n",
    "    for m in range(1,M+1) :\n",
    "        for i in range(N) :\n",
    "            mat[l-1,m-1] += (1-l)*(1-m)*sin[i,m-1]*sin[i,l-1]\n",
    "            mat[l-1,m-1] += ((1-l)*cos[i,l-1]-1)*((1-m)*cos[i,m-1]-1)\n",
    "\n",
    "            mat[l-1,m-1+M] += (1-l)*sin[i,l-1]*((m-1)*cos[i,m-1]+1)\n",
    "            mat[l-1,m-1+M] += (1-m)*sin[i,m-1]*((1-l)*cos[i,l-1]-1)\n",
    "\n",
    "            mat[l-1+M,m-1] += ((l-1)*cos[i,l-1]+1)*(1-m)*sin[i,m-1]\n",
    "            mat[l-1+M,m-1] += (1-l)*sin[i,l-1]*((1-m)*cos[i,m-1]-1)\n",
    "\n",
    "            mat[l-1+M,m-1+M] += ((l-1)*cos[i,l-1]+1)*((m-1)*cos[i,m-1]+1)\n",
    "            mat[l-1+M,m-1+M] += (1-l)*(1-m)*sin[i,m-1]*sin[i,l-1]\n",
    "\n",
    "mat *= W**2\n",
    "\n",
    "\n",
    "\n",
    "def calcGrad_mat(A, B, mat, d) :\n",
    "    P = concatenate((A,B))\n",
    "    G = matmul(mat, P) + d\n",
    "    return G[:M], G[M:]"
   ]
  },
  {
   "cell_type": "markdown",
   "metadata": {},
   "source": [
    "Paramètres d'apprentissage"
   ]
  },
  {
   "cell_type": "code",
   "execution_count": 275,
   "metadata": {},
   "outputs": [],
   "source": [
    "alpha = 6.0906090609060915e-06 #taux d'apprentissage pour la descente de gradients\n",
    "epochs = 10000 #nombre d'itération\n",
    "\n",
    "#initialisation des coefficients\n",
    "A = randn((M))\n",
    "B = randn((M))"
   ]
  },
  {
   "cell_type": "markdown",
   "metadata": {},
   "source": [
    "Entraînement"
   ]
  },
  {
   "cell_type": "code",
   "execution_count": 276,
   "metadata": {},
   "outputs": [
    {
     "name": "stdout",
     "output_type": "stream",
     "text": [
      "\n",
      "Coefficients après 0 itérations :\n",
      " [ 0.39506675  0.83012114  1.26442215 -0.93224902  0.66544973 -0.43407907\n",
      " -0.39873674 -0.30868579  1.01896169 -0.15802091] \n",
      " [ 2.34932005 -2.16326327 -0.04792779 -1.22542098  0.02607207  0.31908906\n",
      " -1.79563459 -0.44219666  0.37074503 -0.14613889]\n",
      "\n",
      "Coefficients après 1000 itérations :\n",
      " [ 9.99684871e-01  1.52638671e-04  2.68829883e-05  1.08566312e-05\n",
      "  5.60666663e-06  3.18568381e-06  1.78002806e-06  7.07711667e-07\n",
      " -7.06573471e-07 -1.48492522e-05] \n",
      " [ 9.97348923e-04 -4.86598802e-04 -8.79959824e-05 -3.75520513e-05\n",
      " -2.14515699e-05 -1.45999974e-05 -1.15047036e-05 -1.07480964e-05\n",
      " -1.35336445e-05 -7.45261148e-05]\n",
      "\n",
      "Coefficients après 2000 itérations :\n",
      " [ 9.99999887e-01  5.48856193e-08  9.68120301e-09  3.92259405e-09\n",
      "  2.03887798e-09  1.17387408e-09  6.77276410e-10  3.08685926e-10\n",
      " -1.53299164e-10 -4.56156409e-09] \n",
      " [ 3.58587381e-07 -1.74851225e-07 -3.15545512e-08 -1.34099480e-08\n",
      " -7.60640105e-09 -5.11973810e-09 -3.96804147e-09 -3.62038469e-09\n",
      " -4.41366096e-09 -2.33102601e-08]\n",
      "\n",
      "Coefficients après 3000 itérations :\n",
      " [ 1.00000000e+00  1.97349028e-11  3.48555189e-12  1.41624743e-12\n",
      "  7.40198215e-13  4.30883118e-13  2.55078073e-13  1.27822294e-13\n",
      " -2.38306604e-14 -1.39860943e-12] \n",
      " [ 1.28923593e-10 -6.28332916e-11 -1.13189125e-11 -4.79287587e-12\n",
      " -2.70172849e-12 -1.80047498e-12 -1.37434955e-12 -1.22586946e-12\n",
      " -1.44640604e-12 -7.29850884e-12]\n",
      "\n",
      "Coefficients après 4000 itérations :\n",
      " [ 1.00000000e+00  7.29355589e-15  1.33382103e-15  5.46162232e-16\n",
      "  2.87054656e-16  1.63345359e-16  1.06104095e-16  6.21101594e-17\n",
      " -2.61918003e-19 -4.37525177e-16] \n",
      " [ 4.63511748e-14 -2.25803803e-14 -4.06136437e-15 -1.71432693e-15\n",
      " -9.61083809e-16 -6.34819235e-16 -4.77873233e-16 -4.17196897e-16\n",
      " -4.76400263e-16 -2.28787253e-15]\n",
      "\n",
      "Coefficients après 5000 itérations :\n",
      " [1.00000000e+00 2.31642595e-15 5.47229545e-16 2.47035892e-16\n",
      " 1.31952109e-16 8.02547092e-17 5.62497054e-17 3.99526527e-17\n",
      " 3.29743420e-17 1.67037104e-17] \n",
      " [ 1.66640772e-17 -8.11503226e-18 -1.45762979e-18 -6.13589232e-19\n",
      " -3.42342377e-19 -2.24348124e-19 -1.66760584e-19 -1.42680986e-19\n",
      " -1.57727794e-19 -7.18141030e-19]\n",
      "\n",
      "Coefficients après 6000 itérations :\n",
      " [1.00000000e+00 2.31642595e-15 5.47229545e-16 2.47035892e-16\n",
      " 1.31952109e-16 8.02547092e-17 5.62497054e-17 3.99526527e-17\n",
      " 3.29743420e-17 1.67037104e-17] \n",
      " [ 5.99094093e-21 -2.91651644e-21 -5.23258342e-22 -2.19741274e-22\n",
      " -1.22087270e-22 -7.94506264e-23 -5.83861033e-23 -4.90256125e-23\n",
      " -5.24977692e-23 -2.25759047e-22]\n",
      "\n",
      "Coefficients après 7000 itérations :\n",
      " [1.00000000e+00 2.31642595e-15 5.47229545e-16 2.47035892e-16\n",
      " 1.31952109e-16 8.02547092e-17 5.62497054e-17 3.99526527e-17\n",
      " 3.29743420e-17 1.67037104e-17] \n",
      " [ 2.15378810e-24 -1.04821818e-24 -1.87874135e-25 -7.87342386e-26\n",
      " -4.35844334e-26 -2.81886406e-26 -2.05037032e-26 -1.69200322e-26\n",
      " -1.75665437e-26 -7.10922853e-26]\n",
      "\n",
      "Coefficients après 8000 itérations :\n",
      " [1.00000000e+00 2.31642595e-15 5.47229545e-16 2.47035892e-16\n",
      " 1.31952109e-16 8.02547092e-17 5.62497054e-17 3.99526527e-17\n",
      " 3.29743420e-17 1.67037104e-17] \n",
      " [ 7.74320609e-28 -3.76639688e-28 -6.77944600e-29 -2.83290246e-29\n",
      " -1.58965086e-29 -9.90933375e-30 -7.17758254e-30 -5.83517840e-30\n",
      " -5.85226598e-30 -2.23005473e-29]\n",
      "\n",
      "Coefficients après 9000 itérations :\n",
      " [1.00000000e+00 2.31642595e-15 5.47229545e-16 2.47035892e-16\n",
      " 1.31952109e-16 8.02547092e-17 5.62497054e-17 3.99526527e-17\n",
      " 3.29743420e-17 1.67037104e-17] \n",
      " [ 3.04131519e-31 -2.74194930e-32 -3.50489391e-31 -1.09393712e-31\n",
      " -3.27311597e-31  1.02774302e-31  4.30661518e-32  2.94077447e-32\n",
      "  6.64396632e-32  1.88566150e-31]\n"
     ]
    }
   ],
   "source": [
    "E = [] #evolution de l'erreur\n",
    "\n",
    "for k in range(epochs) :\n",
    "    if k%(epochs//10)==0 :\n",
    "        print(\"\\nCoefficients après\",k,\"itérations :\\n\",A,\"\\n\", B)\n",
    "    \n",
    "    if k%(epochs//100)==0 :\n",
    "        E.append(calcErreur(A,B))\n",
    "\n",
    "    grad_A, grad_B = calcGrad_mat(A, B, mat, d)#calcGrad(A,B)#\n",
    "    A -= alpha*grad_A\n",
    "    B -= alpha*grad_B\n",
    "\n",
    "\n",
    "E.append(calcErreur(A,B))"
   ]
  },
  {
   "cell_type": "markdown",
   "metadata": {},
   "source": [
    "Affichage des résultats"
   ]
  },
  {
   "cell_type": "code",
   "execution_count": 277,
   "metadata": {},
   "outputs": [
    {
     "name": "stdout",
     "output_type": "stream",
     "text": [
      "\n",
      "Coefficients finaux après 10000 itérations : [1.00000000e+00 2.31642595e-15 5.47229545e-16 2.47035892e-16\n",
      " 1.31952109e-16 8.02547092e-17 5.62497054e-17 3.99526527e-17\n",
      " 3.29743420e-17 1.67037104e-17] [ 1.92352154e-32  1.08369338e-31 -3.22199651e-31 -1.03243768e-31\n",
      " -3.19931664e-31  1.07694257e-31  4.42961405e-32  2.94077447e-32\n",
      "  7.13596180e-32  1.73806286e-31]\n"
     ]
    }
   ],
   "source": [
    "print()\n",
    "print(\"Coefficients finaux après\",epochs,\"itérations :\",A,B)"
   ]
  },
  {
   "cell_type": "markdown",
   "metadata": {},
   "source": [
    "Affichage graphique de l'erreur"
   ]
  },
  {
   "cell_type": "code",
   "execution_count": 278,
   "metadata": {},
   "outputs": [
    {
     "data": {
      "image/png": "[encoded data removed]",
      "text/plain": [
       "<Figure size 432x288 with 1 Axes>"
      ]
     },
     "metadata": {
      "needs_background": "light"
     },
     "output_type": "display_data"
    }
   ],
   "source": [
    "from matplotlib.pyplot import plot, show, yscale, legend, savefig\n",
    "\n",
    "plot([100*k for k in range(101)], E, label = 'Erreur')\n",
    "yscale('log')\n",
    "legend()\n",
    "#savefig(\"comparaison_erreurs_selon_alpha_1D.jpg\")\n",
    "show()"
   ]
  }
 ],
 "metadata": {
  "kernelspec": {
   "display_name": "Python 3.8.10 64-bit",
   "language": "python",
   "name": "python3"
  },
  "language_info": {
   "codemirror_mode": {
    "name": "ipython",
    "version": 3
   },
   "file_extension": ".py",
   "mimetype": "text/x-python",
   "name": "python",
   "nbconvert_exporter": "python",
   "pygments_lexer": "ipython3",
   "version": "3.8.10"
  },
  "orig_nbformat": 4,
  "vscode": {
   "interpreter": {
    "hash": "916dbcbb3f70747c44a77c7bcd40155683ae19c65e1c03b4aa3499c5328201f1"
   }
  }
 },
 "nbformat": 4,
 "nbformat_minor": 2
}
