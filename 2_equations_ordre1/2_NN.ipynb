{
 "cells": [
  {
   "cell_type": "markdown",
   "metadata": {},
   "source": [
    "Notebook correspondant à la section 3.2 du rapport, pour la résolution des équations couplées de la précession de Larmor :\n",
    "\\begin{equation}\n",
    "\\left\\{\n",
    "    \\begin{aligned}\n",
    "        \\frac{dM_x}{dt} &= \\omega M_y \\\\\n",
    "        \\frac{dM_y}{dt} &= -\\omega M_x\n",
    "    \\end{aligned}\n",
    "\\right.\n",
    "\\end{equation}"
   ]
  },
  {
   "cell_type": "code",
   "execution_count": 2,
   "metadata": {},
   "outputs": [],
   "source": [
    "#imports\n",
    "import numpy as np\n",
    "import tensorflow as tf\n",
    "import matplotlib.pyplot as plt\n",
    "from mpl_toolkits.mplot3d import Axes3D"
   ]
  },
  {
   "cell_type": "markdown",
   "metadata": {},
   "source": [
    "Physical parameters"
   ]
  },
  {
   "cell_type": "code",
   "execution_count": 3,
   "metadata": {},
   "outputs": [
    {
     "name": "stderr",
     "output_type": "stream",
     "text": [
      "2022-07-26 11:29:14.816951: I tensorflow/core/platform/cpu_feature_guard.cc:193] This TensorFlow binary is optimized with oneAPI Deep Neural Network Library (oneDNN) to use the following CPU instructions in performance-critical operations:  AVX2 FMA\n",
      "To enable them in other operations, rebuild TensorFlow with the appropriate compiler flags.\n"
     ]
    }
   ],
   "source": [
    "M_0 = tf.constant([1,0], dtype='float32')\n",
    "W = 2*np.pi\n",
    "#matrix defining the differential equation\n",
    "P = W*np.array([[0,1], [-1, 0]], dtype = 'float32')"
   ]
  },
  {
   "cell_type": "markdown",
   "metadata": {},
   "source": [
    "Training parameters"
   ]
  },
  {
   "cell_type": "code",
   "execution_count": 29,
   "metadata": {},
   "outputs": [],
   "source": [
    "N = 40 #number of samples for the independant variable\n",
    "training_points = np.linspace(-1,1,N)\n",
    "training_points = tf.convert_to_tensor(training_points, dtype=tf.float32)\n",
    "\n",
    "load_model = False\n",
    "load_filename = \"models/2_NN_direct_training_N=10\"\n",
    "save_model = False\n",
    "save_filename = \"models/2_NN_direct_training_N=100\"\n",
    "learning_rate = 1\n",
    "epochs = 1000\n",
    "display_step = min(max(1,epochs//100), 1000)"
   ]
  },
  {
   "cell_type": "markdown",
   "metadata": {},
   "source": [
    "Initializing the network"
   ]
  },
  {
   "cell_type": "code",
   "execution_count": 5,
   "metadata": {},
   "outputs": [],
   "source": [
    "# Network Parameters\n",
    "n_input = 1     # input layer number of neurons\n",
    "n_hidden_1 = 32 # 1st layer number of neurons\n",
    "n_hidden_2 = 8  # 2nd layer number of neurons\n",
    "n_output = 2    # output layer number of neurons\n",
    "\n",
    "#model definition :\n",
    "model = tf.keras.Sequential([\n",
    "  tf.keras.layers.Dense(n_hidden_1, activation=tf.nn.sigmoid, input_shape=(n_input,)),  # input shape required\n",
    "  tf.keras.layers.Dense(n_hidden_2, activation=tf.nn.sigmoid),\n",
    "  tf.keras.layers.Dense(n_output)\n",
    "])\n",
    "\n",
    "if load_model :\n",
    "    model = tf.keras.models.load_model(load_filename)\n",
    "\n",
    "optimizer = tf.keras.optimizers.SGD(learning_rate=learning_rate)"
   ]
  },
  {
   "cell_type": "markdown",
   "metadata": {},
   "source": [
    "Loss function\n",
    "https://www.tensorflow.org/versions/r2.0/api_docs/python/tf/GradientTape\n"
   ]
  },
  {
   "cell_type": "code",
   "execution_count": 21,
   "metadata": {},
   "outputs": [],
   "source": [
    "def loss_function(model, input_tensor, M_0):\n",
    "\n",
    "    with tf.GradientTape(persistent=True) as tape:\n",
    "        tape.watch(input_tensor)\n",
    "        output = model(input_tensor)\n",
    "        Mx, My = M_0[0]+input_tensor*output[:,0], M_0[1]+input_tensor*output[:,1]\n",
    "\n",
    "    dMx = tape.gradient(Mx, input_tensor)\n",
    "    dMy = tape.gradient(My, input_tensor)\n",
    "\n",
    "    ex = dMx - W*My\n",
    "    ey = dMy + W*Mx\n",
    "\n",
    "    return tf.reduce_mean(ex**2 + ey**2)"
   ]
  },
  {
   "cell_type": "markdown",
   "metadata": {},
   "source": [
    "gradient of loss"
   ]
  },
  {
   "cell_type": "code",
   "execution_count": 22,
   "metadata": {},
   "outputs": [],
   "source": [
    "def grad(model, input_tensor, M_0):\n",
    "    with tf.GradientTape() as tape:\n",
    "        loss_value = loss_function(model, input_tensor, M_0)\n",
    "\n",
    "    gradient = tape.gradient(loss_value, model.trainable_variables)\n",
    "\n",
    "    return loss_value, gradient"
   ]
  },
  {
   "cell_type": "markdown",
   "metadata": {},
   "source": [
    "Training the neural network"
   ]
  },
  {
   "cell_type": "code",
   "execution_count": 31,
   "metadata": {},
   "outputs": [
    {
     "name": "stdout",
     "output_type": "stream",
     "text": [
      "Loss after 0 / 1000 epochs : 0.83947086\n",
      "Loss after 10 / 1000 epochs : 0.83902866\n",
      "Loss after 20 / 1000 epochs : 0.8385862\n",
      "Loss after 30 / 1000 epochs : 0.8381441\n",
      "Loss after 40 / 1000 epochs : 0.8377023\n",
      "Loss after 50 / 1000 epochs : 0.83725965\n",
      "Loss after 60 / 1000 epochs : 0.8368176\n",
      "Loss after 70 / 1000 epochs : 0.83637655\n",
      "Loss after 80 / 1000 epochs : 0.8359338\n",
      "Loss after 90 / 1000 epochs : 0.8354925\n",
      "Loss after 100 / 1000 epochs : 0.8350509\n",
      "Loss after 110 / 1000 epochs : 0.8346096\n",
      "Loss after 120 / 1000 epochs : 0.8341676\n",
      "Loss after 130 / 1000 epochs : 0.8337264\n",
      "Loss after 140 / 1000 epochs : 0.83328485\n",
      "Loss after 150 / 1000 epochs : 0.83284366\n",
      "Loss after 160 / 1000 epochs : 0.83240163\n",
      "Loss after 170 / 1000 epochs : 0.83196163\n",
      "Loss after 180 / 1000 epochs : 0.8315199\n",
      "Loss after 190 / 1000 epochs : 0.8310795\n",
      "Loss after 200 / 1000 epochs : 0.83063775\n",
      "Loss after 210 / 1000 epochs : 0.8301978\n",
      "Loss after 220 / 1000 epochs : 0.8297564\n",
      "Loss after 230 / 1000 epochs : 0.8293158\n",
      "Loss after 240 / 1000 epochs : 0.82887554\n",
      "Loss after 250 / 1000 epochs : 0.8284353\n",
      "Loss after 260 / 1000 epochs : 0.82799417\n",
      "Loss after 270 / 1000 epochs : 0.82755315\n",
      "Loss after 280 / 1000 epochs : 0.82711315\n",
      "Loss after 290 / 1000 epochs : 0.8266722\n",
      "Loss after 300 / 1000 epochs : 0.8262316\n",
      "Loss after 310 / 1000 epochs : 0.8257917\n",
      "Loss after 320 / 1000 epochs : 0.82535154\n",
      "Loss after 330 / 1000 epochs : 0.82491034\n",
      "Loss after 340 / 1000 epochs : 0.8244709\n",
      "Loss after 350 / 1000 epochs : 0.82402945\n",
      "Loss after 360 / 1000 epochs : 0.8235898\n",
      "Loss after 370 / 1000 epochs : 0.8231497\n",
      "Loss after 380 / 1000 epochs : 0.8227089\n",
      "Loss after 390 / 1000 epochs : 0.8222693\n",
      "Loss after 400 / 1000 epochs : 0.821829\n",
      "Loss after 410 / 1000 epochs : 0.8213884\n",
      "Loss after 420 / 1000 epochs : 0.82094824\n",
      "Loss after 430 / 1000 epochs : 0.820508\n",
      "Loss after 440 / 1000 epochs : 0.8200677\n",
      "Loss after 450 / 1000 epochs : 0.81962836\n",
      "Loss after 460 / 1000 epochs : 0.8191885\n",
      "Loss after 470 / 1000 epochs : 0.8187483\n",
      "Loss after 480 / 1000 epochs : 0.81830806\n",
      "Loss after 490 / 1000 epochs : 0.81786805\n",
      "Loss after 500 / 1000 epochs : 0.81742823\n",
      "Loss after 510 / 1000 epochs : 0.8169872\n",
      "Loss after 520 / 1000 epochs : 0.8165473\n",
      "Loss after 530 / 1000 epochs : 0.8161069\n",
      "Loss after 540 / 1000 epochs : 0.81566703\n",
      "Loss after 550 / 1000 epochs : 0.81522715\n",
      "Loss after 560 / 1000 epochs : 0.81478614\n",
      "Loss after 570 / 1000 epochs : 0.8143465\n",
      "Loss after 580 / 1000 epochs : 0.8139063\n",
      "Loss after 590 / 1000 epochs : 0.8134657\n",
      "Loss after 600 / 1000 epochs : 0.81302583\n",
      "Loss after 610 / 1000 epochs : 0.8125855\n",
      "Loss after 620 / 1000 epochs : 0.81214494\n",
      "Loss after 630 / 1000 epochs : 0.8117048\n",
      "Loss after 640 / 1000 epochs : 0.8112639\n",
      "Loss after 650 / 1000 epochs : 0.81082374\n",
      "Loss after 660 / 1000 epochs : 0.8103838\n",
      "Loss after 670 / 1000 epochs : 0.8099429\n",
      "Loss after 680 / 1000 epochs : 0.8095023\n",
      "Loss after 690 / 1000 epochs : 0.8090618\n",
      "Loss after 700 / 1000 epochs : 0.8086212\n",
      "Loss after 710 / 1000 epochs : 0.8081808\n",
      "Loss after 720 / 1000 epochs : 0.8077396\n",
      "Loss after 730 / 1000 epochs : 0.80729944\n",
      "Loss after 740 / 1000 epochs : 0.8068582\n",
      "Loss after 750 / 1000 epochs : 0.8064181\n",
      "Loss after 760 / 1000 epochs : 0.805977\n",
      "Loss after 770 / 1000 epochs : 0.80553544\n",
      "Loss after 780 / 1000 epochs : 0.80509394\n",
      "Loss after 790 / 1000 epochs : 0.80465394\n",
      "Loss after 800 / 1000 epochs : 0.8042119\n",
      "Loss after 810 / 1000 epochs : 0.8037713\n",
      "Loss after 820 / 1000 epochs : 0.80333024\n",
      "Loss after 830 / 1000 epochs : 0.8028882\n",
      "Loss after 840 / 1000 epochs : 0.8024472\n",
      "Loss after 850 / 1000 epochs : 0.8020067\n",
      "Loss after 860 / 1000 epochs : 0.8015646\n",
      "Loss after 870 / 1000 epochs : 0.8011225\n",
      "Loss after 880 / 1000 epochs : 0.80068094\n",
      "Loss after 890 / 1000 epochs : 0.80024034\n",
      "Loss after 900 / 1000 epochs : 0.79979724\n",
      "Loss after 910 / 1000 epochs : 0.7993566\n",
      "Loss after 920 / 1000 epochs : 0.79891384\n",
      "Loss after 930 / 1000 epochs : 0.7984721\n",
      "Loss after 940 / 1000 epochs : 0.7980299\n",
      "Loss after 950 / 1000 epochs : 0.79758775\n",
      "Loss after 960 / 1000 epochs : 0.79714537\n",
      "Loss after 970 / 1000 epochs : 0.7967035\n",
      "Loss after 980 / 1000 epochs : 0.79626185\n",
      "Loss after 990 / 1000 epochs : 0.79581857\n",
      "Final loss after 1000 epochs : 0.795376\n"
     ]
    }
   ],
   "source": [
    "\n",
    "losses = []\n",
    "epochs_displayed = []\n",
    "\n",
    "for epoch in range(epochs) :\n",
    "    loss_value, grads = grad(model, training_points, M_0)\n",
    "    optimizer.apply_gradients(zip(grads, model.trainable_variables))\n",
    "\n",
    "    if epoch % display_step == 0 :\n",
    "        print(\"Loss after\",epoch,\"/\",epochs,\"epochs :\",loss_value.numpy())\n",
    "        losses.append(loss_value.numpy())\n",
    "        epochs_displayed.append(epoch)\n",
    "\n",
    "loss_value, grads = grad(model, training_points, M_0)\n",
    "print(\"Final loss after\",epochs,\"epochs :\",loss_value.numpy())\n",
    "losses.append(loss_value.numpy())\n",
    "epochs_displayed.append(epochs)"
   ]
  },
  {
   "cell_type": "code",
   "execution_count": null,
   "metadata": {},
   "outputs": [],
   "source": [
    "if save_model :\n",
    "    model.save(save_filename)"
   ]
  },
  {
   "cell_type": "markdown",
   "metadata": {},
   "source": [
    "Plot the evolution of loss"
   ]
  },
  {
   "cell_type": "code",
   "execution_count": 25,
   "metadata": {},
   "outputs": [
    {
     "data": {
      "image/png": "[encoded data removed]",
      "text/plain": [
       "<Figure size 432x288 with 1 Axes>"
      ]
     },
     "metadata": {
      "needs_background": "light"
     },
     "output_type": "display_data"
    }
   ],
   "source": [
    "plt.plot(epochs_displayed, losses)\n",
    "plt.yscale('log')\n",
    "plt.show()\n"
   ]
  },
  {
   "cell_type": "markdown",
   "metadata": {},
   "source": [
    "Plot the estimation and the analytic solution"
   ]
  },
  {
   "cell_type": "code",
   "execution_count": 30,
   "metadata": {},
   "outputs": [
    {
     "data": {
      "image/png": "[encoded data removed]",
      "text/plain": [
       "<Figure size 432x288 with 1 Axes>"
      ]
     },
     "metadata": {
      "needs_background": "light"
     },
     "output_type": "display_data"
    }
   ],
   "source": [
    "plotting_points = np.linspace(-1,1,200)\n",
    "plotting_points = tf.convert_to_tensor(plotting_points, dtype=tf.float32)\n",
    "\n",
    "#neural network estimation\n",
    "output = model(plotting_points)\n",
    "Mx_NN, My_NN = M_0[0]+plotting_points*output[:,0], M_0[1]+plotting_points*output[:,1]\n",
    "\n",
    "#analytic solution\n",
    "Mx_ana =  M_0[0]*np.cos(W*plotting_points) + M_0[1]*np.sin(W*plotting_points)\n",
    "My_ana = -M_0[0]*np.sin(W*plotting_points) + M_0[1]*np.cos(W*plotting_points)\n",
    "\n",
    "#training points\n",
    "Mx_ana_training_points =  M_0[0]*np.cos(W*training_points) + M_0[1]*np.sin(W*training_points)\n",
    "My_ana_training_points = -M_0[0]*np.sin(W*training_points) + M_0[1]*np.cos(W*training_points)\n",
    "\n",
    "\n",
    "#3D plotting\n",
    "fig = plt.figure()\n",
    "ax = fig.add_subplot(111, projection='3d')\n",
    "\n",
    "ax.plot(        xs=Mx_NN,\n",
    "                ys=My_NN,\n",
    "                zs=plotting_points,\n",
    "                label='solution approchée')\n",
    "\n",
    "ax.plot(        xs=Mx_ana,\n",
    "                ys=My_ana,\n",
    "                zs=plotting_points,\n",
    "                label='solution exacte')\n",
    "\n",
    "\n",
    "\n",
    "ax.scatter(     xs=Mx_ana_training_points,\n",
    "                ys=My_ana_training_points,\n",
    "                zs=training_points,\n",
    "                color='red')\n",
    "\n",
    "plt.legend()\n",
    "plt.title('résolution par réseau de neurones')\n",
    "plt.show()"
   ]
  }
 ],
 "metadata": {
  "kernelspec": {
   "display_name": "Python 3.8.10 64-bit",
   "language": "python",
   "name": "python3"
  },
  "language_info": {
   "codemirror_mode": {
    "name": "ipython",
    "version": 3
   },
   "file_extension": ".py",
   "mimetype": "text/x-python",
   "name": "python",
   "nbconvert_exporter": "python",
   "pygments_lexer": "ipython3",
   "version": "3.8.10"
  },
  "orig_nbformat": 4,
  "vscode": {
   "interpreter": {
    "hash": "916dbcbb3f70747c44a77c7bcd40155683ae19c65e1c03b4aa3499c5328201f1"
   }
  }
 },
 "nbformat": 4,
 "nbformat_minor": 2
}
