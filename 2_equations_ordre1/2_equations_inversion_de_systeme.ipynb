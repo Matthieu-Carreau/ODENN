{
 "cells": [
  {
   "cell_type": "markdown",
   "metadata": {},
   "source": [
    "Implémentation de résolution numérique approchée des 2 équations couplées du mouvement de précession :\n",
    "$\\frac{dv_x}{dt} = \\omega v_y(t), \n",
    "\\frac{dv_y}{dt} = -\\omega v_x(t), \n",
    "v_x(0) = V_0,\n",
    "v_y(0) = 0$\n",
    "à l'aide de la méthode de "
   ]
  },
  {
   "cell_type": "code",
   "execution_count": 1,
   "metadata": {},
   "outputs": [],
   "source": [
    "#imports\n",
    "from numpy import pi, cos, sin, dot, zeros, linspace, matmul, arange\n",
    "from numpy.linalg import inv, det"
   ]
  },
  {
   "cell_type": "markdown",
   "metadata": {},
   "source": [
    "Paramètres du modèle"
   ]
  },
  {
   "cell_type": "code",
   "execution_count": 2,
   "metadata": {},
   "outputs": [],
   "source": [
    "#nombre de coefficients de Fourier ajustables\n",
    "M = 10\n",
    "M_range = arange(M) +1\n",
    "\n",
    "# nombre de points pour la variable indépendante\n",
    "N = 100\n",
    "T = linspace(0,1,N)"
   ]
  },
  {
   "cell_type": "markdown",
   "metadata": {},
   "source": [
    "Paramètres du problème"
   ]
  },
  {
   "cell_type": "code",
   "execution_count": 3,
   "metadata": {},
   "outputs": [],
   "source": [
    "W = 2*pi #pulsation\n",
    "V0 = 1 #vitesse initiale"
   ]
  },
  {
   "cell_type": "markdown",
   "metadata": {},
   "source": [
    "Matrice représentant le système linéaire"
   ]
  },
  {
   "cell_type": "code",
   "execution_count": 4,
   "metadata": {},
   "outputs": [],
   "source": [
    "#matrice de coefficients (m*W*T[i]) de taille NxM\n",
    "#avec première coordonnée i, et deuxème m\n",
    "m_w_T = W*matmul(T.reshape((N,1)), M_range.reshape((1,M)))\n",
    "cos = cos(m_w_T)\n",
    "sin = sin(m_w_T)\n",
    "\n",
    "mat = zeros((2*M,2*M))\n",
    "\n",
    "for l in range(1,M+1) :\n",
    "    for m in range(1,M+1) :\n",
    "        for i in range(N) :\n",
    "            mat[l-1,m-1] += (1-l)*(1-m)*sin[i,m-1]*sin[i,l-1]\n",
    "            mat[l-1,m-1] += ((1-l)*cos[i,l-1]-1)*((1-m)*cos[i,m-1]-1)\n",
    "\n",
    "            mat[l-1,m-1+M] += (1-l)*sin[i,l-1]*((m-1)*cos[i,m-1]+1)\n",
    "            mat[l-1,m-1+M] += (1-m)*sin[i,m-1]*((1-l)*cos[i,l-1]-1)\n",
    "\n",
    "            mat[l-1+M,m-1] += ((l-1)*cos[i,l-1]+1)*(1-m)*sin[i,m-1]\n",
    "            mat[l-1+M,m-1] += (1-l)*sin[i,l-1]*((1-m)*cos[i,m-1]-1)\n",
    "\n",
    "            mat[l-1+M,m-1+M] += ((l-1)*cos[i,l-1]+1)*((m-1)*cos[i,m-1]+1)\n",
    "            mat[l-1+M,m-1+M] += (1-l)*(1-m)*sin[i,m-1]*sin[i,l-1]\n",
    "\n",
    "mat *= W**2\n",
    "\n",
    "\n",
    "\n"
   ]
  },
  {
   "cell_type": "markdown",
   "metadata": {},
   "source": [
    "Vecteur $\\vec{d}$"
   ]
  },
  {
   "cell_type": "code",
   "execution_count": 5,
   "metadata": {},
   "outputs": [],
   "source": [
    "d = zeros(2*M)\n",
    "for l in range(1,M+1) :\n",
    "    for i in range(N) :\n",
    "        d[l-1] += (1-l)*cos[i,l-1]-1\n",
    "        d[l-1+M] += (1-l)*sin[i,l-1]\n",
    "\n",
    "d*=W**2*V0\n"
   ]
  },
  {
   "cell_type": "markdown",
   "metadata": {},
   "source": [
    "Résolution du système"
   ]
  },
  {
   "cell_type": "code",
   "execution_count": 6,
   "metadata": {},
   "outputs": [
    {
     "name": "stdout",
     "output_type": "stream",
     "text": [
      "1.453896076198183e+94\n"
     ]
    }
   ],
   "source": [
    "print(det(mat))\n",
    "mat_inv = inv(mat)\n",
    "P = matmul(mat_inv,-d)\n",
    "A = P[:M]\n",
    "B = P[M:]"
   ]
  },
  {
   "cell_type": "markdown",
   "metadata": {},
   "source": [
    "Résultats obtenus :"
   ]
  },
  {
   "cell_type": "code",
   "execution_count": 7,
   "metadata": {},
   "outputs": [
    {
     "name": "stdout",
     "output_type": "stream",
     "text": [
      "Coefficients trouvés : [1.00000000e+00 2.22044605e-16 9.36750677e-17 5.55111512e-17\n",
      " 3.55618313e-17 2.77555756e-17 1.60461922e-17 3.46944695e-18\n",
      " 5.63785130e-18 5.20417043e-18] [ 2.44053843e-30 -8.75142567e-31 -3.14311767e-31 -9.24446373e-32\n",
      " -1.23259516e-31 -3.38963670e-32 -6.16297582e-33 -4.62223187e-33\n",
      " -1.84889275e-32 -9.24446373e-33]\n"
     ]
    }
   ],
   "source": [
    "print(\"Coefficients trouvés :\",A, B)"
   ]
  },
  {
   "cell_type": "markdown",
   "metadata": {},
   "source": [
    "Tracé de l'erreur absolue en échelle log"
   ]
  },
  {
   "cell_type": "code",
   "execution_count": 8,
   "metadata": {},
   "outputs": [
    {
     "data": {
      "image/png": "[encoded data removed]",
      "text/plain": [
       "<Figure size 432x288 with 1 Axes>"
      ]
     },
     "metadata": {
      "needs_background": "light"
     },
     "output_type": "display_data"
    },
    {
     "data": {
      "image/png": "[encoded data removed]",
      "text/plain": [
       "<Figure size 432x288 with 1 Axes>"
      ]
     },
     "metadata": {
      "needs_background": "light"
     },
     "output_type": "display_data"
    }
   ],
   "source": [
    "from matplotlib.pyplot import scatter, show, yscale, savefig\n",
    "\n",
    "#erreur relative sur le premier coefficient\n",
    "#valeurs théoriques :\n",
    "A_th = zeros((M))\n",
    "A_th[0] = 1\n",
    "\n",
    "erreur = abs(A-A_th)\n",
    "\n",
    "scatter(range(1, M+1), A)\n",
    "savefig('coefs_1_inv.jpg')\n",
    "show()\n",
    "\n",
    "scatter(range(1, M+1), erreur)\n",
    "yscale('log')\n",
    "savefig('coefs_1_inv_erreur.jpg')\n",
    "show()\n"
   ]
  }
 ],
 "metadata": {
  "kernelspec": {
   "display_name": "Python 3.8.10 64-bit",
   "language": "python",
   "name": "python3"
  },
  "language_info": {
   "codemirror_mode": {
    "name": "ipython",
    "version": 3
   },
   "file_extension": ".py",
   "mimetype": "text/x-python",
   "name": "python",
   "nbconvert_exporter": "python",
   "pygments_lexer": "ipython3",
   "version": "3.8.10"
  },
  "orig_nbformat": 4,
  "vscode": {
   "interpreter": {
    "hash": "916dbcbb3f70747c44a77c7bcd40155683ae19c65e1c03b4aa3499c5328201f1"
   }
  }
 },
 "nbformat": 4,
 "nbformat_minor": 2
}
