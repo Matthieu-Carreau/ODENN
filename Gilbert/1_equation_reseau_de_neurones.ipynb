{
 "cells": [
  {
   "cell_type": "markdown",
   "metadata": {},
   "source": [
    "Implémentation de résolution numérique approchée de l'équation 1 :\n",
    "$\\frac{dy}{dx} = f(x,y), \n",
    "y(a) = A$\n",
    "à l'aide d'un réseau de neurones avec une couche cachée et des\n",
    "fonctions d'activation sigmoid"
   ]
  },
  {
   "cell_type": "code",
   "execution_count": 180,
   "metadata": {},
   "outputs": [],
   "source": [
    "#imports\n",
    "from numpy import pi, cos, sin, dot, vectorize, exp, zeros, linspace, sum\n",
    "from numpy import sum as np_sum\n",
    "from numpy.random import randn\n",
    "from matplotlib.pyplot import plot, legend, title, show"
   ]
  },
  {
   "cell_type": "markdown",
   "metadata": {},
   "source": [
    "Définition des fonctions de lecture et écritures des paramètres du réseau dans un fichier csv.\n",
    "P : triplet contenant les vecteurs (w,b,v)"
   ]
  },
  {
   "cell_type": "code",
   "execution_count": 181,
   "metadata": {},
   "outputs": [],
   "source": [
    "def save(P, filename) :\n",
    "    w, b, v = P\n",
    "    f = open(filename+\".csv\", 'w')\n",
    "    for l in [w,b,v] :\n",
    "        for i in range(len(l)) :\n",
    "            f.write(str(l[i]))\n",
    "            if i+1 != len(l) :\n",
    "                f.write('; ')\n",
    "        f.write('\\n')\n",
    "    f.close()\n",
    "\n",
    "def load(filename) :\n",
    "    f = open(filename+\".csv\")\n",
    "    lines = f.readlines()\n",
    "    f.close()\n",
    "    floats = []\n",
    "    for l in lines :\n",
    "        valeurs = l.split(';')\n",
    "        for v in valeurs :\n",
    "            v = float(v)\n",
    "        floats.append(np.array(valeurs, dtype='float64'))\n",
    "    return floats[0],floats[1],floats[2]"
   ]
  },
  {
   "cell_type": "markdown",
   "metadata": {},
   "source": [
    "Données du problème"
   ]
  },
  {
   "cell_type": "code",
   "execution_count": 182,
   "metadata": {},
   "outputs": [],
   "source": [
    "#bornes de l'intervalle\n",
    "xa = -1\n",
    "xb = 1\n",
    "\n",
    "\n",
    "#condition initiale\n",
    "x0 = 0\n",
    "A = 0\n",
    "\n",
    "lamb = 0.3\n",
    "W = 2*pi\n",
    "\n",
    "def f(x,y) :\n",
    "    return lamb*W*(y**2-1)\n",
    "\n",
    "def df_dy(x,y) :\n",
    "    #à modifier pour prendre f en argument et calculer automatiquement la dérivée\n",
    "    \"\"\"renvoie df/dy (x,y)\"\"\"\n",
    "    return lamb*W*2*y"
   ]
  },
  {
   "cell_type": "markdown",
   "metadata": {},
   "source": [
    "Fonction sigmoïde :\n",
    "$\\sigma(x) = \\frac{1}{1+e^{-x}}$"
   ]
  },
  {
   "cell_type": "code",
   "execution_count": 183,
   "metadata": {},
   "outputs": [],
   "source": [
    "def sig(x) :\n",
    "    return 1/(1+exp(-x))\n",
    "\n",
    "sig = vectorize(sig)"
   ]
  },
  {
   "cell_type": "markdown",
   "metadata": {},
   "source": [
    "Fonctions calculant respectivement la sortie du réseau de neurones, l'erreur, et le gradient de l'erreur"
   ]
  },
  {
   "cell_type": "code",
   "execution_count": 184,
   "metadata": {},
   "outputs": [],
   "source": [
    "def N(x, w, b, v) :\n",
    "    #Calcule la sortie du réseau de neurones\n",
    "    z = x*w+b\n",
    "    s = sig(z)\n",
    "    return dot(s,v)\n",
    "\n",
    "\n",
    "def calcError(w, b, v, X, H, m, x0) :\n",
    "    #Calcule l'erreur\n",
    "    E = 0\n",
    "    for i in range(m) :\n",
    "\n",
    "        s = sig(X[i]*w+b)\n",
    "        e = dot(s,v)\n",
    "        e += (X[i]-x0)*sum(v*w*(s-s**2))\n",
    "        e -= (f(X[i],A+(X[i]-x0)*dot(s,v)))\n",
    "        E += e**2\n",
    "    return E\n",
    "\n",
    "\n",
    "def calcGrad(w, b, v, X, H, m, x0) :\n",
    "    #calcule le gradient de l'erreur par rapport\n",
    "    #aux 3 vecteurs représentant les paramètres\n",
    "    grad_w = zeros(H)\n",
    "    grad_b = zeros(H)\n",
    "    grad_v = zeros(H)\n",
    "\n",
    "    for i in range(m):\n",
    "\n",
    "        s = sig(X[i]*w+b)\n",
    "        df = df_dy(X[i], A+(X[i]-x0)*dot(s,v))\n",
    "\n",
    "        e = dot(s,v)\n",
    "        e += (X[i]-x0)*sum(v*w*(s-s**2))\n",
    "        e -= (f(X[i], A+(X[i]-x0)*dot(s,v)))\n",
    "\n",
    "        #w\n",
    "        de_dw = 1 + (X[i]-x0)*(w*(1-2*s)-df)\n",
    "        de_dw = X[i]*(s-s**2)*v*de_dw\n",
    "\n",
    "        grad_w += 2*e*de_dw\n",
    "\n",
    "        #b\n",
    "        de_db = 1 + (X[i]-x0)*(w*(1-2*s)-df)\n",
    "        de_db = (s-s**2)*v*de_db\n",
    "\n",
    "        grad_b += 2*e*de_db\n",
    "\n",
    "        #v\n",
    "        de_dv = 1 + (X[i]-x0)*(w*(1-s)-df)\n",
    "        de_dv = s*de_dv\n",
    "\n",
    "        grad_v += 2*e*de_dv\n",
    "\n",
    "\n",
    "    return grad_w, grad_b, grad_v\n"
   ]
  },
  {
   "cell_type": "markdown",
   "metadata": {},
   "source": [
    "Définition des paramètres du modèle"
   ]
  },
  {
   "cell_type": "code",
   "execution_count": 192,
   "metadata": {},
   "outputs": [],
   "source": [
    "m = 20 # nombre de points pour la variable indépendante\n",
    "X = linspace(xa,xb,m) #liste des points de tests\n",
    "\n",
    "H = 8 # nombre de noeuds de la couche cachée\n",
    "epochs = 6000 #nombre d'itérations\n",
    "alpha = 5e-4 #taux d'apprentissage pour la descente de gradients"
   ]
  },
  {
   "cell_type": "markdown",
   "metadata": {},
   "source": [
    "Initialisation des paramètres"
   ]
  },
  {
   "cell_type": "code",
   "execution_count": 190,
   "metadata": {},
   "outputs": [],
   "source": [
    "#poids entre l'entrée et la couche cachée\n",
    "w = randn((H))\n",
    "#biais de la couche cachée\n",
    "b = randn((H))\n",
    "#poids entre la couche cachée et la sortie\n",
    "v = randn((H))"
   ]
  },
  {
   "cell_type": "markdown",
   "metadata": {},
   "source": [
    "Entraînement du modèle"
   ]
  },
  {
   "cell_type": "code",
   "execution_count": 194,
   "metadata": {},
   "outputs": [
    {
     "name": "stdout",
     "output_type": "stream",
     "text": [
      "Erreur après 0 itérations : 0.2654363684368031\n",
      "Erreur après 500 itérations : 0.2504284462401472\n",
      "Erreur après 1000 itérations : 0.235929757578118\n",
      "Erreur après 1500 itérations : 0.22197071809793067\n",
      "Erreur après 2000 itérations : 0.20859432825711496\n",
      "Erreur après 2500 itérations : 0.19584314611193734\n",
      "Erreur après 3000 itérations : 0.18375287946680122\n",
      "Erreur après 3500 itérations : 0.17234929265547033\n",
      "Erreur après 4000 itérations : 0.1616469863641843\n",
      "Erreur après 4500 itérations : 0.15164936772465593\n",
      "Erreur après 5000 itérations : 0.1423494147553803\n",
      "Erreur après 5500 itérations : 0.13373094918612924\n"
     ]
    }
   ],
   "source": [
    "for k in range(epochs) :\n",
    "    if (k%500 == 0) :\n",
    "        print(\"Erreur après\",k,\"itérations :\", calcError(w, b, v, X, H, m, x0))\n",
    "    gw,gb,gv = calcGrad(w, b, v, X, H, m, x0)\n",
    "    w -= alpha*gw\n",
    "    b -= alpha*gb\n",
    "    v -= alpha*gv"
   ]
  },
  {
   "cell_type": "markdown",
   "metadata": {},
   "source": [
    "Affichage des résulats trouvés :"
   ]
  },
  {
   "cell_type": "code",
   "execution_count": 195,
   "metadata": {},
   "outputs": [
    {
     "name": "stdout",
     "output_type": "stream",
     "text": [
      "\n",
      "Erreur finale après 6000 itérations 0.1257701884707465\n",
      "paramètres trouvés : [ 1.40355409 -3.03820316 -0.96517442  0.40384139  1.52691647  1.18915867\n",
      " -2.00196582  0.68572659] [ 0.78409103  1.58246158 -0.45023077 -1.13043091 -1.52276019 -1.50708119\n",
      " -0.80183636  0.12702822] [-0.8736069  -2.15225469  0.85907361 -0.21164639  0.33280298  0.40240128\n",
      "  1.4113823  -0.39853952]\n"
     ]
    }
   ],
   "source": [
    "print()\n",
    "print(\"Erreur finale après\",epochs,\"itérations\",calcError(w, b, v, X, H, m, x0))\n",
    "print(\"paramètres trouvés :\",w,b,v)\n",
    "#save((w,b,v), 'H = '+str(H)+', E = '+str(int(calcError(w, b, v))))"
   ]
  },
  {
   "cell_type": "markdown",
   "metadata": {},
   "source": [
    "Affichage graphique de la solution trouvée :"
   ]
  },
  {
   "cell_type": "code",
   "execution_count": 196,
   "metadata": {},
   "outputs": [
    {
     "data": {
      "image/png": "[encoded data removed]",
      "text/plain": [
       "<Figure size 432x288 with 1 Axes>"
      ]
     },
     "metadata": {
      "needs_background": "light"
     },
     "output_type": "display_data"
    }
   ],
   "source": [
    "#solution trouvée\n",
    "Y = [A + (X[i]-x0)*N(X[i], w, b, v) for i in range(m)]\n",
    "\n",
    "#solution analytique\n",
    "K = (A-1) / (A+1)\n",
    "Kexp = K*exp(2*lamb*W*X)\n",
    "Z = (1+Kexp) / (1-Kexp)\n",
    "\n",
    "plot(X,Z, label='solution analytique')\n",
    "plot(X,Y, label='solution approchée')\n",
    "legend()\n",
    "title('Solution approchée et analytique')\n",
    "show()"
   ]
  }
 ],
 "metadata": {
  "kernelspec": {
   "display_name": "Python 3.8.10 64-bit",
   "language": "python",
   "name": "python3"
  },
  "language_info": {
   "codemirror_mode": {
    "name": "ipython",
    "version": 3
   },
   "file_extension": ".py",
   "mimetype": "text/x-python",
   "name": "python",
   "nbconvert_exporter": "python",
   "pygments_lexer": "ipython3",
   "version": "3.8.10"
  },
  "orig_nbformat": 4,
  "vscode": {
   "interpreter": {
    "hash": "916dbcbb3f70747c44a77c7bcd40155683ae19c65e1c03b4aa3499c5328201f1"
   }
  }
 },
 "nbformat": 4,
 "nbformat_minor": 2
}
