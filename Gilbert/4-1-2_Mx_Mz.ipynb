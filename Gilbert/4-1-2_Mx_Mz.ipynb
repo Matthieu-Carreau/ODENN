{
 "cells": [
  {
   "cell_type": "markdown",
   "metadata": {},
   "source": [
    "Notebook correspondant à la section 4.1.2 du rapport, pour la résolution des équations sur $M_x$ et $M_y$ couplées de la précession amortie :\n",
    "\\begin{equation}\n",
    "\\left\\{\n",
    "    \\begin{aligned}\n",
    "        \\frac{dM_x}{d\\tilde{t}} &= - M_y\\omega_z - \\lambda M_x M_z \\omega_z \\\\\n",
    "        \\frac{dM_y}{d\\tilde{t}} &= M_x\\omega_z - \\lambda M_y M_z \\omega_z\n",
    "    \\end{aligned}\n",
    "\\right.\n",
    "\\end{equation}"
   ]
  },
  {
   "cell_type": "code",
   "execution_count": 2,
   "metadata": {},
   "outputs": [],
   "source": [
    "#imports\n",
    "import numpy as np\n",
    "import tensorflow as tf\n",
    "import matplotlib.pyplot as plt\n",
    "from mpl_toolkits.mplot3d import Axes3D"
   ]
  },
  {
   "cell_type": "markdown",
   "metadata": {},
   "source": [
    "Physical parameters"
   ]
  },
  {
   "cell_type": "code",
   "execution_count": 13,
   "metadata": {},
   "outputs": [],
   "source": [
    "#initial value for M = [Mx, My] vector\n",
    "M_0 = tf.constant([1,0], dtype='float32') \n",
    "#initial value for Mz\n",
    "M_z0 = tf.constant(0, dtype='float32') \n",
    "W = 2*np.pi\n",
    "lamb = 0.3"
   ]
  },
  {
   "cell_type": "markdown",
   "metadata": {},
   "source": [
    "Training parameters"
   ]
  },
  {
   "cell_type": "code",
   "execution_count": 24,
   "metadata": {},
   "outputs": [],
   "source": [
    "N = 40 #number of samples for the independant variable\n",
    "t_a = -1\n",
    "t_b = 1\n",
    "training_points = np.linspace(t_a,t_b,N)\n",
    "training_points = tf.convert_to_tensor(training_points, dtype=tf.float32)\n",
    "\n",
    "load_model = False\n",
    "load_filename = \"models/2_NN_direct_training_N=10\"\n",
    "save_model = False\n",
    "save_filename = \"models/2_NN_direct_training_N=100\"\n"
   ]
  },
  {
   "cell_type": "markdown",
   "metadata": {},
   "source": [
    "Load the model for the evolution of Mz"
   ]
  },
  {
   "cell_type": "code",
   "execution_count": 9,
   "metadata": {},
   "outputs": [
    {
     "name": "stdout",
     "output_type": "stream",
     "text": [
      "WARNING:tensorflow:No training configuration found in save file, so the model was *not* compiled. Compile it manually.\n"
     ]
    }
   ],
   "source": [
    "Mz_model_filename = \"Mz_NN\"\n",
    "Mz_model = tf.keras.models.load_model(Mz_model_filename)\n",
    "Mz_NN = Mz_model(training_points)\n",
    "\n",
    "Mz_tensor = M_z0+training_points*Mz_NN[:,0]"
   ]
  },
  {
   "cell_type": "markdown",
   "metadata": {},
   "source": [
    "Initializing the network"
   ]
  },
  {
   "cell_type": "code",
   "execution_count": 10,
   "metadata": {},
   "outputs": [],
   "source": [
    "# Network Parameters\n",
    "n_input = 1     # input layer number of neurons\n",
    "n_hidden_1 = 16 # 1st layer number of neurons\n",
    "n_output = 2    # output layer number of neurons\n",
    "\n",
    "#model definition :\n",
    "model = tf.keras.Sequential([\n",
    "  tf.keras.layers.Dense(n_hidden_1, activation=tf.nn.sigmoid, input_shape=(n_input,)),  \n",
    "  tf.keras.layers.Dense(n_output)\n",
    "])\n",
    "\n",
    "if load_model :\n",
    "    model = tf.keras.models.load_model(load_filename)\n",
    "\n"
   ]
  },
  {
   "cell_type": "markdown",
   "metadata": {},
   "source": [
    "Loss function\n",
    "https://www.tensorflow.org/versions/r2.0/api_docs/python/tf/GradientTape\n"
   ]
  },
  {
   "cell_type": "code",
   "execution_count": 11,
   "metadata": {},
   "outputs": [],
   "source": [
    "def loss_function(model, input_tensor, M_0, lamb, Mz_tensor):\n",
    "\n",
    "    with tf.GradientTape(persistent=True) as tape:\n",
    "        tape.watch(input_tensor)\n",
    "        output = model(input_tensor)\n",
    "        Mx, My = M_0[0]+input_tensor*output[:,0], M_0[1]+input_tensor*output[:,1]\n",
    "\n",
    "    dMx = tape.gradient(Mx, input_tensor)\n",
    "    dMy = tape.gradient(My, input_tensor)\n",
    "\n",
    "    ex = dMx + W*(My + lamb*tf.multiply(Mx,Mz_tensor))\n",
    "    ey = dMy + W*(-Mx + lamb*tf.multiply(My,Mz_tensor))\n",
    "\n",
    "    return tf.reduce_mean(ex**2 + ey**2)"
   ]
  },
  {
   "cell_type": "markdown",
   "metadata": {},
   "source": [
    "Gradient of loss"
   ]
  },
  {
   "cell_type": "code",
   "execution_count": 12,
   "metadata": {},
   "outputs": [],
   "source": [
    "def grad(model, input_tensor, M_0, lamb, Mz_tensor):\n",
    "    with tf.GradientTape() as tape:\n",
    "        loss_value = loss_function(model, input_tensor, M_0, lamb, Mz_tensor)\n",
    "\n",
    "    gradient = tape.gradient(loss_value, model.trainable_variables)\n",
    "\n",
    "    return loss_value, gradient"
   ]
  },
  {
   "cell_type": "markdown",
   "metadata": {},
   "source": [
    "Training the neural network"
   ]
  },
  {
   "cell_type": "code",
   "execution_count": 40,
   "metadata": {},
   "outputs": [],
   "source": [
    "learning_rate = 7e-3\n",
    "epochs = 5000\n",
    "display_step = min(max(1,epochs//100), 1000)\n",
    "optimizer = tf.keras.optimizers.SGD(learning_rate=learning_rate)"
   ]
  },
  {
   "cell_type": "code",
   "execution_count": 41,
   "metadata": {},
   "outputs": [
    {
     "name": "stdout",
     "output_type": "stream",
     "text": [
      "Loss after 0 / 5000 epochs : 0.43898124\n",
      "Loss after 50 / 5000 epochs : 0.4379891\n",
      "Loss after 100 / 5000 epochs : 0.43700808\n",
      "Loss after 150 / 5000 epochs : 0.43603745\n",
      "Loss after 200 / 5000 epochs : 0.43507615\n",
      "Loss after 250 / 5000 epochs : 0.43412352\n",
      "Loss after 300 / 5000 epochs : 0.43318263\n",
      "Loss after 350 / 5000 epochs : 0.4322486\n",
      "Loss after 400 / 5000 epochs : 0.4313259\n",
      "Loss after 450 / 5000 epochs : 0.430411\n",
      "Loss after 500 / 5000 epochs : 0.42950517\n",
      "Loss after 550 / 5000 epochs : 0.42860708\n",
      "Loss after 600 / 5000 epochs : 0.42771825\n",
      "Loss after 650 / 5000 epochs : 0.4268368\n",
      "Loss after 700 / 5000 epochs : 0.42596358\n",
      "Loss after 750 / 5000 epochs : 0.42509955\n",
      "Loss after 800 / 5000 epochs : 0.42424124\n",
      "Loss after 850 / 5000 epochs : 0.42339152\n",
      "Loss after 900 / 5000 epochs : 0.42254877\n",
      "Loss after 950 / 5000 epochs : 0.4217123\n",
      "Loss after 1000 / 5000 epochs : 0.4208848\n",
      "Loss after 1050 / 5000 epochs : 0.42006284\n",
      "Loss after 1100 / 5000 epochs : 0.41924828\n",
      "Loss after 1150 / 5000 epochs : 0.4184392\n",
      "Loss after 1200 / 5000 epochs : 0.41763735\n",
      "Loss after 1250 / 5000 epochs : 0.41684145\n",
      "Loss after 1300 / 5000 epochs : 0.41605386\n",
      "Loss after 1350 / 5000 epochs : 0.41526967\n",
      "Loss after 1400 / 5000 epochs : 0.41449165\n",
      "Loss after 1450 / 5000 epochs : 0.41372028\n",
      "Loss after 1500 / 5000 epochs : 0.41295463\n",
      "Loss after 1550 / 5000 epochs : 0.41219416\n",
      "Loss after 1600 / 5000 epochs : 0.4114396\n",
      "Loss after 1650 / 5000 epochs : 0.41069108\n",
      "Loss after 1700 / 5000 epochs : 0.40994653\n",
      "Loss after 1750 / 5000 epochs : 0.4092079\n",
      "Loss after 1800 / 5000 epochs : 0.4084735\n",
      "Loss after 1850 / 5000 epochs : 0.40774456\n",
      "Loss after 1900 / 5000 epochs : 0.40702033\n",
      "Loss after 1950 / 5000 epochs : 0.40630007\n",
      "Loss after 2000 / 5000 epochs : 0.40558472\n",
      "Loss after 2050 / 5000 epochs : 0.40487462\n",
      "Loss after 2100 / 5000 epochs : 0.4041686\n",
      "Loss after 2150 / 5000 epochs : 0.4034671\n",
      "Loss after 2200 / 5000 epochs : 0.40276974\n",
      "Loss after 2250 / 5000 epochs : 0.40207657\n",
      "Loss after 2300 / 5000 epochs : 0.4013884\n",
      "Loss after 2350 / 5000 epochs : 0.40070325\n",
      "Loss after 2400 / 5000 epochs : 0.4000233\n",
      "Loss after 2450 / 5000 epochs : 0.39934534\n",
      "Loss after 2500 / 5000 epochs : 0.39867163\n",
      "Loss after 2550 / 5000 epochs : 0.39800248\n",
      "Loss after 2600 / 5000 epochs : 0.39733583\n",
      "Loss after 2650 / 5000 epochs : 0.39667264\n",
      "Loss after 2700 / 5000 epochs : 0.39601347\n",
      "Loss after 2750 / 5000 epochs : 0.39535803\n",
      "Loss after 2800 / 5000 epochs : 0.39470628\n",
      "Loss after 2850 / 5000 epochs : 0.39405787\n",
      "Loss after 2900 / 5000 epochs : 0.39341182\n",
      "Loss after 2950 / 5000 epochs : 0.3927695\n",
      "Loss after 3000 / 5000 epochs : 0.39213032\n",
      "Loss after 3050 / 5000 epochs : 0.39149484\n",
      "Loss after 3100 / 5000 epochs : 0.39086136\n",
      "Loss after 3150 / 5000 epochs : 0.39023024\n",
      "Loss after 3200 / 5000 epochs : 0.38960305\n",
      "Loss after 3250 / 5000 epochs : 0.38897842\n",
      "Loss after 3300 / 5000 epochs : 0.38835627\n",
      "Loss after 3350 / 5000 epochs : 0.38773638\n",
      "Loss after 3400 / 5000 epochs : 0.38711977\n",
      "Loss after 3450 / 5000 epochs : 0.38650656\n",
      "Loss after 3500 / 5000 epochs : 0.3858947\n",
      "Loss after 3550 / 5000 epochs : 0.38528532\n",
      "Loss after 3600 / 5000 epochs : 0.38467962\n",
      "Loss after 3650 / 5000 epochs : 0.38407558\n",
      "Loss after 3700 / 5000 epochs : 0.38347477\n",
      "Loss after 3750 / 5000 epochs : 0.38287547\n",
      "Loss after 3800 / 5000 epochs : 0.38227788\n",
      "Loss after 3850 / 5000 epochs : 0.38168353\n",
      "Loss after 3900 / 5000 epochs : 0.38109112\n",
      "Loss after 3950 / 5000 epochs : 0.380501\n",
      "Loss after 4000 / 5000 epochs : 0.37991178\n",
      "Loss after 4050 / 5000 epochs : 0.37932527\n",
      "Loss after 4100 / 5000 epochs : 0.37874088\n",
      "Loss after 4150 / 5000 epochs : 0.37815967\n",
      "Loss after 4200 / 5000 epochs : 0.37757954\n",
      "Loss after 4250 / 5000 epochs : 0.3770017\n",
      "Loss after 4300 / 5000 epochs : 0.37642506\n",
      "Loss after 4350 / 5000 epochs : 0.375852\n",
      "Loss after 4400 / 5000 epochs : 0.3752788\n",
      "Loss after 4450 / 5000 epochs : 0.3747078\n",
      "Loss after 4500 / 5000 epochs : 0.37413922\n",
      "Loss after 4550 / 5000 epochs : 0.37357113\n",
      "Loss after 4600 / 5000 epochs : 0.3730054\n",
      "Loss after 4650 / 5000 epochs : 0.37244123\n",
      "Loss after 4700 / 5000 epochs : 0.37187886\n",
      "Loss after 4750 / 5000 epochs : 0.37131846\n",
      "Loss after 4800 / 5000 epochs : 0.3707591\n",
      "Loss after 4850 / 5000 epochs : 0.37020198\n",
      "Loss after 4900 / 5000 epochs : 0.36964598\n",
      "Loss after 4950 / 5000 epochs : 0.36909065\n",
      "Final loss after 5000 epochs : 0.36853763\n"
     ]
    }
   ],
   "source": [
    "losses = []\n",
    "epochs_displayed = []\n",
    "\n",
    "for epoch in range(epochs) :\n",
    "    loss_value, grads = grad(model, training_points, M_0, lamb, Mz_tensor)\n",
    "    optimizer.apply_gradients(zip(grads, model.trainable_variables))\n",
    "\n",
    "    if epoch % display_step == 0 :\n",
    "        print(\"Loss after\",epoch,\"/\",epochs,\"epochs :\",loss_value.numpy())\n",
    "        losses.append(loss_value.numpy())\n",
    "        epochs_displayed.append(epoch)\n",
    "\n",
    "loss_value, grads = grad(model, training_points, M_0, lamb, Mz_tensor)\n",
    "print(\"Final loss after\",epochs,\"epochs :\",loss_value.numpy())\n",
    "losses.append(loss_value.numpy())\n",
    "epochs_displayed.append(epochs)"
   ]
  },
  {
   "cell_type": "code",
   "execution_count": 18,
   "metadata": {},
   "outputs": [],
   "source": [
    "if save_model :\n",
    "    model.save(save_filename)"
   ]
  },
  {
   "cell_type": "markdown",
   "metadata": {},
   "source": [
    "Plot the evolution of loss"
   ]
  },
  {
   "cell_type": "code",
   "execution_count": 42,
   "metadata": {},
   "outputs": [
    {
     "data": {
      "image/png": "[encoded data removed]",
      "text/plain": [
       "<Figure size 432x288 with 1 Axes>"
      ]
     },
     "metadata": {
      "needs_background": "light"
     },
     "output_type": "display_data"
    }
   ],
   "source": [
    "plt.plot(epochs_displayed, losses)\n",
    "plt.yscale('log')\n",
    "plt.show()\n"
   ]
  },
  {
   "cell_type": "markdown",
   "metadata": {},
   "source": [
    "Compute the analytic solution"
   ]
  },
  {
   "cell_type": "code",
   "execution_count": 43,
   "metadata": {},
   "outputs": [],
   "source": [
    "plotting_points = np.linspace(t_a,t_b,200)\n",
    "plotting_points = tf.convert_to_tensor(plotting_points, dtype=tf.float32)\n",
    "W=-W\n",
    "#for plotting_points\n",
    "K = (M_z0-1) / (M_z0+1)\n",
    "exp_vector = tf.exp(lamb*W*plotting_points)\n",
    "F = exp_vector*(K-1)/(K*exp_vector**2-1)\n",
    "\n",
    "Mx_ana =tf.multiply( F,(  tf.cos(W*plotting_points)*M_0[0] + tf.sin(W*plotting_points)*M_0[1]))\n",
    "My_ana = tf.multiply(F,(- tf.sin(W*plotting_points)*M_0[0] + tf.cos(W*plotting_points)*M_0[1]))\n",
    "\n",
    "#for training_points\n",
    "K = (M_z0-1) / (M_z0+1)\n",
    "exp_vector = tf.exp(lamb*W*training_points)\n",
    "F = exp_vector*(K-1)/(K*exp_vector**2-1)\n",
    "\n",
    "Mx_training =tf.multiply( F,(  tf.cos(W*training_points)*M_0[0] + tf.sin(W*training_points)*M_0[1]))\n",
    "My_training = tf.multiply(F,(- tf.sin(W*training_points)*M_0[0] + tf.cos(W*training_points)*M_0[1]))\n",
    "W=-W"
   ]
  },
  {
   "cell_type": "markdown",
   "metadata": {},
   "source": [
    "Plot the estimation and the analytic solution"
   ]
  },
  {
   "cell_type": "code",
   "execution_count": 44,
   "metadata": {},
   "outputs": [
    {
     "data": {
      "image/png": "[encoded data removed]",
      "text/plain": [
       "<Figure size 432x288 with 1 Axes>"
      ]
     },
     "metadata": {
      "needs_background": "light"
     },
     "output_type": "display_data"
    }
   ],
   "source": [
    "#neural network estimation\n",
    "output = model(plotting_points)\n",
    "Mx_NN, My_NN = M_0[0]+plotting_points*output[:,0], M_0[1]+plotting_points*output[:,1]\n",
    "\n",
    "\n",
    "#3D plotting\n",
    "fig = plt.figure()\n",
    "ax = fig.add_subplot(111, projection='3d')\n",
    "\n",
    "ax.plot(        xs=Mx_NN,\n",
    "                ys=My_NN,\n",
    "                zs=plotting_points,\n",
    "                label='solution approchée')\n",
    "\n",
    "ax.plot(        xs=Mx_ana,\n",
    "                ys=My_ana,\n",
    "                zs=plotting_points,\n",
    "                label='solution exacte')\n",
    "\n",
    "\n",
    "\n",
    "ax.scatter(     xs=Mx_training,\n",
    "                ys=My_training,\n",
    "                zs=training_points,\n",
    "                color='red')\n",
    "\n",
    "plt.legend()\n",
    "plt.title('résolution par réseau de neurones')\n",
    "plt.show()"
   ]
  }
 ],
 "metadata": {
  "kernelspec": {
   "display_name": "Python 3.8.10 64-bit",
   "language": "python",
   "name": "python3"
  },
  "language_info": {
   "codemirror_mode": {
    "name": "ipython",
    "version": 3
   },
   "file_extension": ".py",
   "mimetype": "text/x-python",
   "name": "python",
   "nbconvert_exporter": "python",
   "pygments_lexer": "ipython3",
   "version": "3.8.10"
  },
  "orig_nbformat": 4,
  "vscode": {
   "interpreter": {
    "hash": "916dbcbb3f70747c44a77c7bcd40155683ae19c65e1c03b4aa3499c5328201f1"
   }
  }
 },
 "nbformat": 4,
 "nbformat_minor": 2
}
