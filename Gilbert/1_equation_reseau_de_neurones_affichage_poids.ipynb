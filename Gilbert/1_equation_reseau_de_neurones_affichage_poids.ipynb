{
 "cells": [
  {
   "cell_type": "markdown",
   "metadata": {},
   "source": [
    "Implémentation de résolution numérique approchée de l'équation 1 :\n",
    "$\\frac{dy}{dx} = f(x,y), \n",
    "y(a) = A$\n",
    "à l'aide d'un réseau de neurones avec une couche cachée et des\n",
    "fonctions d'activation sigmoid"
   ]
  },
  {
   "cell_type": "code",
   "execution_count": 200,
   "metadata": {},
   "outputs": [],
   "source": [
    "#imports\n",
    "from numpy import pi, cos, sin, dot, vectorize, exp, zeros, linspace, sum\n",
    "from numpy import sum as np_sum\n",
    "from numpy.random import randn\n",
    "from matplotlib.pyplot import plot, legend, title, show"
   ]
  },
  {
   "cell_type": "markdown",
   "metadata": {},
   "source": [
    "Définition des fonctions de lecture et écritures des paramètres du réseau dans un fichier csv.\n",
    "P : triplet contenant les vecteurs (w,b,v)"
   ]
  },
  {
   "cell_type": "code",
   "execution_count": 201,
   "metadata": {},
   "outputs": [],
   "source": [
    "def save(P, filename) :\n",
    "    w, b, v = P\n",
    "    f = open(filename+\".csv\", 'w')\n",
    "    for l in [w,b,v] :\n",
    "        for i in range(len(l)) :\n",
    "            f.write(str(l[i]))\n",
    "            if i+1 != len(l) :\n",
    "                f.write('; ')\n",
    "        f.write('\\n')\n",
    "    f.close()\n",
    "\n",
    "def load(filename) :\n",
    "    f = open(filename+\".csv\")\n",
    "    lines = f.readlines()\n",
    "    f.close()\n",
    "    floats = []\n",
    "    for l in lines :\n",
    "        valeurs = l.split(';')\n",
    "        for v in valeurs :\n",
    "            v = float(v)\n",
    "        floats.append(np.array(valeurs, dtype='float64'))\n",
    "    return floats[0],floats[1],floats[2]"
   ]
  },
  {
   "cell_type": "markdown",
   "metadata": {},
   "source": [
    "Données du problème"
   ]
  },
  {
   "cell_type": "code",
   "execution_count": 202,
   "metadata": {},
   "outputs": [],
   "source": [
    "#bornes de l'intervalle\n",
    "xa = -1\n",
    "xb = 1\n",
    "\n",
    "\n",
    "#condition initiale\n",
    "x0 = 0\n",
    "A = 0\n",
    "\n",
    "lamb = 0.3\n",
    "W = 2*pi\n",
    "\n",
    "def f(x,y) :\n",
    "    return lamb*W*(y**2-1)\n",
    "\n",
    "def df_dy(x,y) :\n",
    "    #à modifier pour prendre f en argument et calculer automatiquement la dérivée\n",
    "    \"\"\"renvoie df/dy (x,y)\"\"\"\n",
    "    return lamb*W*2*y"
   ]
  },
  {
   "cell_type": "markdown",
   "metadata": {},
   "source": [
    "Fonction sigmoïde :\n",
    "$\\sigma(x) = \\frac{1}{1+e^{-x}}$"
   ]
  },
  {
   "cell_type": "code",
   "execution_count": 203,
   "metadata": {},
   "outputs": [],
   "source": [
    "def sig(x) :\n",
    "    return 1/(1+exp(-x))\n",
    "\n",
    "sig = vectorize(sig)"
   ]
  },
  {
   "cell_type": "markdown",
   "metadata": {},
   "source": [
    "Fonctions calculant respectivement la sortie du réseau de neurones, l'erreur, et le gradient de l'erreur"
   ]
  },
  {
   "cell_type": "code",
   "execution_count": 204,
   "metadata": {},
   "outputs": [],
   "source": [
    "def NN(x, w, b, v) :\n",
    "    #Calcule la sortie du réseau de neurones\n",
    "    z = x*w+b\n",
    "    s = sig(z)\n",
    "    return dot(s,v)\n",
    "\n",
    "\n",
    "def calcError(w, b, v, X, H, m, x0) :\n",
    "    #Calcule l'erreur\n",
    "    E = 0\n",
    "    for i in range(m) :\n",
    "\n",
    "        s = sig(X[i]*w+b)\n",
    "        e = dot(s,v)\n",
    "        e += (X[i]-x0)*sum(v*w*(s-s**2))\n",
    "        print(\"\\tM'[\", i,\"]=\",e, \"target = \",f(X[i],A+(X[i]-x0)*dot(s,v)))\n",
    "        e -= (f(X[i],A+(X[i]-x0)*dot(s,v)))\n",
    "        E += e**2\n",
    "        print(\"e**2\", e**2)\n",
    "    print(\"Error :\",E/m)\n",
    "    return E\n",
    "\n",
    "\n",
    "def calcGrad(w, b, v, X, H, m, x0) :\n",
    "    #calcule le gradient de l'erreur par rapport\n",
    "    #aux 3 vecteurs représentant les paramètres\n",
    "    grad_w = zeros(H)\n",
    "    grad_b = zeros(H)\n",
    "    grad_v = zeros(H)\n",
    "\n",
    "    for i in range(m):\n",
    "\n",
    "        s = sig(X[i]*w+b)\n",
    "        df = df_dy(X[i], A+(X[i]-x0)*dot(s,v))\n",
    "\n",
    "        e = dot(s,v)\n",
    "        e += (X[i]-x0)*sum(v*w*(s-s**2))\n",
    "        e -= (f(X[i], A+(X[i]-x0)*dot(s,v)))\n",
    "\n",
    "        #w\n",
    "        de_dw = 1 + (X[i]-x0)*(w*(1-2*s)-df)\n",
    "        de_dw = X[i]*(s-s**2)*v*de_dw\n",
    "\n",
    "        grad_w += 2*e*de_dw\n",
    "\n",
    "        #b\n",
    "        de_db = 1 + (X[i]-x0)*(w*(1-2*s)-df)\n",
    "        de_db = (s-s**2)*v*de_db\n",
    "\n",
    "        grad_b += 2*e*de_db\n",
    "\n",
    "        #v\n",
    "        de_dv = 1 + (X[i]-x0)*(w*(1-s)-df)\n",
    "        de_dv = s*de_dv\n",
    "\n",
    "        grad_v += 2*e*de_dv\n",
    "\n",
    "    print(\"grad_w\",grad_w/m)\n",
    "    print(\"grad_w/2\",grad_w/2/m)\n",
    "    print(\"grad_b\",grad_b/m)\n",
    "    print(\"grad_v\",grad_v/m)\n",
    "    return grad_w, grad_b, grad_v\n"
   ]
  },
  {
   "cell_type": "markdown",
   "metadata": {},
   "source": [
    "Définition des paramètres du modèle"
   ]
  },
  {
   "cell_type": "code",
   "execution_count": 205,
   "metadata": {},
   "outputs": [],
   "source": [
    "m = 5 # nombre de points pour la variable indépendante\n",
    "X = linspace(xa,xb,m) #liste des points de tests\n",
    "\n",
    "H = 4 # nombre de noeuds de la couche cachée\n",
    "epochs = 1 #nombre d'itérations\n",
    "alpha = 5e-4 #taux d'apprentissage pour la descente de gradients"
   ]
  },
  {
   "cell_type": "markdown",
   "metadata": {},
   "source": [
    "Initialisation des paramètres"
   ]
  },
  {
   "cell_type": "code",
   "execution_count": 206,
   "metadata": {},
   "outputs": [],
   "source": [
    "#poids entre l'entrée et la couche cachée\n",
    "w = randn((H))\n",
    "#biais de la couche cachée\n",
    "b = randn((H))\n",
    "#poids entre la couche cachée et la sortie\n",
    "v = randn((H))"
   ]
  },
  {
   "cell_type": "code",
   "execution_count": 207,
   "metadata": {},
   "outputs": [],
   "source": [
    "from numpy import array\n",
    "#poids entre l'entrée et la couche cachée\n",
    "w = array([-0.24768037,  0.8043213,  -0.28434616, -0.20613563])\n",
    "#biais de la couche cachée\n",
    "b = zeros((H))\n",
    "#poids entre la couche cachée et la sortie\n",
    "v = array([-0.87000746, -0.63943005 ,0.75611365, 0.78101254])"
   ]
  },
  {
   "cell_type": "markdown",
   "metadata": {},
   "source": [
    "Entraînement du modèle"
   ]
  },
  {
   "cell_type": "code",
   "execution_count": 208,
   "metadata": {},
   "outputs": [
    {
     "name": "stdout",
     "output_type": "stream",
     "text": [
      "\tM'[ 0 ]= 0.3250929111028378 target =  -1.826693167272628\n",
      "e**2 4.6301833270904655\n",
      "\tM'[ 1 ]= 0.17905046638472172 target =  -1.8804928559018332\n",
      "e**2 4.24171869637514\n",
      "\tM'[ 2 ]= 0.01384434000000001 target =  -1.8849555921538759\n",
      "e**2 3.605441182347563\n",
      "\tM'[ 3 ]= -0.1513617863847218 target =  -1.8826711049216622\n",
      "e**2 2.9974319564528447\n",
      "\tM'[ 4 ]= -0.2974042311028377 target =  -1.8435997747880393\n",
      "e**2 2.390720659311976\n",
      "Error : 3.573099164315598\n",
      "Erreur après 0 itérations : 17.86549582157799\n",
      "grad_w [-0.14486179 -0.10215543  0.12574828  0.13019106]\n",
      "grad_w/2 [-0.07243089 -0.05107771  0.06287414  0.06509553]\n",
      "grad_b [-0.7436571  -0.4402885   0.64154288  0.67238338]\n",
      "grad_v [1.7275565  1.82319258 1.7242356  1.73131467]\n"
     ]
    }
   ],
   "source": [
    "for k in range(epochs) :\n",
    "    if (k%500 == 0) :\n",
    "        print(\"Erreur après\",k,\"itérations :\", calcError(w, b, v, X, H, m, x0))\n",
    "    gw,gb,gv = calcGrad(w, b, v, X, H, m, x0)\n",
    "    \n",
    "    w -= alpha*gw\n",
    "    b -= alpha*gb\n",
    "    v -= alpha*gv"
   ]
  },
  {
   "cell_type": "markdown",
   "metadata": {},
   "source": [
    "Affichage des résulats trouvés :"
   ]
  },
  {
   "cell_type": "code",
   "execution_count": 209,
   "metadata": {},
   "outputs": [
    {
     "name": "stdout",
     "output_type": "stream",
     "text": [
      "\n",
      "\tM'[ 0 ]= 0.31576860099769055 target =  -1.832892840008414\n",
      "e**2 4.6167459880664286\n",
      "\tM'[ 1 ]= 0.16944891825046848 target =  -1.881345112895049\n",
      "e**2 4.205756158182082\n",
      "\tM'[ 2 ]= 0.003875039207972386 target =  -1.8849555921538759\n",
      "e**2 3.5676811539707978\n",
      "\tM'[ 3 ]= -0.16163410196588848 target =  -1.8819578010981552\n",
      "e**2 2.959513629796126\n",
      "\tM'[ 4 ]= -0.3077806966080161 target =  -1.8376848409413664\n",
      "e**2 2.340606690848361\n",
      "Error : 3.538060724172759\n",
      "Erreur finale après 1 itérations 17.690303620863794\n",
      "paramètres trouvés : [-0.24731822  0.80457669 -0.28466053 -0.20646111] [ 0.00185914  0.00110072 -0.00160386 -0.00168096] [-0.87432635 -0.64398803  0.75180306  0.77668425]\n"
     ]
    }
   ],
   "source": [
    "print()\n",
    "print(\"Erreur finale après\",epochs,\"itérations\",calcError(w, b, v, X, H, m, x0))\n",
    "print(\"paramètres trouvés :\",w,b,v)\n",
    "#save((w,b,v), 'H = '+str(H)+', E = '+str(int(calcError(w, b, v))))"
   ]
  },
  {
   "cell_type": "markdown",
   "metadata": {},
   "source": [
    "Affichage graphique de la solution trouvée :"
   ]
  },
  {
   "cell_type": "code",
   "execution_count": 210,
   "metadata": {},
   "outputs": [
    {
     "data": {
      "image/png": "[encoded data removed]",
      "text/plain": [
       "<Figure size 432x288 with 1 Axes>"
      ]
     },
     "metadata": {
      "needs_background": "light"
     },
     "output_type": "display_data"
    }
   ],
   "source": [
    "#solution trouvée\n",
    "Y = [A + (X[i]-x0)*NN(X[i], w, b, v) for i in range(m)]\n",
    "\n",
    "#solution analytique\n",
    "K = (A-1) / (A+1)\n",
    "Kexp = K*exp(2*lamb*W*X)\n",
    "Z = (1+Kexp) / (1-Kexp)\n",
    "\n",
    "plot(X,Z, label='solution analytique')\n",
    "plot(X,Y, label='solution approchée')\n",
    "legend()\n",
    "title('Solution approchée et analytique')\n",
    "show()"
   ]
  }
 ],
 "metadata": {
  "kernelspec": {
   "display_name": "Python 3.8.10 64-bit",
   "language": "python",
   "name": "python3"
  },
  "language_info": {
   "codemirror_mode": {
    "name": "ipython",
    "version": 3
   },
   "file_extension": ".py",
   "mimetype": "text/x-python",
   "name": "python",
   "nbconvert_exporter": "python",
   "pygments_lexer": "ipython3",
   "version": "3.8.10"
  },
  "orig_nbformat": 4,
  "vscode": {
   "interpreter": {
    "hash": "916dbcbb3f70747c44a77c7bcd40155683ae19c65e1c03b4aa3499c5328201f1"
   }
  }
 },
 "nbformat": 4,
 "nbformat_minor": 2
}
