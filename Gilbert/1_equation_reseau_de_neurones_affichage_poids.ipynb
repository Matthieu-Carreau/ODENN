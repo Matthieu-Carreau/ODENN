{
 "cells": [
  {
   "cell_type": "markdown",
   "metadata": {},
   "source": [
    "Implémentation de résolution numérique approchée de l'équation 1 :\n",
    "$\\frac{dy}{dx} = f(x,y), \n",
    "y(a) = A$\n",
    "à l'aide d'un réseau de neurones avec une couche cachée et des\n",
    "fonctions d'activation sigmoid"
   ]
  },
  {
   "cell_type": "code",
   "execution_count": 546,
   "metadata": {},
   "outputs": [],
   "source": [
    "#imports\n",
    "from numpy import pi, cos, sin, dot, vectorize, exp, zeros, linspace, sum, array\n",
    "from numpy import sum as np_sum\n",
    "from numpy.random import randn\n",
    "from matplotlib.pyplot import plot, legend, title, show"
   ]
  },
  {
   "cell_type": "markdown",
   "metadata": {},
   "source": [
    "Définition des fonctions de lecture et écritures des paramètres du réseau dans un fichier csv.\n",
    "P : triplet contenant les vecteurs (w,b,v)"
   ]
  },
  {
   "cell_type": "code",
   "execution_count": 547,
   "metadata": {},
   "outputs": [],
   "source": [
    "def save(P, filename) :\n",
    "    w, b, v = P\n",
    "    f = open(filename+\".csv\", 'w')\n",
    "    for l in [w,b,v] :\n",
    "        for i in range(len(l)) :\n",
    "            f.write(str(l[i]))\n",
    "            if i+1 != len(l) :\n",
    "                f.write('; ')\n",
    "        f.write('\\n')\n",
    "    f.close()\n",
    "\n",
    "def load(filename) :\n",
    "    f = open(filename+\".csv\")\n",
    "    lines = f.readlines()\n",
    "    f.close()\n",
    "    floats = []\n",
    "    for l in lines :\n",
    "        valeurs = l.split(';')\n",
    "        for v in valeurs :\n",
    "            v = float(v)\n",
    "        floats.append(np.array(valeurs, dtype='float64'))\n",
    "    return floats[0],floats[1],floats[2]"
   ]
  },
  {
   "cell_type": "markdown",
   "metadata": {},
   "source": [
    "Données du problème"
   ]
  },
  {
   "cell_type": "code",
   "execution_count": 548,
   "metadata": {},
   "outputs": [],
   "source": [
    "#bornes de l'intervalle\n",
    "xa = -1\n",
    "xb = 1\n",
    "\n",
    "\n",
    "#condition initiale\n",
    "x0 = 0\n",
    "A = 0\n",
    "\n",
    "lamb = 0.3\n",
    "W = 2*pi\n",
    "\n",
    "print_variables = False\n",
    "\n",
    "def f(x,y) :\n",
    "    return lamb*W*(y**2-1)\n",
    "    #return -cos(2*pi*x)\n",
    "\n",
    "def df_dy(x,y) :\n",
    "    #à modifier pour prendre f en argument et calculer automatiquement la dérivée\n",
    "    \"\"\"renvoie df/dy (x,y)\"\"\"\n",
    "    return lamb*W*2*y"
   ]
  },
  {
   "cell_type": "markdown",
   "metadata": {},
   "source": [
    "Fonction sigmoïde :\n",
    "$\\sigma(x) = \\frac{1}{1+e^{-x}}$"
   ]
  },
  {
   "cell_type": "code",
   "execution_count": 549,
   "metadata": {},
   "outputs": [],
   "source": [
    "def sig(x) :\n",
    "    return 1/(1+exp(-x))\n",
    "\n",
    "sig = vectorize(sig)"
   ]
  },
  {
   "cell_type": "markdown",
   "metadata": {},
   "source": [
    "Fonctions calculant respectivement la sortie du réseau de neurones, l'erreur, et le gradient de l'erreur"
   ]
  },
  {
   "cell_type": "code",
   "execution_count": 550,
   "metadata": {},
   "outputs": [],
   "source": [
    "def NN(x, w, b, v) :\n",
    "    #Calcule la sortie du réseau de neurones\n",
    "    z = x*w+b\n",
    "    s = sig(z)\n",
    "    return dot(s,v)\n",
    "\n",
    "\n",
    "def calcError(w, b, v, X, H, m, x0) :\n",
    "    #Calcule l'erreur\n",
    "    E = 0\n",
    "    for i in range(m) :\n",
    "\n",
    "        s = sig(X[i]*w+b)\n",
    "        e = dot(s,v)\n",
    "        e += (X[i]-x0)*sum(v*w*(s-s**2)) \n",
    "        if print_variables :\n",
    "            print(\"\\tM'[\", i,\"]=\",e, \"target = \",f(X[i],A+(X[i]-x0)*dot(s,v)))\n",
    "        e -= (f(X[i],A+(X[i]-x0)*dot(s,v)))\n",
    "        E += e**2\n",
    "        if print_variables :\n",
    "            print(\"e**2\", e**2)\n",
    "    E/=m\n",
    "    if print_variables :\n",
    "        print(\"Error :\",E)\n",
    "    return E\n",
    "\n",
    "\n",
    "def calcGrad(w, b, v, X, H, m, x0) :\n",
    "    #calcule le gradient de l'erreur par rapport\n",
    "    #aux 3 vecteurs représentant les paramètres\n",
    "    grad_w = zeros(H)\n",
    "    grad_b = zeros(H)\n",
    "    grad_v = zeros(H)\n",
    "\n",
    "    for i in range(m):\n",
    "\n",
    "        s = sig(X[i]*w+b)\n",
    "        df = df_dy(X[i], A+(X[i]-x0)*dot(s,v))\n",
    "\n",
    "        e = dot(s,v)\n",
    "        e += (X[i]-x0)*sum(v*w*(s-s**2))\n",
    "        e -= (f(X[i], A+(X[i]-x0)*dot(s,v)))\n",
    "\n",
    "        #w\n",
    "        \n",
    "        #premiere version\n",
    "        \"\"\"\n",
    "        de_dw = 1 + (X[i]-x0)*(w*(1-2*s)-df)\n",
    "        de_dw = X[i]*(s-s**2)*v*de_dw\n",
    "        \"\"\"\n",
    "        #version corrigée\n",
    "        de_dw = (X[i]-x0)*(1+X[i]*(w*(1-2*s)-df)) #correction : \"1+\"\n",
    "        de_dw = v*(s-s**2)*(X[i] + de_dw)\n",
    "        \n",
    "        grad_w += 2*e*de_dw\n",
    "\n",
    "        #b\n",
    "        de_db = 1 + (X[i]-x0)*(w*(1-2*s)-df)\n",
    "        de_db = (s-s**2)*v*de_db\n",
    "\n",
    "        grad_b += 2*e*de_db\n",
    "\n",
    "        #v\n",
    "        de_dv = 1 + (X[i]-x0)*(w*(1-s)-df)\n",
    "        de_dv = s*de_dv\n",
    "\n",
    "        grad_v += 2*e*de_dv\n",
    "    grad_w/=m\n",
    "    grad_b/=m\n",
    "    grad_v/=m  \n",
    "    if print_variables :\n",
    "        print(\"grad_w\",grad_w)\n",
    "        print(\"grad_b\",grad_b)\n",
    "        print(\"grad_v\",grad_v)\n",
    "    return grad_w, grad_b, grad_v\n"
   ]
  },
  {
   "cell_type": "code",
   "execution_count": 551,
   "metadata": {},
   "outputs": [],
   "source": [
    "def calcGrad_num(w, b, v, X, H, m, x0, eps=1e-4) :\n",
    "    original_loss = calcError(w, b, v, X, H, m, x0)\n",
    "    grad_w_num = []\n",
    "    for i in range(H) :\n",
    "        eps_vect=array([[0]*i+[eps]+[0]*(H-i-1)])\n",
    "        loss_eps = calcError(w+eps_vect, b, v, X, H, m, x0)\n",
    "        grad_w_num.append(float((loss_eps-original_loss)/eps))\n",
    "    return array(grad_w_num)"
   ]
  },
  {
   "cell_type": "markdown",
   "metadata": {},
   "source": [
    "Définition des paramètres du modèle"
   ]
  },
  {
   "cell_type": "code",
   "execution_count": 552,
   "metadata": {},
   "outputs": [],
   "source": [
    "m = 5 # nombre de points pour la variable indépendante\n",
    "X = linspace(xa,xb,m) #liste des points de tests\n",
    "\n",
    "H = 4 # nombre de noeuds de la couche cachée\n",
    "epochs = 10000 #nombre d'itérations\n",
    "alpha = 1e-3 #taux d'apprentissage pour la descente de gradients"
   ]
  },
  {
   "cell_type": "markdown",
   "metadata": {},
   "source": [
    "Initialisation des paramètres"
   ]
  },
  {
   "cell_type": "code",
   "execution_count": 553,
   "metadata": {},
   "outputs": [],
   "source": [
    "\n",
    "#poids entre l'entrée et la couche cachée\n",
    "w = array([0.27828693, -0.34328407, -0.18604296, 0.48151278])\n",
    "#biais de la couche cachée\n",
    "b = zeros((H))\n",
    "#poids entre la couche cachée et la sortie\n",
    "v = array([-0.84376407, -0.4984306, 0.47841966, 0.37863696])"
   ]
  },
  {
   "cell_type": "code",
   "execution_count": 554,
   "metadata": {},
   "outputs": [],
   "source": [
    "#poids entre l'entrée et la couche cachée\n",
    "w = randn((H))\n",
    "#biais de la couche cachée\n",
    "b = randn((H))\n",
    "#poids entre la couche cachée et la sortie\n",
    "v = randn((H))"
   ]
  },
  {
   "cell_type": "markdown",
   "metadata": {},
   "source": [
    "Entraînement du modèle"
   ]
  },
  {
   "cell_type": "code",
   "execution_count": 555,
   "metadata": {},
   "outputs": [
    {
     "name": "stdout",
     "output_type": "stream",
     "text": [
      "Erreur après 0 itérations : 1.138342517601877\n",
      "Erreur après 500 itérations : 0.49799034571170087\n",
      "Erreur après 1000 itérations : 0.4613557269923209\n",
      "Erreur après 1500 itérations : 0.45771371433247926\n",
      "Erreur après 2000 itérations : 0.45727381721897464\n",
      "Erreur après 2500 itérations : 0.4571991094078133\n",
      "Erreur après 3000 itérations : 0.4571577368566432\n",
      "Erreur après 3500 itérations : 0.45710984619704115\n",
      "Erreur après 4000 itérations : 0.4570510369783937\n",
      "Erreur après 4500 itérations : 0.456980796112187\n",
      "Erreur après 5000 itérations : 0.4568988501011467\n",
      "Erreur après 5500 itérations : 0.45680486458517605\n",
      "Erreur après 6000 itérations : 0.4566984671548952\n",
      "Erreur après 6500 itérations : 0.4565792710074536\n",
      "Erreur après 7000 itérations : 0.456446884381528\n",
      "Erreur après 7500 itérations : 0.45630091313776033\n",
      "Erreur après 8000 itérations : 0.4561409605098331\n",
      "Erreur après 8500 itérations : 0.45596662549246814\n",
      "Erreur après 9000 itérations : 0.4557775002956494\n",
      "Erreur après 9500 itérations : 0.455573166929266\n"
     ]
    }
   ],
   "source": [
    "for k in range(epochs) :\n",
    "    if (k%500 == 0) :\n",
    "        print(\"Erreur après\",k,\"itérations :\", calcError(w, b, v, X, H, m, x0))\n",
    "    gw,gb,gv = calcGrad(w, b, v, X, H, m, x0)\n",
    "    if print_variables :\n",
    "        print(\"grad_w_num\", calcGrad_num(w, b, v, X, H, m, x0))\n",
    "    \n",
    "    w -= alpha*gv#calcGrad_num(w, b, v, X, H, m, x0)\n",
    "    b -= alpha*gb\n",
    "    v -= alpha*gv"
   ]
  },
  {
   "cell_type": "markdown",
   "metadata": {},
   "source": [
    "Affichage des résulats trouvés :"
   ]
  },
  {
   "cell_type": "code",
   "execution_count": 556,
   "metadata": {},
   "outputs": [
    {
     "name": "stdout",
     "output_type": "stream",
     "text": [
      "\n",
      "Erreur finale après 10000 itérations 0.45535319286039505\n",
      "paramètres trouvés : [0.08503781 0.03891549 1.4939625  0.59305556] [ 3.00722844 -0.1137744   0.16126728 -0.83405078] [-0.63636343 -0.50757677  0.13000414 -0.27847886]\n"
     ]
    }
   ],
   "source": [
    "print()\n",
    "print(\"Erreur finale après\",epochs,\"itérations\",calcError(w, b, v, X, H, m, x0))\n",
    "print(\"paramètres trouvés :\",w,b,v)\n",
    "#save((w,b,v), 'H = '+str(H)+', E = '+str(int(calcError(w, b, v))))"
   ]
  },
  {
   "cell_type": "markdown",
   "metadata": {},
   "source": [
    "Affichage graphique de la solution trouvée :"
   ]
  },
  {
   "cell_type": "code",
   "execution_count": 557,
   "metadata": {},
   "outputs": [
    {
     "data": {
      "image/png": "[encoded data removed]",
      "text/plain": [
       "<Figure size 432x288 with 1 Axes>"
      ]
     },
     "metadata": {
      "needs_background": "light"
     },
     "output_type": "display_data"
    }
   ],
   "source": [
    "#solution trouvée\n",
    "Y = [A + (X[i]-x0)*NN(X[i], w, b, v) for i in range(m)]\n",
    "\n",
    "#solution analytique\n",
    "K = (A-1) / (A+1)\n",
    "Kexp = K*exp(2*lamb*W*X)\n",
    "Z = (1+Kexp) / (1-Kexp)\n",
    "\n",
    "plot(X,Z, label='solution analytique')\n",
    "plot(X,Y, label='solution approchée')\n",
    "legend()\n",
    "title('Solution approchée et analytique')\n",
    "show()"
   ]
  }
 ],
 "metadata": {
  "kernelspec": {
   "display_name": "Python 3.8.10 64-bit",
   "language": "python",
   "name": "python3"
  },
  "language_info": {
   "codemirror_mode": {
    "name": "ipython",
    "version": 3
   },
   "file_extension": ".py",
   "mimetype": "text/x-python",
   "name": "python",
   "nbconvert_exporter": "python",
   "pygments_lexer": "ipython3",
   "version": "3.8.10"
  },
  "orig_nbformat": 4,
  "vscode": {
   "interpreter": {
    "hash": "916dbcbb3f70747c44a77c7bcd40155683ae19c65e1c03b4aa3499c5328201f1"
   }
  }
 },
 "nbformat": 4,
 "nbformat_minor": 2
}
