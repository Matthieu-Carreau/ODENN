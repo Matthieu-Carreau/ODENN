{
 "cells": [
  {
   "cell_type": "markdown",
   "metadata": {},
   "source": [
    "Notebook correspondant à la section 3.2 du rapport, pour la résolution des équations couplées de la précession de Larmor :\n",
    "\\begin{equation}\n",
    "\\left\\{\n",
    "    \\begin{aligned}\n",
    "        \\frac{dM_x}{dt} &= \\omega M_y \\\\\n",
    "        \\frac{dM_y}{dt} &= -\\omega M_x\n",
    "    \\end{aligned}\n",
    "\\right.\n",
    "\\end{equation}"
   ]
  },
  {
   "cell_type": "code",
   "execution_count": 264,
   "metadata": {},
   "outputs": [],
   "source": [
    "#imports\n",
    "import numpy as np\n",
    "import tensorflow as tf\n",
    "import matplotlib.pyplot as plt\n",
    "from mpl_toolkits.mplot3d import Axes3D"
   ]
  },
  {
   "cell_type": "markdown",
   "metadata": {},
   "source": [
    "Physical parameters"
   ]
  },
  {
   "cell_type": "code",
   "execution_count": 265,
   "metadata": {},
   "outputs": [],
   "source": [
    "M_z0 = tf.constant(0, dtype='float32')\n",
    "W = 2*np.pi\n",
    "lamb = 0.3\n",
    "\n",
    "t_a = -1\n",
    "t_b = 1\n",
    "\n",
    "t_0 = 0"
   ]
  },
  {
   "cell_type": "markdown",
   "metadata": {},
   "source": [
    "Defining the ODE : this function returns the value expected of the derivative, given the independant variable and the value of the function."
   ]
  },
  {
   "cell_type": "code",
   "execution_count": 266,
   "metadata": {},
   "outputs": [],
   "source": [
    "def ODE(T, Mz, lamb, W) :\n",
    "    return lamb*W*(Mz**2-1)"
   ]
  },
  {
   "cell_type": "markdown",
   "metadata": {},
   "source": [
    "Training parameters"
   ]
  },
  {
   "cell_type": "code",
   "execution_count": 267,
   "metadata": {},
   "outputs": [],
   "source": [
    "N = 5 #number of samples for the independant variable\n",
    "training_points = np.linspace(t_a,t_b,N)\n",
    "training_points = tf.convert_to_tensor(training_points, dtype=tf.float32)\n",
    "\n",
    "load_model = False\n",
    "load_filename = \"models/2_NN_direct_training_N=10\"\n",
    "save_model = False\n",
    "save_filename = \"models/2_NN_direct_training_N=100\"\n",
    "learning_rate = 5e-4\n",
    "epochs = 0\n",
    "display_step = min(max(1,epochs//100), 1000)"
   ]
  },
  {
   "cell_type": "markdown",
   "metadata": {},
   "source": [
    "Initializing the network"
   ]
  },
  {
   "cell_type": "code",
   "execution_count": 268,
   "metadata": {},
   "outputs": [],
   "source": [
    "# Network Parameters\n",
    "n_input = 1     # input layer number of neurons\n",
    "n_hidden_1 = 4 # 1st layer number of neurons\n",
    "#n_hidden_2 = 8  # 2nd layer number of neurons\n",
    "n_output = 1    # output layer number of neurons\n",
    "\n",
    "#model definition :\n",
    "model = tf.keras.Sequential([\n",
    "  tf.keras.layers.Dense(n_hidden_1, activation=tf.nn.sigmoid, input_shape=(n_input,)),  # input shape required\n",
    "  #tf.keras.layers.Dense(n_hidden_2, activation=tf.nn.sigmoid),\n",
    "  tf.keras.layers.Dense(n_output)\n",
    "])\n",
    "\n",
    "if load_model :\n",
    "    model = tf.keras.models.load_model(load_filename)\n",
    "\n",
    "optimizer = tf.keras.optimizers.SGD(learning_rate=learning_rate)"
   ]
  },
  {
   "cell_type": "markdown",
   "metadata": {},
   "source": [
    "Loss function\n",
    "https://www.tensorflow.org/versions/r2.0/api_docs/python/tf/GradientTape\n"
   ]
  },
  {
   "cell_type": "code",
   "execution_count": 269,
   "metadata": {},
   "outputs": [],
   "source": [
    "def loss_function(model, input_tensor, M_z0, lamb, W):\n",
    "\n",
    "    with tf.GradientTape(persistent=True) as tape:\n",
    "        tape.watch(input_tensor)\n",
    "        output = model(input_tensor)\n",
    "        Mz = M_z0+input_tensor*output[:,0]\n",
    "\n",
    "    dMz = tape.gradient(Mz, input_tensor)\n",
    "\n",
    "    e = dMz - ODE(input_tensor, Mz, lamb, W)\n",
    "    \n",
    "    print(\"Mz\", Mz.numpy())\n",
    "    print(\"dMz\", dMz.numpy())\n",
    "    print(\"ODE\", ODE(input_tensor, Mz, lamb, W).numpy())\n",
    "    print(\"e\", e.numpy())\n",
    "    print(\"e**2\", (e**2).numpy())\n",
    "    print(\"error\", tf.reduce_mean(e**2).numpy())\n",
    "\n",
    "    print(\"\\nw :\",model.layers[0].weights[0].numpy())\n",
    "    print(\"b :\",model.layers[0].bias.numpy())\n",
    "    print(\"v :\",model.layers[1].weights[0].numpy())\n",
    "    print(\"b2 :\",model.layers[1].bias.numpy())\n",
    "    \n",
    "\n",
    "\n",
    "    return tf.reduce_mean(e**2)"
   ]
  },
  {
   "cell_type": "markdown",
   "metadata": {},
   "source": [
    "Gradient of loss"
   ]
  },
  {
   "cell_type": "code",
   "execution_count": 270,
   "metadata": {},
   "outputs": [],
   "source": [
    "def grad(model, input_tensor, M_z0, lamb, W):\n",
    "    with tf.GradientTape() as tape:\n",
    "        loss_value = loss_function(model, input_tensor, M_z0, lamb, W)\n",
    "\n",
    "    gradient = tape.gradient(loss_value, model.trainable_variables)\n",
    "    \n",
    "    print(\"Grad w\",gradient[0].numpy())\n",
    "    print(\"Grad b\",gradient[1].numpy())\n",
    "    print(\"Grad v\",gradient[2].numpy())\n",
    "    print(\"Grad b2\",gradient[3].numpy())\n",
    "\n",
    "    print(\"Gradient\", gradient)\n",
    "    print(len(gradient))\n",
    "    for gr in gradient :\n",
    "        print(gr.numpy())\n",
    "\n",
    "\n",
    "    return loss_value, gradient"
   ]
  },
  {
   "cell_type": "markdown",
   "metadata": {},
   "source": [
    "Training the neural network"
   ]
  },
  {
   "cell_type": "code",
   "execution_count": 271,
   "metadata": {},
   "outputs": [
    {
     "name": "stdout",
     "output_type": "stream",
     "text": [
      "Mz [-0.17580998 -0.04865748  0.         -0.03481315 -0.14812136]\n",
      "dMz [ 0.32509285  0.17905036  0.01384431 -0.1513617  -0.29740423]\n",
      "ODE [-1.8266933 -1.8804929 -1.8849556 -1.8826712 -1.8435998]\n",
      "e [2.151786  2.0595434 1.8987999 1.7313095 1.5461955]\n",
      "e**2 [4.630183  4.241719  3.605441  2.9974327 2.3907206]\n",
      "error 3.5730996\n",
      "\n",
      "w : [[-0.24768037  0.8043213  -0.28434616 -0.20613563]]\n",
      "b : [0. 0. 0. 0.]\n",
      "v : [[-0.87000746]\n",
      " [-0.63943005]\n",
      " [ 0.75611365]\n",
      " [ 0.78101254]]\n",
      "b2 : [0.]\n",
      "Grad w [[-0.07875107 -0.05899574  0.06852531  0.07060875]]\n",
      "Grad b [-0.74365723 -0.44028857  0.6415429   0.6723835 ]\n",
      "Grad v [[1.7275568]\n",
      " [1.8231926]\n",
      " [1.7242358]\n",
      " [1.7313149]]\n",
      "Grad b2 [3.4998298]\n",
      "Gradient [<tf.Tensor: shape=(1, 4), dtype=float32, numpy=\n",
      "array([[-0.07875107, -0.05899574,  0.06852531,  0.07060875]],\n",
      "      dtype=float32)>, <tf.Tensor: shape=(4,), dtype=float32, numpy=array([-0.74365723, -0.44028857,  0.6415429 ,  0.6723835 ], dtype=float32)>, <tf.Tensor: shape=(4, 1), dtype=float32, numpy=\n",
      "array([[1.7275568],\n",
      "       [1.8231926],\n",
      "       [1.7242358],\n",
      "       [1.7313149]], dtype=float32)>, <tf.Tensor: shape=(1,), dtype=float32, numpy=array([3.4998298], dtype=float32)>]\n",
      "4\n",
      "[[-0.07875107 -0.05899574  0.06852531  0.07060875]]\n",
      "[-0.74365723 -0.44028857  0.6415429   0.6723835 ]\n",
      "[[1.7275568]\n",
      " [1.8231926]\n",
      " [1.7242358]\n",
      " [1.7313149]]\n",
      "[3.4998298]\n",
      "Final loss after 0 epochs : 3.5730996\n"
     ]
    }
   ],
   "source": [
    "\n",
    "losses = []\n",
    "epochs_displayed = []\n",
    "\n",
    "for epoch in range(epochs) :\n",
    "    loss_value, grads = grad(model, training_points, M_z0, lamb, W)\n",
    "    optimizer.apply_gradients(zip(grads, model.trainable_variables))\n",
    "\n",
    "    if epoch % display_step == 0 :\n",
    "        print(\"Loss after\",epoch,\"/\",epochs,\"epochs :\",loss_value.numpy())\n",
    "        losses.append(loss_value.numpy())\n",
    "        epochs_displayed.append(epoch)\n",
    "\n",
    "loss_value, grads = grad(model, training_points, M_z0, lamb, W)\n",
    "print(\"Final loss after\",epochs,\"epochs :\",loss_value.numpy())\n",
    "losses.append(loss_value.numpy())\n",
    "epochs_displayed.append(epochs)"
   ]
  },
  {
   "cell_type": "code",
   "execution_count": 272,
   "metadata": {},
   "outputs": [],
   "source": [
    "if save_model :\n",
    "    model.save(save_filename)"
   ]
  },
  {
   "cell_type": "markdown",
   "metadata": {},
   "source": [
    "Plot the evolution of loss"
   ]
  },
  {
   "cell_type": "code",
   "execution_count": 273,
   "metadata": {},
   "outputs": [
    {
     "data": {
      "image/png": "[encoded data removed]",
      "text/plain": [
       "<Figure size 432x288 with 1 Axes>"
      ]
     },
     "metadata": {
      "needs_background": "light"
     },
     "output_type": "display_data"
    }
   ],
   "source": [
    "plt.plot(epochs_displayed, losses)\n",
    "plt.yscale('log')\n",
    "plt.show()"
   ]
  },
  {
   "cell_type": "markdown",
   "metadata": {},
   "source": [
    "Compute the analytic solution"
   ]
  },
  {
   "cell_type": "code",
   "execution_count": 274,
   "metadata": {},
   "outputs": [],
   "source": [
    "def analytic(T, M_z0, lamb, W) :\n",
    "    K = (M_z0-1) / (M_z0+1)\n",
    "    Kexp = K*np.exp(2*lamb*W*T)\n",
    "    Mz_ana = (1+Kexp) / (1-Kexp)\n",
    "    return Mz_ana"
   ]
  },
  {
   "cell_type": "markdown",
   "metadata": {},
   "source": [
    "Plot the estimation and the analytic solution"
   ]
  },
  {
   "cell_type": "code",
   "execution_count": 275,
   "metadata": {},
   "outputs": [
    {
     "name": "stdout",
     "output_type": "stream",
     "text": [
      "Extreme values of output after : -0.14812136 0.17580998\n"
     ]
    },
    {
     "data": {
      "image/png": "[encoded data removed]",
      "text/plain": [
       "<Figure size 432x288 with 1 Axes>"
      ]
     },
     "metadata": {
      "needs_background": "light"
     },
     "output_type": "display_data"
    }
   ],
   "source": [
    "#plot the estimation\n",
    "nb_plotting_points = 200\n",
    "plotting_points = np.linspace(t_a,t_b,nb_plotting_points)\n",
    "plotting_points = tf.convert_to_tensor(plotting_points, dtype=tf.float32)\n",
    "\n",
    "#neural network estimation\n",
    "output = model(plotting_points).numpy().reshape((nb_plotting_points))\n",
    "Mz_NN = M_z0 + (plotting_points-M_z0)*output\n",
    "\n",
    "\n",
    "print(\"Extreme values of output after :\",min(output), max(output))\n",
    "#analytic solution\n",
    "Mz_ana = analytic(plotting_points, M_z0, lamb, W)\n",
    "\n",
    "#training points\n",
    "Mz_ana_training = analytic(training_points, M_z0, lamb, W)\n",
    "\n",
    "\n",
    "plt.plot(plotting_points, Mz_NN, label='solution approchée')\n",
    "plt.plot(plotting_points, Mz_ana, label='solution exacte')\n",
    "plt.scatter(training_points, Mz_ana_training, label=\"points d'entraînement\", color='red')\n",
    "\n",
    "plt.legend()\n",
    "plt.title('résolution par réseau de neurones')\n",
    "plt.show()\n"
   ]
  }
 ],
 "metadata": {
  "kernelspec": {
   "display_name": "Python 3.8.10 64-bit",
   "language": "python",
   "name": "python3"
  },
  "language_info": {
   "codemirror_mode": {
    "name": "ipython",
    "version": 3
   },
   "file_extension": ".py",
   "mimetype": "text/x-python",
   "name": "python",
   "nbconvert_exporter": "python",
   "pygments_lexer": "ipython3",
   "version": "3.8.10"
  },
  "orig_nbformat": 4,
  "vscode": {
   "interpreter": {
    "hash": "916dbcbb3f70747c44a77c7bcd40155683ae19c65e1c03b4aa3499c5328201f1"
   }
  }
 },
 "nbformat": 4,
 "nbformat_minor": 2
}
