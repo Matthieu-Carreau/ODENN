{
 "cells": [
  {
   "cell_type": "markdown",
   "metadata": {},
   "source": [
    "Notebook correspondant à la section 3.2 du rapport, pour la résolution des équations couplées de la précession de Larmor :\n",
    "\\begin{equation}\n",
    "\\left\\{\n",
    "    \\begin{aligned}\n",
    "        \\frac{dM_x}{dt} &= \\omega M_y \\\\\n",
    "        \\frac{dM_y}{dt} &= -\\omega M_x\n",
    "    \\end{aligned}\n",
    "\\right.\n",
    "\\end{equation}"
   ]
  },
  {
   "cell_type": "code",
   "execution_count": 1,
   "metadata": {},
   "outputs": [],
   "source": [
    "#imports\n",
    "import numpy as np\n",
    "import tensorflow as tf\n",
    "import matplotlib.pyplot as plt\n",
    "from mpl_toolkits.mplot3d import Axes3D"
   ]
  },
  {
   "cell_type": "markdown",
   "metadata": {},
   "source": [
    "Physical parameters"
   ]
  },
  {
   "cell_type": "code",
   "execution_count": 2,
   "metadata": {},
   "outputs": [
    {
     "name": "stderr",
     "output_type": "stream",
     "text": [
      "2022-07-27 17:05:37.750277: I tensorflow/core/platform/cpu_feature_guard.cc:193] This TensorFlow binary is optimized with oneAPI Deep Neural Network Library (oneDNN) to use the following CPU instructions in performance-critical operations:  AVX2 FMA\n",
      "To enable them in other operations, rebuild TensorFlow with the appropriate compiler flags.\n"
     ]
    }
   ],
   "source": [
    "M_z0 = tf.constant(0, dtype='float32')\n",
    "W = 2*np.pi\n",
    "lamb = 0.3\n",
    "\n",
    "t_a = -1\n",
    "t_b = 1\n",
    "\n",
    "t_0 = 0"
   ]
  },
  {
   "cell_type": "markdown",
   "metadata": {},
   "source": [
    "Defining the ODE : this function returns the value expected of the derivative, given the independant variable and the value of the function."
   ]
  },
  {
   "cell_type": "code",
   "execution_count": 3,
   "metadata": {},
   "outputs": [],
   "source": [
    "def ODE(T, Mz, lamb, W) :\n",
    "    return lamb*W*(Mz**2-1)\n",
    "    #return -tf.cos(W*T)"
   ]
  },
  {
   "cell_type": "markdown",
   "metadata": {},
   "source": [
    "Training parameters"
   ]
  },
  {
   "cell_type": "code",
   "execution_count": 17,
   "metadata": {},
   "outputs": [],
   "source": [
    "N = 20 #number of samples for the independant variable\n",
    "training_points = np.linspace(t_a,t_b,N)\n",
    "training_points = tf.convert_to_tensor(training_points, dtype=tf.float32)\n",
    "#training_points = tf.constant(training_points, dtype=tf.float32)\n",
    "\n",
    "load_model = False\n",
    "load_filename = \"models/2_NN_direct_training_N=10\"\n",
    "save_model = False\n",
    "save_filename = \"models/2_NN_direct_training_N=100\"\n",
    "learning_rate = 5e-3\n",
    "epochs = 10000\n",
    "display_step = 500#min(max(1,epochs//100), 1000)"
   ]
  },
  {
   "cell_type": "markdown",
   "metadata": {},
   "source": [
    "Initializing the network"
   ]
  },
  {
   "cell_type": "code",
   "execution_count": 18,
   "metadata": {},
   "outputs": [],
   "source": [
    "# Network Parameters\n",
    "n_input = 1     # input layer number of neurons\n",
    "n_hidden_1 = 4 # 1st layer number of neurons\n",
    "#n_hidden_2 = 8  # 2nd layer number of neurons\n",
    "n_output = 1    # output layer number of neurons\n",
    "\n",
    "tf.random.set_seed(24514)\n",
    "\n",
    "#model definition :\n",
    "model = tf.keras.Sequential([\n",
    "  tf.keras.layers.Dense(n_hidden_1, activation=tf.nn.sigmoid, input_shape=(n_input,)),  # input shape required\n",
    "  #tf.keras.layers.Dense(n_hidden_2, activation=tf.nn.sigmoid),\n",
    "  tf.keras.layers.Dense(n_output)\n",
    "])\n",
    "\n",
    "if load_model :\n",
    "    model = tf.keras.models.load_model(load_filename)\n",
    "\n",
    "optimizer = tf.keras.optimizers.SGD(learning_rate=learning_rate)"
   ]
  },
  {
   "cell_type": "markdown",
   "metadata": {},
   "source": [
    "Loss function\n",
    "https://www.tensorflow.org/versions/r2.0/api_docs/python/tf/GradientTape\n"
   ]
  },
  {
   "cell_type": "code",
   "execution_count": 6,
   "metadata": {},
   "outputs": [],
   "source": [
    "def loss_function(model, input_tensor, M_z0, lamb, W, print_variables = False):\n",
    "\n",
    "    with tf.GradientTape(persistent=True) as tape:\n",
    "        tape.watch(input_tensor)\n",
    "        output = model(input_tensor, training=False)\n",
    "        Mz = M_z0+input_tensor*output[:,0]\n",
    "\n",
    "    dMz = tape.gradient(Mz, input_tensor)\n",
    "\n",
    "    e = dMz - ODE(input_tensor, Mz, lamb, W)\n",
    "    \n",
    "    if print_variables:\n",
    "        print(\"Mz\", Mz.numpy())\n",
    "        print(\"dMz\", dMz.numpy())\n",
    "        print(\"ODE\", ODE(input_tensor, Mz, lamb, W).numpy())\n",
    "        print(\"e\", e.numpy())\n",
    "        print(\"e**2\", (e**2).numpy())\n",
    "        print(\"error\", tf.reduce_mean(e**2).numpy())\n",
    "\n",
    "        w_list = [w.numpy() for w in model.layers[0].weights[0][0]]\n",
    "        print(\"\\nw :\",w_list)\n",
    "        print(\"\\nw :\",model.layers[0].weights[0])\n",
    "        print(\"b :\",model.layers[0].bias.numpy())\n",
    "        v_list = [v.numpy() for v in tf.reshape(model.layers[1].weights[0], (n_hidden_1))]\n",
    "        print(\"v :\",v_list)\n",
    "        print(\"v :\",model.layers[1].weights[0])\n",
    "        print(\"b2 :\",model.layers[1].bias.numpy())\n",
    "    \n",
    "\n",
    "\n",
    "    return tf.reduce_mean(e**2)"
   ]
  },
  {
   "cell_type": "markdown",
   "metadata": {},
   "source": [
    "Gradient of loss"
   ]
  },
  {
   "cell_type": "code",
   "execution_count": 7,
   "metadata": {},
   "outputs": [],
   "source": [
    "def grad(model, input_tensor, M_z0, lamb, W):\n",
    "    with tf.GradientTape() as tape2: #watch_accessed_variables=True, persistent = True\n",
    "        #tape2.watch(input_tensor)\n",
    "        loss_value = loss_function(model, input_tensor, M_z0, lamb, W, print_variables = False)\n",
    "        \n",
    "\n",
    "    gradient = tape2.gradient(loss_value, model.trainable_variables)\n",
    "    #jacobian = tape2.jacobian(loss_value, model.trainable_variables)\n",
    "    #batch_jacobian = tape2.batch_jacobian(loss_value, model.trainable_variables)\n",
    "    \"\"\"\n",
    "    print(\"Grad w\",gradient[0].numpy())\n",
    "    print(\"Grad b\",gradient[1].numpy())\n",
    "    print(\"Grad v\",gradient[2].numpy())\n",
    "    print(\"Grad b2\",gradient[3].numpy())\n",
    "\n",
    "    print(\"jacobian w\",jacobian[0].numpy())\n",
    "    print(\"jacobian b\",jacobian[1].numpy())\n",
    "    print(\"jacobian v\",jacobian[2].numpy())\n",
    "    print(\"jacobian b2\",jacobian[3].numpy())\n",
    "    \"\"\"\n",
    "    #print(\"batch_jacobian\", batch_jacobian)\n",
    "\n",
    "\n",
    "    \n",
    "\n",
    "    return loss_value, gradient"
   ]
  },
  {
   "cell_type": "code",
   "execution_count": 8,
   "metadata": {},
   "outputs": [],
   "source": [
    "def numerical_grad_w(model, input_tensor, M_z0, lamb, W, eps = 1e-4) :\n",
    "    loss_value = loss_function(model, input_tensor, M_z0, lamb, W)\n",
    "    grad_w = []\n",
    "    original_weights = model.layers[0].weights[0] + 0\n",
    "    print(\"\\noriginal_weights\", original_weights)\n",
    "    for i in range(n_hidden_1) :\n",
    "        eps_vect = tf.constant([[0]*i+[eps]+[0]*(n_hidden_1-i-1)], dtype=tf.float32)\n",
    "        print(\"Loss found for eps_vect\",eps_vect.numpy(), \":\")\n",
    "        model.layers[0].weights[0].assign(original_weights+eps_vect)\n",
    "        loss_eps = loss_function(model, input_tensor, M_z0, lamb, W)\n",
    "        grad_w.append(((loss_eps-loss_value)/eps).numpy())\n",
    "        print(\"Loss:\", loss_eps.numpy(), \", grad_w[\",i,\"] :\", ((loss_eps-loss_value)/eps).numpy())\n",
    "        model.layers[0].weights[0].assign(original_weights)\n",
    "    print(\"weights probably not modified\", model.layers[0].weights[0])\n",
    "    return grad_w"
   ]
  },
  {
   "cell_type": "markdown",
   "metadata": {},
   "source": [
    "Training the neural network"
   ]
  },
  {
   "cell_type": "code",
   "execution_count": 26,
   "metadata": {},
   "outputs": [
    {
     "name": "stdout",
     "output_type": "stream",
     "text": [
      "Loss after 0 / 10000 epochs : 0.0034103612\n",
      "Loss after 500 / 10000 epochs : 0.0031414859\n",
      "Loss after 1000 / 10000 epochs : 0.002901318\n",
      "Loss after 1500 / 10000 epochs : 0.0026870887\n",
      "Loss after 2000 / 10000 epochs : 0.0024961466\n",
      "Loss after 2500 / 10000 epochs : 0.0023261597\n",
      "Loss after 3000 / 10000 epochs : 0.0021748669\n",
      "Loss after 3500 / 10000 epochs : 0.0020403157\n",
      "Loss after 4000 / 10000 epochs : 0.0019206135\n",
      "Loss after 4500 / 10000 epochs : 0.0018141288\n",
      "Loss after 5000 / 10000 epochs : 0.0017193903\n",
      "Loss after 5500 / 10000 epochs : 0.00163508\n",
      "Loss after 6000 / 10000 epochs : 0.0015599702\n",
      "Loss after 6500 / 10000 epochs : 0.0014930526\n",
      "Loss after 7000 / 10000 epochs : 0.0014333387\n",
      "Loss after 7500 / 10000 epochs : 0.0013800461\n",
      "Loss after 8000 / 10000 epochs : 0.0013323759\n",
      "Loss after 8500 / 10000 epochs : 0.0012897045\n",
      "Loss after 9000 / 10000 epochs : 0.0012514443\n",
      "Loss after 9500 / 10000 epochs : 0.0012170621\n",
      "Final loss after 10000 epochs : 0.0011861261\n"
     ]
    }
   ],
   "source": [
    "\n",
    "losses = []\n",
    "epochs_displayed = []\n",
    "\n",
    "for epoch in range(epochs) :\n",
    "    loss_value, grads = grad(model, training_points, M_z0, lamb, W)\n",
    "    optimizer.apply_gradients(zip(grads, model.trainable_variables))\n",
    "\n",
    "    if epoch % display_step == 0 :\n",
    "        print(\"Loss after\",epoch,\"/\",epochs,\"epochs :\",loss_value.numpy())\n",
    "        losses.append(loss_value.numpy())\n",
    "        epochs_displayed.append(epoch)\n",
    "\n",
    "loss_value, grads = grad(model, training_points, M_z0, lamb, W)\n",
    "#print(\"num grad_w\",numerical_grad_w(model, training_points, M_z0, lamb, W))\n",
    "print(\"Final loss after\",epochs,\"epochs :\",loss_value.numpy())\n",
    "losses.append(loss_value.numpy())\n",
    "epochs_displayed.append(epochs)"
   ]
  },
  {
   "cell_type": "code",
   "execution_count": null,
   "metadata": {},
   "outputs": [],
   "source": [
    "if save_model :\n",
    "    model.save(save_filename)"
   ]
  },
  {
   "cell_type": "markdown",
   "metadata": {},
   "source": [
    "Plot the evolution of loss"
   ]
  },
  {
   "cell_type": "code",
   "execution_count": 27,
   "metadata": {},
   "outputs": [
    {
     "data": {
      "image/png": "[encoded data removed]",
      "text/plain": [
       "<Figure size 432x288 with 1 Axes>"
      ]
     },
     "metadata": {
      "needs_background": "light"
     },
     "output_type": "display_data"
    }
   ],
   "source": [
    "plt.plot(epochs_displayed, losses)\n",
    "plt.yscale('log')\n",
    "plt.show()"
   ]
  },
  {
   "cell_type": "markdown",
   "metadata": {},
   "source": [
    "Compute the analytic solution"
   ]
  },
  {
   "cell_type": "code",
   "execution_count": 28,
   "metadata": {},
   "outputs": [],
   "source": [
    "def analytic(T, M_z0, lamb, W) :\n",
    "    K = (M_z0-1) / (M_z0+1)\n",
    "    Kexp = K*np.exp(2*lamb*W*T)\n",
    "    Mz_ana = (1+Kexp) / (1-Kexp)\n",
    "    return Mz_ana"
   ]
  },
  {
   "cell_type": "markdown",
   "metadata": {},
   "source": [
    "Plot the estimation and the analytic solution"
   ]
  },
  {
   "cell_type": "code",
   "execution_count": 29,
   "metadata": {},
   "outputs": [
    {
     "name": "stdout",
     "output_type": "stream",
     "text": [
      "Extreme values of output after : -1.8212092 -0.95277315\n"
     ]
    },
    {
     "data": {
      "image/png": "[encoded data removed]",
      "text/plain": [
       "<Figure size 432x288 with 1 Axes>"
      ]
     },
     "metadata": {
      "needs_background": "light"
     },
     "output_type": "display_data"
    }
   ],
   "source": [
    "#plot the estimation\n",
    "nb_plotting_points = 200\n",
    "plotting_points = np.linspace(t_a,t_b,nb_plotting_points)\n",
    "plotting_points = tf.convert_to_tensor(plotting_points, dtype=tf.float32)\n",
    "\n",
    "#neural network estimation\n",
    "output = model(plotting_points).numpy().reshape((nb_plotting_points))\n",
    "Mz_NN = M_z0 + (plotting_points-M_z0)*output\n",
    "\n",
    "\n",
    "print(\"Extreme values of output after :\",min(output), max(output))\n",
    "#analytic solution\n",
    "Mz_ana = analytic(plotting_points, M_z0, lamb, W)\n",
    "\n",
    "#training points\n",
    "Mz_ana_training = analytic(training_points, M_z0, lamb, W)\n",
    "\n",
    "\n",
    "plt.plot(plotting_points, Mz_NN, label='solution approchée')\n",
    "plt.plot(plotting_points, Mz_ana, label='solution exacte')\n",
    "plt.scatter(training_points, Mz_ana_training, label=\"points d'entraînement\", color='red')\n",
    "\n",
    "plt.legend()\n",
    "plt.title('résolution par réseau de neurones')\n",
    "plt.show()\n"
   ]
  }
 ],
 "metadata": {
  "kernelspec": {
   "display_name": "Python 3.8.10 64-bit",
   "language": "python",
   "name": "python3"
  },
  "language_info": {
   "codemirror_mode": {
    "name": "ipython",
    "version": 3
   },
   "file_extension": ".py",
   "mimetype": "text/x-python",
   "name": "python",
   "nbconvert_exporter": "python",
   "pygments_lexer": "ipython3",
   "version": "3.8.10"
  },
  "orig_nbformat": 4,
  "vscode": {
   "interpreter": {
    "hash": "916dbcbb3f70747c44a77c7bcd40155683ae19c65e1c03b4aa3499c5328201f1"
   }
  }
 },
 "nbformat": 4,
 "nbformat_minor": 2
}
